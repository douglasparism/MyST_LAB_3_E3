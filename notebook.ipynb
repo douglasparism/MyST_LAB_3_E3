{
 "cells": [
  {
   "cell_type": "markdown",
   "metadata": {},
   "source": [
    "<center> <img src=\"http://oci02.img.iteso.mx/identidad_de_instancia_2018/ITESO/Logos%20ITESO/Logo-ITESO-Principal.jpg\" align=\"center\" width=\"960\" height=\"480\"/> </center>"
   ]
  },
  {
   "cell_type": "markdown",
   "metadata": {},
   "source": [
    "<center><font color=#555555><font size=6> MAF1731 - Microstructure and Trading Systems </font> <br> <br>\n",
    "    \n",
    "<center><font color=#555555><font size=5> B.Eng Financial Engineering </font> <br> <br> <br> <br>\n",
    "<center><font color=#555555><font size=3> Giusti Gutiérrez Ana Paula </font> <br> <br>\n",
    "<center><font color=#555555><font size=3> Rivera Sahagun Juan Pablo </font> <br> <br>\n",
    "<center><font color=#555555><font size=3> Paris Merin Douglas Fabián </font> <br> <br>\n",
    "\n",
    "   \n",
    "<center> <font color= #555555> <font size = 4> October 2021 </a> | <font color= #555555> <font size = 4> Repository: <a href='https://github.com/douglasparism/MyST_LAB_3_E3'>Link</a></font>"
   ]
  },
  {
   "cell_type": "markdown",
   "metadata": {},
   "source": [
    "<hr style=\"border:0.02in solid gray\"> </hr>"
   ]
  },
  {
   "cell_type": "markdown",
   "metadata": {},
   "source": [
    "<center> <font color= #555555> <font size = 6> Lab 3 </font> <br> <br> <font color= #555555> <font size = 5> Metrics and Behavioral Finance  </font>"
   ]
  },
  {
   "cell_type": "markdown",
   "metadata": {},
   "source": [
    "<hr style=\"border:0.02in solid gray\"> </hr>"
   ]
  },
  {
   "cell_type": "markdown",
   "metadata": {},
   "source": [
    "<br>"
   ]
  },
  {
   "cell_type": "markdown",
   "metadata": {},
   "source": [
    "<font color= #555555> <font size = 4> Abstract </font>"
   ]
  },
  {
   "cell_type": "markdown",
   "metadata": {},
   "source": [
    "<font color= #6B6B6B> <font size = 3>  Include here a description of the whole work, use no more than 400 words, you can use **Bold** and *Italic* highlights, also you can inclue [links](www.iteso.mx). Usually is a good strategy to generate this text at the very end of the process, since you have to include all aspects of the work, from a brief introduction, to problem definitions and methods used, to finally the results found. </font>"
   ]
  },
  {
   "cell_type": "markdown",
   "metadata": {},
   "source": [
    "<br>"
   ]
  },
  {
   "cell_type": "markdown",
   "metadata": {},
   "source": [
    "# <font color= #6B6B6B> <font size = 6> 1. Introduction </font>"
   ]
  },
  {
   "cell_type": "markdown",
   "metadata": {},
   "source": [
    "<hr style=\"border:0.02in solid gray\"> </hr>"
   ]
  },
  {
   "cell_type": "markdown",
   "metadata": {},
   "source": [
    "This is an introduction, normally, it is done at the very end, when all the other content in the notebook is completed but just before the abstract (which is short version of the introduction) ... "
   ]
  },
  {
   "cell_type": "markdown",
   "metadata": {},
   "source": [
    "<br>"
   ]
  },
  {
   "cell_type": "markdown",
   "metadata": {},
   "source": [
    "# <font color= #6B6B6B> 2. Install/Load Packages and Depedencies </font>"
   ]
  },
  {
   "cell_type": "markdown",
   "metadata": {},
   "source": [
    "<hr style=\"border:0.02in solid gray\"> </hr>"
   ]
  },
  {
   "cell_type": "markdown",
   "metadata": {},
   "source": [
    "<br>"
   ]
  },
  {
   "cell_type": "markdown",
   "metadata": {},
   "source": [
    "## <font color= #6B6B6B> 2.1 Python Packages </font> <font color= #555555>"
   ]
  },
  {
   "cell_type": "markdown",
   "metadata": {},
   "source": [
    "In order to run this notebook, it is necessary to have installed and/or have the _requirements.txt_ file with the following: "
   ]
  },
  {
   "cell_type": "markdown",
   "metadata": {},
   "source": [
    "- pandas>=1.1.1 \n",
    "- numpy>=1.19.1\n",
    "- jupyter>=1.0.0\n",
    "- yfinance~=0.1.63\n",
    "- MetaTrader5~=5.0.34\n",
    "- Some others that can be used."
   ]
  },
  {
   "cell_type": "markdown",
   "metadata": {},
   "source": [
    "## <font color= #6B6B6B> 2.2 Files Dependencies </font> <font color= #555555>"
   ]
  },
  {
   "cell_type": "markdown",
   "metadata": {},
   "source": [
    "The following are the file dependencies that are needed to run this notebook:"
   ]
  },
  {
   "cell_type": "markdown",
   "metadata": {},
   "source": [
    "- files/History5400732.xlsx : Student Operations History 1\n",
    "- files/History5401437.xlsx : Student Operations History 2\n",
    "- files/df_hist_5401675.csv : Student Operations History 3\n",
    "- files/instruments_pips.csv : Data base with pips of a list of instrument"
   ]
  },
  {
   "cell_type": "markdown",
   "metadata": {},
   "source": [
    "## <font color= #6E6E6E> 2.3 Install Packages</font>"
   ]
  },
  {
   "cell_type": "code",
   "execution_count": 26,
   "metadata": {},
   "outputs": [],
   "source": [
    "%%capture\n",
    "\n",
    "# Install all the pip packages in the requirements.txt\n",
    "import sys\n",
    "!{sys.executable} -m pip install -r requirements.txt"
   ]
  },
  {
   "cell_type": "code",
   "execution_count": 27,
   "metadata": {},
   "outputs": [],
   "source": [
    "import functions as fn\n",
    "import sys\n",
    "import data as dt\n",
    "import datetime"
   ]
  },
  {
   "cell_type": "code",
   "execution_count": 28,
   "metadata": {},
   "outputs": [],
   "source": [
    "data_ini_1 = dt.f_leer_archivo(param_estudiante=1)\n",
    "data_ini_2 = dt.f_leer_archivo(param_estudiante=2)\n",
    "data_ini_3 = dt.f_leer_archivo(param_estudiante=3)"
   ]
  },
  {
   "cell_type": "code",
   "execution_count": 4,
   "metadata": {},
   "outputs": [
    {
     "data": {
      "text/html": [
       "<div>\n",
       "<style scoped>\n",
       "    .dataframe tbody tr th:only-of-type {\n",
       "        vertical-align: middle;\n",
       "    }\n",
       "\n",
       "    .dataframe tbody tr th {\n",
       "        vertical-align: top;\n",
       "    }\n",
       "\n",
       "    .dataframe thead th {\n",
       "        text-align: right;\n",
       "    }\n",
       "</style>\n",
       "<table border=\"1\" class=\"dataframe\">\n",
       "  <thead>\n",
       "    <tr style=\"text-align: right;\">\n",
       "      <th></th>\n",
       "      <th>Unnamed: 0</th>\n",
       "      <th>OpenTime</th>\n",
       "      <th>Symbol</th>\n",
       "      <th>Ticket</th>\n",
       "      <th>Type</th>\n",
       "      <th>Volume</th>\n",
       "      <th>OpenPrice</th>\n",
       "      <th>S/L</th>\n",
       "      <th>T/P</th>\n",
       "      <th>CloseTime</th>\n",
       "      <th>ClosePrice</th>\n",
       "      <th>Profit</th>\n",
       "    </tr>\n",
       "  </thead>\n",
       "  <tbody>\n",
       "    <tr>\n",
       "      <th>0</th>\n",
       "      <td>0</td>\n",
       "      <td>2021-09-22 05:28:08</td>\n",
       "      <td>BTCUSD</td>\n",
       "      <td>45458917</td>\n",
       "      <td>0</td>\n",
       "      <td>0.23</td>\n",
       "      <td>42127.15</td>\n",
       "      <td>40139.0</td>\n",
       "      <td>42496.76</td>\n",
       "      <td>2021-09-22 05:28:17</td>\n",
       "      <td>42010.08</td>\n",
       "      <td>-26.93</td>\n",
       "    </tr>\n",
       "    <tr>\n",
       "      <th>1</th>\n",
       "      <td>2</td>\n",
       "      <td>2021-09-22 05:30:14</td>\n",
       "      <td>BTCUSD</td>\n",
       "      <td>45458934</td>\n",
       "      <td>0</td>\n",
       "      <td>0.23</td>\n",
       "      <td>42060.66</td>\n",
       "      <td>40143.0</td>\n",
       "      <td>42496.76</td>\n",
       "      <td>2021-09-22 10:43:00</td>\n",
       "      <td>42501.69</td>\n",
       "      <td>101.44</td>\n",
       "    </tr>\n",
       "    <tr>\n",
       "      <th>2</th>\n",
       "      <td>4</td>\n",
       "      <td>2021-09-22 17:27:04</td>\n",
       "      <td>BTCUSD</td>\n",
       "      <td>45470462</td>\n",
       "      <td>0</td>\n",
       "      <td>0.24</td>\n",
       "      <td>42599.23</td>\n",
       "      <td>0.0</td>\n",
       "      <td>0.00</td>\n",
       "      <td>2021-09-22 17:27:55</td>\n",
       "      <td>43025.30</td>\n",
       "      <td>106.91</td>\n",
       "    </tr>\n",
       "    <tr>\n",
       "      <th>3</th>\n",
       "      <td>7</td>\n",
       "      <td>2021-09-23 04:09:17</td>\n",
       "      <td>BTCUSD</td>\n",
       "      <td>45483777</td>\n",
       "      <td>1</td>\n",
       "      <td>0.23</td>\n",
       "      <td>43179.98</td>\n",
       "      <td>44046.0</td>\n",
       "      <td>42790.00</td>\n",
       "      <td>2021-09-23 06:24:19</td>\n",
       "      <td>44050.76</td>\n",
       "      <td>-200.28</td>\n",
       "    </tr>\n",
       "    <tr>\n",
       "      <th>4</th>\n",
       "      <td>9</td>\n",
       "      <td>2021-09-24 21:22:51</td>\n",
       "      <td>BTCUSD</td>\n",
       "      <td>45524436</td>\n",
       "      <td>0</td>\n",
       "      <td>0.23</td>\n",
       "      <td>42255.15</td>\n",
       "      <td>40304.0</td>\n",
       "      <td>43135.80</td>\n",
       "      <td>2021-09-25 00:39:11</td>\n",
       "      <td>43153.89</td>\n",
       "      <td>206.71</td>\n",
       "    </tr>\n",
       "  </tbody>\n",
       "</table>\n",
       "</div>"
      ],
      "text/plain": [
       "   Unnamed: 0            OpenTime  Symbol    Ticket  Type  Volume  OpenPrice  \\\n",
       "0           0 2021-09-22 05:28:08  BTCUSD  45458917     0    0.23   42127.15   \n",
       "1           2 2021-09-22 05:30:14  BTCUSD  45458934     0    0.23   42060.66   \n",
       "2           4 2021-09-22 17:27:04  BTCUSD  45470462     0    0.24   42599.23   \n",
       "3           7 2021-09-23 04:09:17  BTCUSD  45483777     1    0.23   43179.98   \n",
       "4           9 2021-09-24 21:22:51  BTCUSD  45524436     0    0.23   42255.15   \n",
       "\n",
       "       S/L       T/P           CloseTime  ClosePrice  Profit  \n",
       "0  40139.0  42496.76 2021-09-22 05:28:17    42010.08  -26.93  \n",
       "1  40143.0  42496.76 2021-09-22 10:43:00    42501.69  101.44  \n",
       "2      0.0      0.00 2021-09-22 17:27:55    43025.30  106.91  \n",
       "3  44046.0  42790.00 2021-09-23 06:24:19    44050.76 -200.28  \n",
       "4  40304.0  43135.80 2021-09-25 00:39:11    43153.89  206.71  "
      ]
     },
     "execution_count": 4,
     "metadata": {},
     "output_type": "execute_result"
    }
   ],
   "source": [
    "data_ini_1"
   ]
  },
  {
   "cell_type": "code",
   "execution_count": 6,
   "metadata": {},
   "outputs": [
    {
     "data": {
      "text/html": [
       "<div>\n",
       "<style scoped>\n",
       "    .dataframe tbody tr th:only-of-type {\n",
       "        vertical-align: middle;\n",
       "    }\n",
       "\n",
       "    .dataframe tbody tr th {\n",
       "        vertical-align: top;\n",
       "    }\n",
       "\n",
       "    .dataframe thead th {\n",
       "        text-align: right;\n",
       "    }\n",
       "</style>\n",
       "<table border=\"1\" class=\"dataframe\">\n",
       "  <thead>\n",
       "    <tr style=\"text-align: right;\">\n",
       "      <th></th>\n",
       "      <th>Unnamed: 0</th>\n",
       "      <th>OpenTime</th>\n",
       "      <th>Symbol</th>\n",
       "      <th>Ticket</th>\n",
       "      <th>Type</th>\n",
       "      <th>Volume</th>\n",
       "      <th>OpenPrice</th>\n",
       "      <th>S/L</th>\n",
       "      <th>T/P</th>\n",
       "      <th>CloseTime</th>\n",
       "      <th>ClosePrice</th>\n",
       "      <th>Profit</th>\n",
       "    </tr>\n",
       "  </thead>\n",
       "  <tbody>\n",
       "    <tr>\n",
       "      <th>0</th>\n",
       "      <td>1</td>\n",
       "      <td>2021-09-20 21:38:54</td>\n",
       "      <td>GBPUSD</td>\n",
       "      <td>45426490</td>\n",
       "      <td>0</td>\n",
       "      <td>0.1</td>\n",
       "      <td>1.36482</td>\n",
       "      <td>1.34191</td>\n",
       "      <td>1.41691</td>\n",
       "      <td>2021-09-21 18:10:07</td>\n",
       "      <td>1.36541</td>\n",
       "      <td>5.90</td>\n",
       "    </tr>\n",
       "    <tr>\n",
       "      <th>1</th>\n",
       "      <td>2</td>\n",
       "      <td>2021-09-21 18:06:22</td>\n",
       "      <td>EURUSD</td>\n",
       "      <td>45448836</td>\n",
       "      <td>1</td>\n",
       "      <td>0.1</td>\n",
       "      <td>1.17224</td>\n",
       "      <td>1.17272</td>\n",
       "      <td>1.17072</td>\n",
       "      <td>2021-09-21 19:23:28</td>\n",
       "      <td>1.17271</td>\n",
       "      <td>-4.70</td>\n",
       "    </tr>\n",
       "    <tr>\n",
       "      <th>2</th>\n",
       "      <td>3</td>\n",
       "      <td>2021-09-22 17:22:53</td>\n",
       "      <td>AUDUSD</td>\n",
       "      <td>45470330</td>\n",
       "      <td>1</td>\n",
       "      <td>0.2</td>\n",
       "      <td>0.72540</td>\n",
       "      <td>0.73067</td>\n",
       "      <td>0.71567</td>\n",
       "      <td>2021-09-23 16:47:35</td>\n",
       "      <td>0.73067</td>\n",
       "      <td>-105.40</td>\n",
       "    </tr>\n",
       "    <tr>\n",
       "      <th>3</th>\n",
       "      <td>4</td>\n",
       "      <td>2021-09-23 16:58:56</td>\n",
       "      <td>USDCAD</td>\n",
       "      <td>45498648</td>\n",
       "      <td>0</td>\n",
       "      <td>0.1</td>\n",
       "      <td>1.26548</td>\n",
       "      <td>1.26062</td>\n",
       "      <td>1.27189</td>\n",
       "      <td>2021-09-24 05:42:33</td>\n",
       "      <td>1.26699</td>\n",
       "      <td>11.92</td>\n",
       "    </tr>\n",
       "    <tr>\n",
       "      <th>4</th>\n",
       "      <td>5</td>\n",
       "      <td>2021-09-24 19:23:01</td>\n",
       "      <td>NZDUSD</td>\n",
       "      <td>45522977</td>\n",
       "      <td>0</td>\n",
       "      <td>0.1</td>\n",
       "      <td>0.70234</td>\n",
       "      <td>0.70024</td>\n",
       "      <td>70507.00000</td>\n",
       "      <td>2021-09-24 23:56:35</td>\n",
       "      <td>0.70010</td>\n",
       "      <td>-22.40</td>\n",
       "    </tr>\n",
       "  </tbody>\n",
       "</table>\n",
       "</div>"
      ],
      "text/plain": [
       "   Unnamed: 0            OpenTime  Symbol    Ticket  Type  Volume  OpenPrice  \\\n",
       "0           1 2021-09-20 21:38:54  GBPUSD  45426490     0     0.1    1.36482   \n",
       "1           2 2021-09-21 18:06:22  EURUSD  45448836     1     0.1    1.17224   \n",
       "2           3 2021-09-22 17:22:53  AUDUSD  45470330     1     0.2    0.72540   \n",
       "3           4 2021-09-23 16:58:56  USDCAD  45498648     0     0.1    1.26548   \n",
       "4           5 2021-09-24 19:23:01  NZDUSD  45522977     0     0.1    0.70234   \n",
       "\n",
       "       S/L          T/P           CloseTime  ClosePrice  Profit  \n",
       "0  1.34191      1.41691 2021-09-21 18:10:07     1.36541    5.90  \n",
       "1  1.17272      1.17072 2021-09-21 19:23:28     1.17271   -4.70  \n",
       "2  0.73067      0.71567 2021-09-23 16:47:35     0.73067 -105.40  \n",
       "3  1.26062      1.27189 2021-09-24 05:42:33     1.26699   11.92  \n",
       "4  0.70024  70507.00000 2021-09-24 23:56:35     0.70010  -22.40  "
      ]
     },
     "execution_count": 6,
     "metadata": {},
     "output_type": "execute_result"
    }
   ],
   "source": [
    "data_ini_2"
   ]
  },
  {
   "cell_type": "code",
   "execution_count": 5,
   "metadata": {},
   "outputs": [
    {
     "data": {
      "text/html": [
       "<div>\n",
       "<style scoped>\n",
       "    .dataframe tbody tr th:only-of-type {\n",
       "        vertical-align: middle;\n",
       "    }\n",
       "\n",
       "    .dataframe tbody tr th {\n",
       "        vertical-align: top;\n",
       "    }\n",
       "\n",
       "    .dataframe thead th {\n",
       "        text-align: right;\n",
       "    }\n",
       "</style>\n",
       "<table border=\"1\" class=\"dataframe\">\n",
       "  <thead>\n",
       "    <tr style=\"text-align: right;\">\n",
       "      <th></th>\n",
       "      <th>Unnamed: 0</th>\n",
       "      <th>OpenTime</th>\n",
       "      <th>Symbol</th>\n",
       "      <th>Ticket</th>\n",
       "      <th>Type</th>\n",
       "      <th>Volume</th>\n",
       "      <th>OpenPrice</th>\n",
       "      <th>S/L</th>\n",
       "      <th>T/P</th>\n",
       "      <th>CloseTime</th>\n",
       "      <th>ClosePrice</th>\n",
       "      <th>Profit</th>\n",
       "    </tr>\n",
       "  </thead>\n",
       "  <tbody>\n",
       "    <tr>\n",
       "      <th>0</th>\n",
       "      <td>0</td>\n",
       "      <td>2021-09-21 04:36:26</td>\n",
       "      <td>EURUSD</td>\n",
       "      <td>45431784</td>\n",
       "      <td>1</td>\n",
       "      <td>0.10</td>\n",
       "      <td>1.172670</td>\n",
       "      <td>1.17370</td>\n",
       "      <td>1.16980</td>\n",
       "      <td>2021-09-21 04:57:00</td>\n",
       "      <td>1.1737</td>\n",
       "      <td>-10.40</td>\n",
       "    </tr>\n",
       "    <tr>\n",
       "      <th>1</th>\n",
       "      <td>2</td>\n",
       "      <td>2021-09-22 06:36:42</td>\n",
       "      <td>EURUSD</td>\n",
       "      <td>45459384</td>\n",
       "      <td>0</td>\n",
       "      <td>0.25</td>\n",
       "      <td>1.172310</td>\n",
       "      <td>1.16211</td>\n",
       "      <td>1.18220</td>\n",
       "      <td>2021-09-22 21:36:26</td>\n",
       "      <td>0.0000</td>\n",
       "      <td>74.50</td>\n",
       "    </tr>\n",
       "    <tr>\n",
       "      <th>2</th>\n",
       "      <td>4</td>\n",
       "      <td>2021-09-23 06:01:16</td>\n",
       "      <td>EURUSD</td>\n",
       "      <td>45484785</td>\n",
       "      <td>0</td>\n",
       "      <td>0.50</td>\n",
       "      <td>1.170060</td>\n",
       "      <td>1.16186</td>\n",
       "      <td>1.77991</td>\n",
       "      <td>2021-09-23 15:57:25</td>\n",
       "      <td>0.0000</td>\n",
       "      <td>132.00</td>\n",
       "    </tr>\n",
       "    <tr>\n",
       "      <th>3</th>\n",
       "      <td>6</td>\n",
       "      <td>2021-09-23 16:03:02</td>\n",
       "      <td>USDCHF</td>\n",
       "      <td>45495654</td>\n",
       "      <td>0</td>\n",
       "      <td>0.70</td>\n",
       "      <td>1.370990</td>\n",
       "      <td>0.88129</td>\n",
       "      <td>0.95338</td>\n",
       "      <td>2021-09-24 23:01:56</td>\n",
       "      <td>0.0000</td>\n",
       "      <td>0.00</td>\n",
       "    </tr>\n",
       "    <tr>\n",
       "      <th>4</th>\n",
       "      <td>7</td>\n",
       "      <td>2021-09-23 16:08:36</td>\n",
       "      <td>GBPUSD</td>\n",
       "      <td>45496076</td>\n",
       "      <td>1</td>\n",
       "      <td>10.00</td>\n",
       "      <td>1.265510</td>\n",
       "      <td>1.42103</td>\n",
       "      <td>1.33297</td>\n",
       "      <td>2021-09-23 16:25:00</td>\n",
       "      <td>0.0000</td>\n",
       "      <td>957.05</td>\n",
       "    </tr>\n",
       "    <tr>\n",
       "      <th>5</th>\n",
       "      <td>9</td>\n",
       "      <td>2021-09-23 16:33:58</td>\n",
       "      <td>USDCAD</td>\n",
       "      <td>45497181</td>\n",
       "      <td>1</td>\n",
       "      <td>20.00</td>\n",
       "      <td>1.264810</td>\n",
       "      <td>1.28521</td>\n",
       "      <td>1.25619</td>\n",
       "      <td>2021-09-23 21:26:22</td>\n",
       "      <td>0.0000</td>\n",
       "      <td>1943.07</td>\n",
       "    </tr>\n",
       "    <tr>\n",
       "      <th>6</th>\n",
       "      <td>11</td>\n",
       "      <td>2021-09-23 21:31:00</td>\n",
       "      <td>USDCAD</td>\n",
       "      <td>45504414</td>\n",
       "      <td>0</td>\n",
       "      <td>0.70</td>\n",
       "      <td>0.923620</td>\n",
       "      <td>1.24462</td>\n",
       "      <td>1.27466</td>\n",
       "      <td>2021-09-24 05:11:08</td>\n",
       "      <td>0.0000</td>\n",
       "      <td>115.01</td>\n",
       "    </tr>\n",
       "    <tr>\n",
       "      <th>7</th>\n",
       "      <td>12</td>\n",
       "      <td>2021-09-23 21:41:07</td>\n",
       "      <td>USDJPY</td>\n",
       "      <td>45504470</td>\n",
       "      <td>1</td>\n",
       "      <td>25.00</td>\n",
       "      <td>110.216000</td>\n",
       "      <td>111.20600</td>\n",
       "      <td>109.72000</td>\n",
       "      <td>2021-09-28 06:25:44</td>\n",
       "      <td>111.2060</td>\n",
       "      <td>-22300.55</td>\n",
       "    </tr>\n",
       "    <tr>\n",
       "      <th>8</th>\n",
       "      <td>16</td>\n",
       "      <td>2021-09-29 20:21:17</td>\n",
       "      <td>USDCAD</td>\n",
       "      <td>45604366</td>\n",
       "      <td>1</td>\n",
       "      <td>75.00</td>\n",
       "      <td>1.276138</td>\n",
       "      <td>1.36050</td>\n",
       "      <td>1.25604</td>\n",
       "      <td>2021-09-30 05:59:52</td>\n",
       "      <td>0.0000</td>\n",
       "      <td>13765.90</td>\n",
       "    </tr>\n",
       "    <tr>\n",
       "      <th>9</th>\n",
       "      <td>20</td>\n",
       "      <td>2021-09-30 06:19:10</td>\n",
       "      <td>USDJPY</td>\n",
       "      <td>45610096</td>\n",
       "      <td>1</td>\n",
       "      <td>65.00</td>\n",
       "      <td>1.276138</td>\n",
       "      <td>114.82900</td>\n",
       "      <td>108.82400</td>\n",
       "      <td>2021-09-30 18:24:49</td>\n",
       "      <td>0.0000</td>\n",
       "      <td>17777.56</td>\n",
       "    </tr>\n",
       "  </tbody>\n",
       "</table>\n",
       "</div>"
      ],
      "text/plain": [
       "   Unnamed: 0            OpenTime  Symbol    Ticket  Type  Volume   OpenPrice  \\\n",
       "0           0 2021-09-21 04:36:26  EURUSD  45431784     1    0.10    1.172670   \n",
       "1           2 2021-09-22 06:36:42  EURUSD  45459384     0    0.25    1.172310   \n",
       "2           4 2021-09-23 06:01:16  EURUSD  45484785     0    0.50    1.170060   \n",
       "3           6 2021-09-23 16:03:02  USDCHF  45495654     0    0.70    1.370990   \n",
       "4           7 2021-09-23 16:08:36  GBPUSD  45496076     1   10.00    1.265510   \n",
       "5           9 2021-09-23 16:33:58  USDCAD  45497181     1   20.00    1.264810   \n",
       "6          11 2021-09-23 21:31:00  USDCAD  45504414     0    0.70    0.923620   \n",
       "7          12 2021-09-23 21:41:07  USDJPY  45504470     1   25.00  110.216000   \n",
       "8          16 2021-09-29 20:21:17  USDCAD  45604366     1   75.00    1.276138   \n",
       "9          20 2021-09-30 06:19:10  USDJPY  45610096     1   65.00    1.276138   \n",
       "\n",
       "         S/L        T/P           CloseTime  ClosePrice    Profit  \n",
       "0    1.17370    1.16980 2021-09-21 04:57:00      1.1737    -10.40  \n",
       "1    1.16211    1.18220 2021-09-22 21:36:26      0.0000     74.50  \n",
       "2    1.16186    1.77991 2021-09-23 15:57:25      0.0000    132.00  \n",
       "3    0.88129    0.95338 2021-09-24 23:01:56      0.0000      0.00  \n",
       "4    1.42103    1.33297 2021-09-23 16:25:00      0.0000    957.05  \n",
       "5    1.28521    1.25619 2021-09-23 21:26:22      0.0000   1943.07  \n",
       "6    1.24462    1.27466 2021-09-24 05:11:08      0.0000    115.01  \n",
       "7  111.20600  109.72000 2021-09-28 06:25:44    111.2060 -22300.55  \n",
       "8    1.36050    1.25604 2021-09-30 05:59:52      0.0000  13765.90  \n",
       "9  114.82900  108.82400 2021-09-30 18:24:49      0.0000  17777.56  "
      ]
     },
     "execution_count": 5,
     "metadata": {},
     "output_type": "execute_result"
    }
   ],
   "source": [
    "data_ini_3"
   ]
  },
  {
   "cell_type": "code",
   "execution_count": 29,
   "metadata": {},
   "outputs": [],
   "source": [
    "data_jp = fn.f_columnas_tiempos(data_ini_3)\n",
    "data_jp[\"mult\"] = data_jp.Symbol.map(lambda x: fn.f_pip_size(x))\n",
    "data_jp = fn.f_columnas_pips(data_jp)\n",
    "parte_1_jp = fn.f_estadisticas_ba(data_jp)\n",
    "parte_2_1_jp = fn.f_evolucion_capital(cap_ini=100000, operaciones=data_jp.copy())"
   ]
  },
  {
   "cell_type": "code",
   "execution_count": 20,
   "metadata": {},
   "outputs": [],
   "source": [
    "data_dou = fn.f_columnas_tiempos(data_ini_3)\n",
    "data_dou[\"mult\"] = data_dou.Symbol.map(lambda x: fn.f_pip_size(x))\n",
    "data_dou = fn.f_columnas_pips(data_dou)\n",
    "parte_1_dou = fn.f_estadisticas_ba(data_dou)\n",
    "\n",
    "parte_2_1_dou = fn.f_evolucion_capital(cap_ini=100000, operaciones=data_dou.copy())\n"
   ]
  },
  {
   "cell_type": "code",
   "execution_count": 30,
   "metadata": {},
   "outputs": [
    {
     "name": "stderr",
     "output_type": "stream",
     "text": [
      "Exception in thread Thread-10:\n",
      "Traceback (most recent call last):\n",
      "  File \"C:\\Users\\Juan Pablo\\Anaconda3\\lib\\threading.py\", line 917, in _bootstrap_inner\n",
      "    self.run()\n",
      "  File \"C:\\Users\\Juan Pablo\\Anaconda3\\lib\\threading.py\", line 865, in run\n",
      "    self._target(*self._args, **self._kwargs)\n",
      "  File \"C:\\Users\\Juan Pablo\\Anaconda3\\lib\\site-packages\\multitasking\\__init__.py\", line 102, in _run_via_pool\n",
      "    return callee(*args, **kwargs)\n",
      "  File \"C:\\Users\\Juan Pablo\\Anaconda3\\lib\\site-packages\\yfinance\\multi.py\", line 167, in _download_one_threaded\n",
      "    actions, period, interval, prepost, proxy, rounding)\n",
      "  File \"C:\\Users\\Juan Pablo\\Anaconda3\\lib\\site-packages\\yfinance\\multi.py\", line 182, in _download_one\n",
      "    rounding=rounding, many=True)\n",
      "  File \"C:\\Users\\Juan Pablo\\Anaconda3\\lib\\site-packages\\yfinance\\base.py\", line 156, in history\n",
      "    data = data.json()\n",
      "  File \"C:\\Users\\Juan Pablo\\Anaconda3\\lib\\site-packages\\requests\\models.py\", line 897, in json\n",
      "    return complexjson.loads(self.text, **kwargs)\n",
      "  File \"C:\\Users\\Juan Pablo\\Anaconda3\\lib\\json\\__init__.py\", line 348, in loads\n",
      "    return _default_decoder.decode(s)\n",
      "  File \"C:\\Users\\Juan Pablo\\Anaconda3\\lib\\json\\decoder.py\", line 337, in decode\n",
      "    obj, end = self.raw_decode(s, idx=_w(s, 0).end())\n",
      "  File \"C:\\Users\\Juan Pablo\\Anaconda3\\lib\\json\\decoder.py\", line 355, in raw_decode\n",
      "    raise JSONDecodeError(\"Expecting value\", s, err.value) from None\n",
      "json.decoder.JSONDecodeError: Expecting value: line 1 column 1 (char 0)\n",
      "\n"
     ]
    },
    {
     "ename": "KeyboardInterrupt",
     "evalue": "",
     "output_type": "error",
     "traceback": [
      "\u001B[1;31m---------------------------------------------------------------------------\u001B[0m",
      "\u001B[1;31mKeyboardInterrupt\u001B[0m                         Traceback (most recent call last)",
      "\u001B[1;32m<ipython-input-30-ba2a91bcb93f>\u001B[0m in \u001B[0;36m<module>\u001B[1;34m()\u001B[0m\n\u001B[1;32m----> 1\u001B[1;33m \u001B[0mparte_2_2_jp\u001B[0m \u001B[1;33m=\u001B[0m \u001B[0mfn\u001B[0m\u001B[1;33m.\u001B[0m\u001B[0mf_estadisticas_mad\u001B[0m\u001B[1;33m(\u001B[0m\u001B[0mparte_2_1_jp\u001B[0m\u001B[1;33m,\u001B[0m \u001B[0mrf\u001B[0m\u001B[1;33m=\u001B[0m\u001B[1;36m0.05\u001B[0m\u001B[1;33m,\u001B[0m \u001B[0mbenchmark_ticker\u001B[0m\u001B[1;33m=\u001B[0m\u001B[1;34m\"^GSPC\"\u001B[0m\u001B[1;33m)\u001B[0m\u001B[1;33m\u001B[0m\u001B[1;33m\u001B[0m\u001B[0m\n\u001B[0m",
      "\u001B[1;32m~\\Documents\\9no Semestre\\3lab\\functions.py\u001B[0m in \u001B[0;36mf_estadisticas_mad\u001B[1;34m(parte_2_1, rf, benchmark_ticker)\u001B[0m\n\u001B[0;32m    513\u001B[0m     \u001B[0m_\u001B[0m\u001B[1;33m,\u001B[0m \u001B[0mcapital_down\u001B[0m\u001B[1;33m,\u001B[0m \u001B[0mini_date_down\u001B[0m\u001B[1;33m,\u001B[0m \u001B[0mend_date_down\u001B[0m \u001B[1;33m=\u001B[0m \u001B[0mdrawdown\u001B[0m\u001B[1;33m(\u001B[0m\u001B[0mparte_2_1\u001B[0m\u001B[1;33m)\u001B[0m\u001B[1;33m\u001B[0m\u001B[1;33m\u001B[0m\u001B[0m\n\u001B[0;32m    514\u001B[0m \u001B[1;33m\u001B[0m\u001B[0m\n\u001B[1;32m--> 515\u001B[1;33m     valor = [SR_orig(parte_2_1, rf), SR_actualizado(parte_2_1, benchmark_ticker),\n\u001B[0m\u001B[0;32m    516\u001B[0m              ini_date_down, end_date_down, capital_down, ini_date_up, end_date_up, capital_up]\n\u001B[0;32m    517\u001B[0m \u001B[1;33m\u001B[0m\u001B[0m\n",
      "\u001B[1;32m~\\Documents\\9no Semestre\\3lab\\functions.py\u001B[0m in \u001B[0;36mSR_actualizado\u001B[1;34m(parte_2, benchmark_ticker)\u001B[0m\n\u001B[0;32m    439\u001B[0m \u001B[1;32mdef\u001B[0m \u001B[0mSR_actualizado\u001B[0m\u001B[1;33m(\u001B[0m\u001B[0mparte_2\u001B[0m\u001B[1;33m,\u001B[0m \u001B[0mbenchmark_ticker\u001B[0m\u001B[1;33m)\u001B[0m\u001B[1;33m:\u001B[0m\u001B[1;33m\u001B[0m\u001B[1;33m\u001B[0m\u001B[0m\n\u001B[0;32m    440\u001B[0m     bnchmrk = yfinance.download(benchmark_ticker, start=str(parte_2['timestamp'][0].date()),\n\u001B[1;32m--> 441\u001B[1;33m                                 end=str(parte_2['timestamp'][len(parte_2) - 1].date() + timedelta(days=1)))\n\u001B[0m\u001B[0;32m    442\u001B[0m \u001B[1;33m\u001B[0m\u001B[0m\n\u001B[0;32m    443\u001B[0m     \u001B[0mrends\u001B[0m \u001B[1;33m=\u001B[0m \u001B[0mnp\u001B[0m\u001B[1;33m.\u001B[0m\u001B[0mlog\u001B[0m\u001B[1;33m(\u001B[0m\u001B[0mparte_2\u001B[0m\u001B[1;33m[\u001B[0m\u001B[1;34m'profit_acm_d'\u001B[0m\u001B[1;33m]\u001B[0m \u001B[1;33m/\u001B[0m \u001B[0mparte_2\u001B[0m\u001B[1;33m[\u001B[0m\u001B[1;34m'profit_acm_d'\u001B[0m\u001B[1;33m]\u001B[0m\u001B[1;33m.\u001B[0m\u001B[0mshift\u001B[0m\u001B[1;33m(\u001B[0m\u001B[1;36m1\u001B[0m\u001B[1;33m)\u001B[0m\u001B[1;33m)\u001B[0m\u001B[1;33m.\u001B[0m\u001B[0mdropna\u001B[0m\u001B[1;33m(\u001B[0m\u001B[1;33m)\u001B[0m\u001B[1;33m\u001B[0m\u001B[1;33m\u001B[0m\u001B[0m\n",
      "\u001B[1;32m~\\Anaconda3\\lib\\site-packages\\yfinance\\multi.py\u001B[0m in \u001B[0;36mdownload\u001B[1;34m(tickers, start, end, actions, threads, group_by, auto_adjust, back_adjust, progress, period, interval, prepost, proxy, rounding, **kwargs)\u001B[0m\n\u001B[0;32m     93\u001B[0m                                    rounding=rounding)\n\u001B[0;32m     94\u001B[0m         \u001B[1;32mwhile\u001B[0m \u001B[0mlen\u001B[0m\u001B[1;33m(\u001B[0m\u001B[0mshared\u001B[0m\u001B[1;33m.\u001B[0m\u001B[0m_DFS\u001B[0m\u001B[1;33m)\u001B[0m \u001B[1;33m<\u001B[0m \u001B[0mlen\u001B[0m\u001B[1;33m(\u001B[0m\u001B[0mtickers\u001B[0m\u001B[1;33m)\u001B[0m\u001B[1;33m:\u001B[0m\u001B[1;33m\u001B[0m\u001B[1;33m\u001B[0m\u001B[0m\n\u001B[1;32m---> 95\u001B[1;33m             \u001B[0m_time\u001B[0m\u001B[1;33m.\u001B[0m\u001B[0msleep\u001B[0m\u001B[1;33m(\u001B[0m\u001B[1;36m0.01\u001B[0m\u001B[1;33m)\u001B[0m\u001B[1;33m\u001B[0m\u001B[1;33m\u001B[0m\u001B[0m\n\u001B[0m\u001B[0;32m     96\u001B[0m \u001B[1;33m\u001B[0m\u001B[0m\n\u001B[0;32m     97\u001B[0m     \u001B[1;31m# download synchronously\u001B[0m\u001B[1;33m\u001B[0m\u001B[1;33m\u001B[0m\u001B[1;33m\u001B[0m\u001B[0m\n",
      "\u001B[1;31mKeyboardInterrupt\u001B[0m: "
     ]
    }
   ],
   "source": [
    "parte_2_2_jp = fn.f_estadisticas_mad(parte_2_1_jp, rf=0.05, benchmark_ticker=\"^GSPC\")"
   ]
  },
  {
   "cell_type": "code",
   "execution_count": null,
   "metadata": {},
   "outputs": [],
   "source": [
    "parte_2_2_ap = fn.f_estadisticas_mad(parte_2_1_dou, rf=0.05, benchmark_ticker=\"^GSPC\")"
   ]
  },
  {
   "cell_type": "code",
   "execution_count": null,
   "metadata": {},
   "outputs": [
    {
     "name": "stderr",
     "output_type": "stream",
     "text": [
      "Exception in thread Thread-9:\n",
      "Traceback (most recent call last):\n",
      "  File \"C:\\Users\\Juan Pablo\\Anaconda3\\lib\\threading.py\", line 917, in _bootstrap_inner\n",
      "    self.run()\n",
      "  File \"C:\\Users\\Juan Pablo\\Anaconda3\\lib\\threading.py\", line 865, in run\n",
      "    self._target(*self._args, **self._kwargs)\n",
      "  File \"C:\\Users\\Juan Pablo\\Anaconda3\\lib\\site-packages\\multitasking\\__init__.py\", line 102, in _run_via_pool\n",
      "    return callee(*args, **kwargs)\n",
      "  File \"C:\\Users\\Juan Pablo\\Anaconda3\\lib\\site-packages\\yfinance\\multi.py\", line 167, in _download_one_threaded\n",
      "    actions, period, interval, prepost, proxy, rounding)\n",
      "  File \"C:\\Users\\Juan Pablo\\Anaconda3\\lib\\site-packages\\yfinance\\multi.py\", line 182, in _download_one\n",
      "    rounding=rounding, many=True)\n",
      "  File \"C:\\Users\\Juan Pablo\\Anaconda3\\lib\\site-packages\\yfinance\\base.py\", line 156, in history\n",
      "    data = data.json()\n",
      "  File \"C:\\Users\\Juan Pablo\\Anaconda3\\lib\\site-packages\\requests\\models.py\", line 897, in json\n",
      "    return complexjson.loads(self.text, **kwargs)\n",
      "  File \"C:\\Users\\Juan Pablo\\Anaconda3\\lib\\json\\__init__.py\", line 348, in loads\n",
      "    return _default_decoder.decode(s)\n",
      "  File \"C:\\Users\\Juan Pablo\\Anaconda3\\lib\\json\\decoder.py\", line 337, in decode\n",
      "    obj, end = self.raw_decode(s, idx=_w(s, 0).end())\n",
      "  File \"C:\\Users\\Juan Pablo\\Anaconda3\\lib\\json\\decoder.py\", line 355, in raw_decode\n",
      "    raise JSONDecodeError(\"Expecting value\", s, err.value) from None\n",
      "json.decoder.JSONDecodeError: Expecting value: line 1 column 1 (char 0)\n",
      "\n"
     ]
    }
   ],
   "source": [
    "parte_2_2_jp = fn.f_estadisticas_mad(parte_2_1_jp, rf=0.05, benchmark_ticker=\"^GSPC\")\n",
    "parte_2_2_dou = fn.f_estadisticas_mad(parte_2_1_dou, rf=0.05, benchmark_ticker=\"^GSPC\")\n",
    "parte_2_2_ap = fn.f_estadisticas_mad(parte_2_1_ap, rf=0.05, benchmark_ticker=\"^GSPC\")"
   ]
  },
  {
   "cell_type": "code",
   "execution_count": 23,
   "metadata": {},
   "outputs": [
    {
     "ename": "TypeError",
     "evalue": "string indices must be integers",
     "output_type": "error",
     "traceback": [
      "\u001B[1;31m---------------------------------------------------------------------------\u001B[0m",
      "\u001B[1;31mTypeError\u001B[0m                                 Traceback (most recent call last)",
      "\u001B[1;32m<ipython-input-23-3e13c75d6a32>\u001B[0m in \u001B[0;36m<module>\u001B[1;34m()\u001B[0m\n\u001B[0;32m      7\u001B[0m \u001B[1;33m\u001B[0m\u001B[0m\n\u001B[0;32m      8\u001B[0m historic_data = fn.get_mt5_prices(\n\u001B[1;32m----> 9\u001B[1;33m     \u001B[0mact_credentials\u001B[0m\u001B[1;33m[\u001B[0m\u001B[1;34m\"local_exe\"\u001B[0m\u001B[1;33m]\u001B[0m\u001B[1;33m,\u001B[0m\u001B[1;33m\u001B[0m\u001B[1;33m\u001B[0m\u001B[0m\n\u001B[0m\u001B[0;32m     10\u001B[0m     \u001B[0mact_credentials\u001B[0m\u001B[1;33m[\u001B[0m\u001B[1;34m\"mt5_acc\"\u001B[0m\u001B[1;33m]\u001B[0m\u001B[1;33m,\u001B[0m\u001B[1;33m\u001B[0m\u001B[1;33m\u001B[0m\u001B[0m\n\u001B[0;32m     11\u001B[0m     \u001B[0mact_credentials\u001B[0m\u001B[1;33m[\u001B[0m\u001B[1;34m\"mt5_inv_pas\"\u001B[0m\u001B[1;33m]\u001B[0m\u001B[1;33m,\u001B[0m\u001B[1;33m\u001B[0m\u001B[1;33m\u001B[0m\u001B[0m\n",
      "\u001B[1;31mTypeError\u001B[0m: string indices must be integers"
     ]
    }
   ],
   "source": [
    "unique_symbols = list(set(list(data_ini_1.loc[:, 'Symbol'].values) +\n",
    "                      list(data_ini_2.loc[:, 'Symbol'].values) +\n",
    "                      list(data_ini_3.loc[:, 'Symbol'].values)))\n",
    "\n",
    "\n",
    "act_credentials = dt.equipo(3, lib=True)\n",
    "\n",
    "historic_data = fn.get_mt5_prices(\n",
    "    act_credentials[\"local_exe\"],\n",
    "    act_credentials[\"mt5_acc\"],\n",
    "    act_credentials[\"mt5_inv_pas\"],\n",
    "    unique_symbols,\n",
    "    datetime.datetime(2021, 9, 19, 0, 0),\n",
    "    datetime.datetime(2021, 10, 1, 0, 0)\n",
    ")\n",
    "\n",
    "print(historic_data)"
   ]
  },
  {
   "cell_type": "code",
   "execution_count": 17,
   "metadata": {},
   "outputs": [],
   "source": [
    "data_ap = fn.f_columnas_tiempos(data_ini_2)\n",
    "data_ap[\"mult\"] = data_ap.Symbol.map(lambda x: fn.f_pip_size(x))\n",
    "data_ap = fn.f_columnas_pips(data_ap)\n",
    "parte_1_ap = fn.f_estadisticas_ba(data_ap)\n",
    "\n",
    "parte_2_1_ap = fn.f_evolucion_capital(cap_ini=100000, operaciones=data_ap.copy())\n",
    "\n"
   ]
  },
  {
   "cell_type": "code",
   "execution_count": 5,
   "metadata": {},
   "outputs": [
    {
     "name": "stdout",
     "output_type": "stream",
     "text": [
      " **** init_login failed, error code = (-10003, \"IPC initialize failed, Process create failed 'C:\\\\Users\\\\DParis\\\\AppData\\\\Roaming\\\\XM Global MT5\\\\terminal64.exe'\")\n"
     ]
    },
    {
     "ename": "KeyError",
     "evalue": "'time'",
     "output_type": "error",
     "traceback": [
      "\u001B[1;31m---------------------------------------------------------------------------\u001B[0m",
      "\u001B[1;31mKeyError\u001B[0m                                  Traceback (most recent call last)",
      "\u001B[1;32m~\\Anaconda3\\lib\\site-packages\\pandas\\core\\indexes\\base.py\u001B[0m in \u001B[0;36mget_loc\u001B[1;34m(self, key, method, tolerance)\u001B[0m\n\u001B[0;32m   3360\u001B[0m             \u001B[1;32mtry\u001B[0m\u001B[1;33m:\u001B[0m\u001B[1;33m\u001B[0m\u001B[1;33m\u001B[0m\u001B[0m\n\u001B[1;32m-> 3361\u001B[1;33m                 \u001B[1;32mreturn\u001B[0m \u001B[0mself\u001B[0m\u001B[1;33m.\u001B[0m\u001B[0m_engine\u001B[0m\u001B[1;33m.\u001B[0m\u001B[0mget_loc\u001B[0m\u001B[1;33m(\u001B[0m\u001B[0mcasted_key\u001B[0m\u001B[1;33m)\u001B[0m\u001B[1;33m\u001B[0m\u001B[1;33m\u001B[0m\u001B[0m\n\u001B[0m\u001B[0;32m   3362\u001B[0m             \u001B[1;32mexcept\u001B[0m \u001B[0mKeyError\u001B[0m \u001B[1;32mas\u001B[0m \u001B[0merr\u001B[0m\u001B[1;33m:\u001B[0m\u001B[1;33m\u001B[0m\u001B[1;33m\u001B[0m\u001B[0m\n",
      "\u001B[1;32m~\\Anaconda3\\lib\\site-packages\\pandas\\_libs\\index.pyx\u001B[0m in \u001B[0;36mpandas._libs.index.IndexEngine.get_loc\u001B[1;34m()\u001B[0m\n",
      "\u001B[1;32m~\\Anaconda3\\lib\\site-packages\\pandas\\_libs\\index.pyx\u001B[0m in \u001B[0;36mpandas._libs.index.IndexEngine.get_loc\u001B[1;34m()\u001B[0m\n",
      "\u001B[1;32mpandas\\_libs\\hashtable_class_helper.pxi\u001B[0m in \u001B[0;36mpandas._libs.hashtable.PyObjectHashTable.get_item\u001B[1;34m()\u001B[0m\n",
      "\u001B[1;32mpandas\\_libs\\hashtable_class_helper.pxi\u001B[0m in \u001B[0;36mpandas._libs.hashtable.PyObjectHashTable.get_item\u001B[1;34m()\u001B[0m\n",
      "\u001B[1;31mKeyError\u001B[0m: 'time'",
      "\nThe above exception was the direct cause of the following exception:\n",
      "\u001B[1;31mKeyError\u001B[0m                                  Traceback (most recent call last)",
      "\u001B[1;32m<ipython-input-5-b7499f81f3a4>\u001B[0m in \u001B[0;36m<module>\u001B[1;34m()\u001B[0m\n\u001B[0;32m      6\u001B[0m \u001B[1;33m\u001B[0m\u001B[0m\n\u001B[0;32m      7\u001B[0m \u001B[0mparte_2_1_dou\u001B[0m \u001B[1;33m=\u001B[0m \u001B[0mfn\u001B[0m\u001B[1;33m.\u001B[0m\u001B[0mf_evolucion_capital\u001B[0m\u001B[1;33m(\u001B[0m\u001B[0mcap_ini\u001B[0m\u001B[1;33m=\u001B[0m\u001B[1;36m100000\u001B[0m\u001B[1;33m,\u001B[0m \u001B[0moperaciones\u001B[0m\u001B[1;33m=\u001B[0m\u001B[0mdata_dou\u001B[0m\u001B[1;33m.\u001B[0m\u001B[0mcopy\u001B[0m\u001B[1;33m(\u001B[0m\u001B[1;33m)\u001B[0m\u001B[1;33m)\u001B[0m\u001B[1;33m\u001B[0m\u001B[1;33m\u001B[0m\u001B[0m\n\u001B[1;32m----> 8\u001B[1;33m \u001B[0mfinal_dict\u001B[0m \u001B[1;33m=\u001B[0m \u001B[0mfn\u001B[0m\u001B[1;33m.\u001B[0m\u001B[0mf_be_de\u001B[0m\u001B[1;33m(\u001B[0m\u001B[0mdata_dou\u001B[0m\u001B[1;33m)\u001B[0m\u001B[1;33m\u001B[0m\u001B[1;33m\u001B[0m\u001B[0m\n\u001B[0m\u001B[0;32m      9\u001B[0m \u001B[0mparte_2_2_dou\u001B[0m \u001B[1;33m=\u001B[0m \u001B[0mfn\u001B[0m\u001B[1;33m.\u001B[0m\u001B[0mf_estadisticas_mad\u001B[0m\u001B[1;33m(\u001B[0m\u001B[0mparte_2_1_dou\u001B[0m\u001B[1;33m,\u001B[0m \u001B[0mrf\u001B[0m\u001B[1;33m=\u001B[0m\u001B[1;36m0.05\u001B[0m\u001B[1;33m,\u001B[0m \u001B[0mbenchmark_ticker\u001B[0m\u001B[1;33m=\u001B[0m\u001B[1;34m\"^GSPC\"\u001B[0m\u001B[1;33m)\u001B[0m\u001B[1;33m\u001B[0m\u001B[1;33m\u001B[0m\u001B[0m\n\u001B[0;32m     10\u001B[0m \u001B[1;33m\u001B[0m\u001B[0m\n",
      "\u001B[1;32m~\\Documents\\9no Semestre\\3lab\\functions.py\u001B[0m in \u001B[0;36mf_be_de\u001B[1;34m(param_data)\u001B[0m\n\u001B[0;32m    562\u001B[0m     prices_df = get_mt5_prices(symbols=occu_df.Symbol.tolist(),\n\u001B[0;32m    563\u001B[0m                                \u001B[0mstart_time\u001B[0m\u001B[1;33m=\u001B[0m\u001B[0moccu_df\u001B[0m\u001B[1;33m.\u001B[0m\u001B[0mCTime_Anchor\u001B[0m\u001B[1;33m.\u001B[0m\u001B[0mmin\u001B[0m\u001B[1;33m(\u001B[0m\u001B[1;33m)\u001B[0m\u001B[1;33m,\u001B[0m\u001B[1;33m\u001B[0m\u001B[1;33m\u001B[0m\u001B[0m\n\u001B[1;32m--> 564\u001B[1;33m                                end_time=occu_df.CTime_Anchor.max())\n\u001B[0m\u001B[0;32m    565\u001B[0m \u001B[1;33m\u001B[0m\u001B[0m\n\u001B[0;32m    566\u001B[0m     \u001B[0mprices_filtered\u001B[0m \u001B[1;33m=\u001B[0m \u001B[1;33m[\u001B[0m\u001B[0mprices_df\u001B[0m\u001B[1;33m[\u001B[0m\u001B[0moccu_df\u001B[0m\u001B[1;33m.\u001B[0m\u001B[0mSymbol\u001B[0m\u001B[1;33m[\u001B[0m\u001B[0mi\u001B[0m\u001B[1;33m]\u001B[0m\u001B[1;33m]\u001B[0m\u001B[1;33m[\u001B[0m\u001B[0mprices_df\u001B[0m\u001B[1;33m[\u001B[0m\u001B[0moccu_df\u001B[0m\u001B[1;33m.\u001B[0m\u001B[0mSymbol\u001B[0m\u001B[1;33m[\u001B[0m\u001B[0mi\u001B[0m\u001B[1;33m]\u001B[0m\u001B[1;33m]\u001B[0m\u001B[1;33m.\u001B[0m\u001B[0mtime\u001B[0m \u001B[1;33m==\u001B[0m \u001B[0moccu_df\u001B[0m\u001B[1;33m.\u001B[0m\u001B[0mCTime_Anchor\u001B[0m\u001B[1;33m[\u001B[0m\u001B[0mi\u001B[0m\u001B[1;33m]\u001B[0m\u001B[1;33m.\u001B[0m\u001B[0mreplace\u001B[0m\u001B[1;33m(\u001B[0m\u001B[0msecond\u001B[0m\u001B[1;33m=\u001B[0m\u001B[1;36m0\u001B[0m\u001B[1;33m)\u001B[0m\u001B[1;33m]\u001B[0m\u001B[1;33m[\u001B[0m\u001B[1;34m\"close\"\u001B[0m\u001B[1;33m]\u001B[0m\u001B[1;33m.\u001B[0m\u001B[0mvalues\u001B[0m \u001B[1;32mfor\u001B[0m \u001B[0mi\u001B[0m \u001B[1;32min\u001B[0m \u001B[0moccu_df\u001B[0m\u001B[1;33m.\u001B[0m\u001B[0mindex\u001B[0m\u001B[1;33m]\u001B[0m\u001B[1;33m\u001B[0m\u001B[1;33m\u001B[0m\u001B[0m\n",
      "\u001B[1;32m~\\Documents\\9no Semestre\\3lab\\functions.py\u001B[0m in \u001B[0;36mget_mt5_prices\u001B[1;34m(symbols, start_time, end_time, local_exe, mt5_acc, mt5_inv_pas)\u001B[0m\n\u001B[0;32m    539\u001B[0m                               \u001B[0mparam_sym\u001B[0m\u001B[1;33m=\u001B[0m\u001B[0msymbols\u001B[0m\u001B[1;33m,\u001B[0m\u001B[1;33m\u001B[0m\u001B[1;33m\u001B[0m\u001B[0m\n\u001B[0;32m    540\u001B[0m                               \u001B[0mparam_tf\u001B[0m\u001B[1;33m=\u001B[0m\u001B[1;34m'M1'\u001B[0m\u001B[1;33m,\u001B[0m\u001B[1;33m\u001B[0m\u001B[1;33m\u001B[0m\u001B[0m\n\u001B[1;32m--> 541\u001B[1;33m                               param_ini=ini_date, param_end=end_date)\n\u001B[0m\u001B[0;32m    542\u001B[0m \u001B[1;33m\u001B[0m\u001B[0m\n\u001B[0;32m    543\u001B[0m     \u001B[1;32mreturn\u001B[0m \u001B[0mdf_prices\u001B[0m\u001B[1;33m\u001B[0m\u001B[1;33m\u001B[0m\u001B[0m\n",
      "\u001B[1;32m~\\Documents\\9no Semestre\\3lab\\functions.py\u001B[0m in \u001B[0;36mf_hist_prices\u001B[1;34m(param_ct, param_sym, param_tf, param_ini, param_end)\u001B[0m\n\u001B[0;32m    284\u001B[0m                                                         param_end - tdelta))\n\u001B[0;32m    285\u001B[0m         \u001B[1;31m# convert to datetime\u001B[0m\u001B[1;33m\u001B[0m\u001B[1;33m\u001B[0m\u001B[1;33m\u001B[0m\u001B[0m\n\u001B[1;32m--> 286\u001B[1;33m         \u001B[0mprices\u001B[0m\u001B[1;33m[\u001B[0m\u001B[1;34m'time'\u001B[0m\u001B[1;33m]\u001B[0m \u001B[1;33m=\u001B[0m \u001B[1;33m[\u001B[0m\u001B[0mdatetime\u001B[0m\u001B[1;33m.\u001B[0m\u001B[0mdatetime\u001B[0m\u001B[1;33m.\u001B[0m\u001B[0mfromtimestamp\u001B[0m\u001B[1;33m(\u001B[0m\u001B[0mtimes\u001B[0m\u001B[1;33m)\u001B[0m \u001B[1;32mfor\u001B[0m \u001B[0mtimes\u001B[0m \u001B[1;32min\u001B[0m \u001B[0mprices\u001B[0m\u001B[1;33m[\u001B[0m\u001B[1;34m'time'\u001B[0m\u001B[1;33m]\u001B[0m\u001B[1;33m]\u001B[0m\u001B[1;33m\u001B[0m\u001B[1;33m\u001B[0m\u001B[0m\n\u001B[0m\u001B[0;32m    287\u001B[0m \u001B[1;33m\u001B[0m\u001B[0m\n\u001B[0;32m    288\u001B[0m         \u001B[1;31m# store in dict with symbol as a key\u001B[0m\u001B[1;33m\u001B[0m\u001B[1;33m\u001B[0m\u001B[1;33m\u001B[0m\u001B[0m\n",
      "\u001B[1;32m~\\Anaconda3\\lib\\site-packages\\pandas\\core\\frame.py\u001B[0m in \u001B[0;36m__getitem__\u001B[1;34m(self, key)\u001B[0m\n\u001B[0;32m   3456\u001B[0m             \u001B[1;32mif\u001B[0m \u001B[0mself\u001B[0m\u001B[1;33m.\u001B[0m\u001B[0mcolumns\u001B[0m\u001B[1;33m.\u001B[0m\u001B[0mnlevels\u001B[0m \u001B[1;33m>\u001B[0m \u001B[1;36m1\u001B[0m\u001B[1;33m:\u001B[0m\u001B[1;33m\u001B[0m\u001B[1;33m\u001B[0m\u001B[0m\n\u001B[0;32m   3457\u001B[0m                 \u001B[1;32mreturn\u001B[0m \u001B[0mself\u001B[0m\u001B[1;33m.\u001B[0m\u001B[0m_getitem_multilevel\u001B[0m\u001B[1;33m(\u001B[0m\u001B[0mkey\u001B[0m\u001B[1;33m)\u001B[0m\u001B[1;33m\u001B[0m\u001B[1;33m\u001B[0m\u001B[0m\n\u001B[1;32m-> 3458\u001B[1;33m             \u001B[0mindexer\u001B[0m \u001B[1;33m=\u001B[0m \u001B[0mself\u001B[0m\u001B[1;33m.\u001B[0m\u001B[0mcolumns\u001B[0m\u001B[1;33m.\u001B[0m\u001B[0mget_loc\u001B[0m\u001B[1;33m(\u001B[0m\u001B[0mkey\u001B[0m\u001B[1;33m)\u001B[0m\u001B[1;33m\u001B[0m\u001B[1;33m\u001B[0m\u001B[0m\n\u001B[0m\u001B[0;32m   3459\u001B[0m             \u001B[1;32mif\u001B[0m \u001B[0mis_integer\u001B[0m\u001B[1;33m(\u001B[0m\u001B[0mindexer\u001B[0m\u001B[1;33m)\u001B[0m\u001B[1;33m:\u001B[0m\u001B[1;33m\u001B[0m\u001B[1;33m\u001B[0m\u001B[0m\n\u001B[0;32m   3460\u001B[0m                 \u001B[0mindexer\u001B[0m \u001B[1;33m=\u001B[0m \u001B[1;33m[\u001B[0m\u001B[0mindexer\u001B[0m\u001B[1;33m]\u001B[0m\u001B[1;33m\u001B[0m\u001B[1;33m\u001B[0m\u001B[0m\n",
      "\u001B[1;32m~\\Anaconda3\\lib\\site-packages\\pandas\\core\\indexes\\base.py\u001B[0m in \u001B[0;36mget_loc\u001B[1;34m(self, key, method, tolerance)\u001B[0m\n\u001B[0;32m   3361\u001B[0m                 \u001B[1;32mreturn\u001B[0m \u001B[0mself\u001B[0m\u001B[1;33m.\u001B[0m\u001B[0m_engine\u001B[0m\u001B[1;33m.\u001B[0m\u001B[0mget_loc\u001B[0m\u001B[1;33m(\u001B[0m\u001B[0mcasted_key\u001B[0m\u001B[1;33m)\u001B[0m\u001B[1;33m\u001B[0m\u001B[1;33m\u001B[0m\u001B[0m\n\u001B[0;32m   3362\u001B[0m             \u001B[1;32mexcept\u001B[0m \u001B[0mKeyError\u001B[0m \u001B[1;32mas\u001B[0m \u001B[0merr\u001B[0m\u001B[1;33m:\u001B[0m\u001B[1;33m\u001B[0m\u001B[1;33m\u001B[0m\u001B[0m\n\u001B[1;32m-> 3363\u001B[1;33m                 \u001B[1;32mraise\u001B[0m \u001B[0mKeyError\u001B[0m\u001B[1;33m(\u001B[0m\u001B[0mkey\u001B[0m\u001B[1;33m)\u001B[0m \u001B[1;32mfrom\u001B[0m \u001B[0merr\u001B[0m\u001B[1;33m\u001B[0m\u001B[1;33m\u001B[0m\u001B[0m\n\u001B[0m\u001B[0;32m   3364\u001B[0m \u001B[1;33m\u001B[0m\u001B[0m\n\u001B[0;32m   3365\u001B[0m         \u001B[1;32mif\u001B[0m \u001B[0mis_scalar\u001B[0m\u001B[1;33m(\u001B[0m\u001B[0mkey\u001B[0m\u001B[1;33m)\u001B[0m \u001B[1;32mand\u001B[0m \u001B[0misna\u001B[0m\u001B[1;33m(\u001B[0m\u001B[0mkey\u001B[0m\u001B[1;33m)\u001B[0m \u001B[1;32mand\u001B[0m \u001B[1;32mnot\u001B[0m \u001B[0mself\u001B[0m\u001B[1;33m.\u001B[0m\u001B[0mhasnans\u001B[0m\u001B[1;33m:\u001B[0m\u001B[1;33m\u001B[0m\u001B[1;33m\u001B[0m\u001B[0m\n",
      "\u001B[1;31mKeyError\u001B[0m: 'time'"
     ]
    }
   ],
   "source": [
    "# DATOS DOUGLAS (Estudiante 2)\n",
    "data_dou = fn.f_columnas_tiempos(data_ini_3)\n",
    "data_dou[\"mult\"] = data_dou.Symbol.map(lambda x: fn.f_pip_size(x))\n",
    "data_dou = fn.f_columnas_pips(data_dou)\n",
    "parte_1_dou = fn.f_estadisticas_ba(data_dou)\n",
    "\n",
    "parte_2_1_dou = fn.f_evolucion_capital(cap_ini=100000, operaciones=data_dou.copy())\n",
    "final_dict = fn.f_be_de(data_dou)\n",
    "parte_2_2_dou = fn.f_estadisticas_mad(parte_2_1_dou, rf=0.05, benchmark_ticker=\"^GSPC\")\n",
    "\n",
    "\n",
    "\n",
    "# DATOS ANA PAULA (Estudiante 2)\n",
    "data_ap = fn.f_columnas_tiempos(data_ini_2)\n",
    "data_ap[\"mult\"] = data_ap.Symbol.map(lambda x: fn.f_pip_size(x))\n",
    "data_ap = fn.f_columnas_pips(data_ap)\n",
    "parte_1_ap = fn.f_estadisticas_ba(data_ap)\n",
    "\n",
    "parte_2_1_ap = fn.f_evolucion_capital(cap_ini=100000, operaciones=data_ap.copy())\n",
    "\n",
    "parte_2_2_ap = fn.f_estadisticas_mad(parte_2_1_ap, rf=0.05, benchmark_ticker=\"^GSPC\")\n",
    "\n",
    "\n",
    "# DATOS JUAN PABLO (Estudiante 3)\n",
    "data_jp = fn.f_columnas_tiempos(data_ini_3)\n",
    "data_jp[\"mult\"] = data_jp.Symbol.map(lambda x: fn.f_pip_size(x))\n",
    "data_jp = fn.f_columnas_pips(data_jp)\n",
    "parte_1_jp = fn.f_estadisticas_ba(data_jp)\n",
    "\n",
    "parte_2_1_jp = fn.f_evolucion_capital(cap_ini=100000, operaciones=data_jp.copy())\n",
    "\n",
    "parte_2_2_jp = fn.f_estadisticas_mad(parte_2_1_jp, rf=0.05, benchmark_ticker=\"^GSPC\")\n",
    "\n",
    "\n",
    "# CARGAR PRECIOS HISTÓRICOS DE MT5\n",
    "unique_symbols = list(set(list(data_ini_1.loc[:, 'Symbol'].values) +\n",
    "                      list(data_ini_2.loc[:, 'Symbol'].values) +\n",
    "                      list(data_ini_3.loc[:, 'Symbol'].values)))\n",
    "\n",
    "\n",
    "act_credentials = dt.equipo(1, lib=True)\n",
    "\n",
    "historic_data = fn.get_mt5_prices(\n",
    "    act_credentials[\"local_exe\"],\n",
    "    act_credentials[\"mt5_acc\"],\n",
    "    act_credentials[\"mt5_inv_pas\"],\n",
    "    unique_symbols,\n",
    "    datetime.datetime(2021, 9, 19, 0, 0),\n",
    "    datetime.datetime(2021, 10, 1, 0, 0)\n",
    ")\n",
    "\n",
    "print(historic_data)"
   ]
  },
  {
   "cell_type": "markdown",
   "metadata": {},
   "source": [
    "# <font color= #6B6B6B> 3. Data Description </font>"
   ]
  },
  {
   "cell_type": "markdown",
   "metadata": {},
   "source": [
    "<hr style=\"border:0.02in solid gray\"> </hr>"
   ]
  },
  {
   "cell_type": "markdown",
   "metadata": {},
   "source": [
    "To complete the project objective, we need to have the data that was created in the laboratory number two. Here are the three stories of operations that will be put together for the next steps and analysis."
   ]
  },
  {
   "cell_type": "code",
   "execution_count": 5,
   "metadata": {},
   "outputs": [
    {
     "ename": "AttributeError",
     "evalue": "module 'functions' has no attribute 'f_leer_archivo'",
     "output_type": "error",
     "traceback": [
      "\u001B[1;31m---------------------------------------------------------------------------\u001B[0m",
      "\u001B[1;31mAttributeError\u001B[0m                            Traceback (most recent call last)",
      "\u001B[1;32m<ipython-input-5-2b87ccd4989c>\u001B[0m in \u001B[0;36m<module>\u001B[1;34m()\u001B[0m\n\u001B[1;32m----> 1\u001B[1;33m \u001B[0mfn\u001B[0m\u001B[1;33m.\u001B[0m\u001B[0mf_leer_archivo\u001B[0m\u001B[1;33m(\u001B[0m\u001B[1;34m'./files/History5400732.xlsx'\u001B[0m\u001B[1;33m,\u001B[0m \u001B[1;36m1\u001B[0m\u001B[1;33m)\u001B[0m\u001B[1;33m\u001B[0m\u001B[1;33m\u001B[0m\u001B[0m\n\u001B[0m",
      "\u001B[1;31mAttributeError\u001B[0m: module 'functions' has no attribute 'f_leer_archivo'"
     ]
    }
   ],
   "source": [
    "fn.f_leer_archivo('./files/History5400732.xlsx', 1)"
   ]
  },
  {
   "cell_type": "code",
   "execution_count": null,
   "metadata": {},
   "outputs": [],
   "source": [
    "fn.f_leer_archivo('./files/History5401437.xlsx', 2)"
   ]
  },
  {
   "cell_type": "code",
   "execution_count": null,
   "metadata": {},
   "outputs": [],
   "source": [
    "fn.f_leer_archivo('./files/df_hist_5401675.csv', 3)"
   ]
  },
  {
   "cell_type": "markdown",
   "metadata": {},
   "source": [
    "In the upper Data Frames we observe ..."
   ]
  },
  {
   "cell_type": "markdown",
   "metadata": {},
   "source": [
    "<br>"
   ]
  },
  {
   "cell_type": "markdown",
   "metadata": {},
   "source": [
    "# <font color= #6B6B6B> 4. Descriptive statistics  </font>"
   ]
  },
  {
   "cell_type": "markdown",
   "metadata": {},
   "source": [
    "<hr style=\"border:0.02in solid gray\"> </hr>"
   ]
  },
  {
   "cell_type": "code",
   "execution_count": 3,
   "metadata": {},
   "outputs": [],
   "source": [
    "# DELETE THIS CELL IN YOUR FILE\n",
    "\n",
    "# A particular process that is relevant for the work you are presenting."
   ]
  },
  {
   "cell_type": "markdown",
   "metadata": {},
   "source": [
    "<br>"
   ]
  },
  {
   "cell_type": "markdown",
   "metadata": {},
   "source": [
    "# <font color= #6B6B6B> 5. Performance Attribution Metrics  </font>"
   ]
  },
  {
   "cell_type": "markdown",
   "metadata": {},
   "source": [
    "<hr style=\"border:0.02in solid gray\"> </hr>"
   ]
  },
  {
   "cell_type": "code",
   "execution_count": 4,
   "metadata": {},
   "outputs": [],
   "source": [
    "# DELETE THIS CELL IN YOUR FILE\n",
    "\n",
    "# Another particular process that is relevant for the work. Normally, you include between 2 and 5 at the most."
   ]
  },
  {
   "cell_type": "markdown",
   "metadata": {},
   "source": []
  },
  {
   "cell_type": "markdown",
   "metadata": {},
   "source": [
    "# <font color= #6B6B6B> 6. Behavioral Finance  </font>"
   ]
  },
  {
   "cell_type": "code",
   "execution_count": null,
   "metadata": {},
   "outputs": [],
   "source": []
  },
  {
   "cell_type": "code",
   "execution_count": null,
   "metadata": {},
   "outputs": [],
   "source": []
  },
  {
   "cell_type": "code",
   "execution_count": null,
   "metadata": {},
   "outputs": [],
   "source": []
  },
  {
   "cell_type": "code",
   "execution_count": null,
   "metadata": {},
   "outputs": [],
   "source": []
  },
  {
   "cell_type": "markdown",
   "metadata": {},
   "source": [
    "# <font color= #6B6B6B> <font size = 6> 7. Visualizations and Results </font>"
   ]
  },
  {
   "cell_type": "markdown",
   "metadata": {},
   "source": [
    "<hr style=\"border:0.02in solid gray\"> </hr>"
   ]
  },
  {
   "cell_type": "code",
   "execution_count": 5,
   "metadata": {},
   "outputs": [],
   "source": [
    "# DELETE THIS CELL IN YOUR FILE\n",
    "\n",
    "# In here you present the general results, and also, a discussion of such results."
   ]
  },
  {
   "cell_type": "markdown",
   "metadata": {},
   "source": [
    "<br>"
   ]
  },
  {
   "cell_type": "markdown",
   "metadata": {},
   "source": [
    "## <font color= #6B6B6B> 7.1 Results of Descriptive statistics and Performance Attribution Metrics</font>"
   ]
  },
  {
   "cell_type": "code",
   "execution_count": 6,
   "metadata": {},
   "outputs": [],
   "source": [
    "# DELETE THIS CELL IN YOUR FILE\n",
    "\n",
    "# Separate your results according to the main processes you are working on"
   ]
  },
  {
   "cell_type": "markdown",
   "metadata": {},
   "source": [
    "<br>"
   ]
  },
  {
   "cell_type": "markdown",
   "metadata": {},
   "source": [
    "## <font color= #6B6B6B> 7.2 Results of Behavioral Finance </font>"
   ]
  },
  {
   "cell_type": "code",
   "execution_count": 7,
   "metadata": {},
   "outputs": [],
   "source": [
    "# DELETE THIS CELL IN YOUR FILE\n",
    "\n",
    "# You can have several processes with which you are obtaining the results you need."
   ]
  },
  {
   "cell_type": "markdown",
   "metadata": {},
   "source": [
    "<br>"
   ]
  },
  {
   "cell_type": "markdown",
   "metadata": {},
   "source": [
    "# <font color= #6B6B6B> <font size = 6> 8. References </font>"
   ]
  },
  {
   "cell_type": "markdown",
   "metadata": {},
   "source": [
    "<hr style=\"border:0.02in solid gray\"> </hr>"
   ]
  },
  {
   "cell_type": "code",
   "execution_count": 8,
   "metadata": {},
   "outputs": [],
   "source": [
    "# DELETE THIS CELL IN YOUR FILE\n",
    "\n",
    "# Citations, and other references you are using.\n",
    "\n",
    "# DO INCLUDE THE FOLLOWING CITATION FOR THIS TEMPLATE"
   ]
  },
  {
   "cell_type": "markdown",
   "metadata": {},
   "source": [
    "[1] Munnoz, 2020. Python project template. https://github.com/iffranciscome/python-project. (2021)."
   ]
  },
  {
   "cell_type": "markdown",
   "metadata": {},
   "source": [
    "<br>"
   ]
  }
 ],
 "metadata": {
  "kernelspec": {
   "display_name": "Python 3",
   "language": "python",
   "name": "python3"
  },
  "language_info": {
   "codemirror_mode": {
    "name": "ipython",
    "version": 3
   },
   "file_extension": ".py",
   "mimetype": "text/x-python",
   "name": "python",
   "nbconvert_exporter": "python",
   "pygments_lexer": "ipython3",
   "version": "3.7.3"
  }
 },
 "nbformat": 4,
 "nbformat_minor": 4
}