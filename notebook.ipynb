{
 "cells": [
  {
   "cell_type": "markdown",
   "metadata": {},
   "source": [
    "<center> <img src=\"http://oci02.img.iteso.mx/identidad_de_instancia_2018/ITESO/Logos%20ITESO/Logo-ITESO-Principal.jpg\" align=\"center\" width=\"960\" height=\"480\"/> </center>"
   ]
  },
  {
   "cell_type": "markdown",
   "metadata": {},
   "source": [
    "<center><font color=#555555><font size=6> MAF1731 - Microstructure and Trading Systems </font> <br> <br>\n",
    "    \n",
    "<center><font color=#555555><font size=5> B.Eng Financial Engineering </font> <br> <br> <br> <br>\n",
    "<center><font color=#555555><font size=3> Giusti Gutiérrez Ana Paula </font> <br> <br>\n",
    "<center><font color=#555555><font size=3> Rivera Sahagun Juan Pablo </font> <br> <br>\n",
    "<center><font color=#555555><font size=3> Paris Merin Douglas Fabián </font> <br> <br>\n",
    "\n",
    "   \n",
    "<center> <font color= #555555> <font size = 4> October 2021 </a> | <font color= #555555> <font size = 4> Repository: <a href='https://github.com/douglasparism/MyST_LAB_3_E3'>Link</a></font>"
   ]
  },
  {
   "cell_type": "markdown",
   "metadata": {},
   "source": [
    "<hr style=\"border:0.02in solid gray\"> </hr>"
   ]
  },
  {
   "cell_type": "markdown",
   "metadata": {},
   "source": [
    "<center> <font color= #555555> <font size = 6> Lab 3 </font> <br> <br> <font color= #555555> <font size = 5> Metrics and Behavioral Finance  </font>"
   ]
  },
  {
   "cell_type": "markdown",
   "metadata": {},
   "source": [
    "<hr style=\"border:0.02in solid gray\"> </hr>"
   ]
  },
  {
   "cell_type": "markdown",
   "metadata": {},
   "source": [
    "<br>"
   ]
  },
  {
   "cell_type": "markdown",
   "metadata": {},
   "source": [
    "<font color= #555555> <font size = 4> Abstract </font>"
   ]
  },
  {
   "cell_type": "markdown",
   "metadata": {},
   "source": [
    "<font color= #6B6B6B> <font size = 3>  Include here a description of the whole work, use no more than 400 words, you can use **Bold** and *Italic* highlights, also you can inclue [links](www.iteso.mx). Usually is a good strategy to generate this text at the very end of the process, since you have to include all aspects of the work, from a brief introduction, to problem definitions and methods used, to finally the results found. </font>"
   ]
  },
  {
   "cell_type": "markdown",
   "metadata": {},
   "source": [
    "<br>"
   ]
  },
  {
   "cell_type": "markdown",
   "metadata": {},
   "source": [
    "# <font color= #6B6B6B> <font size = 6> 1. Introduction </font>"
   ]
  },
  {
   "cell_type": "markdown",
   "metadata": {},
   "source": [
    "<hr style=\"border:0.02in solid gray\"> </hr>"
   ]
  },
  {
   "cell_type": "markdown",
   "metadata": {},
   "source": [
    "This is an introduction, normally, it is done at the very end, when all the other content in the notebook is completed but just before the abstract (which is short version of the introduction) ... "
   ]
  },
  {
   "cell_type": "markdown",
   "metadata": {},
   "source": [
    "<br>"
   ]
  },
  {
   "cell_type": "markdown",
   "metadata": {},
   "source": [
    "# <font color= #6B6B6B> 2. Install/Load Packages and Depedencies </font>"
   ]
  },
  {
   "cell_type": "markdown",
   "metadata": {},
   "source": [
    "<hr style=\"border:0.02in solid gray\"> </hr>"
   ]
  },
  {
   "cell_type": "markdown",
   "metadata": {},
   "source": [
    "## <font color= #6B6B6B> 2.1 Python Packages </font> <font color= #555555>"
   ]
  },
  {
   "cell_type": "markdown",
   "metadata": {},
   "source": [
    "In order to run this notebook, it is necessary to have installed and/or have the _requirements.txt_ file with the following: "
   ]
  },
  {
   "cell_type": "markdown",
   "metadata": {},
   "source": [
    "- pandas>=1.1.1 \n",
    "- numpy>=1.19.1\n",
    "- jupyter>=1.0.0\n",
    "- yfinance~=0.1.63\n",
    "- MetaTrader5~=5.0.34\n",
    "- Some others that can be used."
   ]
  },
  {
   "cell_type": "markdown",
   "metadata": {},
   "source": [
    "## <font color= #6B6B6B> 2.2 Files Dependencies </font> <font color= #555555>"
   ]
  },
  {
   "cell_type": "markdown",
   "metadata": {},
   "source": [
    "The following are the file dependencies that are needed to run this notebook:"
   ]
  },
  {
   "cell_type": "markdown",
   "metadata": {},
   "source": [
    "- files/History5400732.xlsx : Student Operations History 1\n",
    "- files/History5401437.xlsx : Student Operations History 2\n",
    "- files/df_hist_5401675.csv : Student Operations History 3\n",
    "- files/instruments_pips.csv : Data base with pips of a list of instrument"
   ]
  },
  {
   "cell_type": "markdown",
   "metadata": {},
   "source": [
    "## <font color= #6E6E6E> 2.3 Install and Import Packages</font>"
   ]
  },
  {
   "cell_type": "code",
   "execution_count": 1,
   "metadata": {},
   "outputs": [],
   "source": [
    "%%capture\n",
    "\n",
    "# Install all the pip packages in the requirements.txt\n",
    "import sys\n",
    "!{sys.executable} -m pip install -r requirements.txt"
   ]
  },
  {
   "cell_type": "code",
   "execution_count": 2,
   "metadata": {},
   "outputs": [],
   "source": [
    "import functions as fn\n",
    "import sys\n",
    "import data as dt\n",
    "import datetime"
   ]
  },
  {
   "cell_type": "markdown",
   "metadata": {},
   "source": [
    "# <font color= #6B6B6B> 3. Data Description </font>"
   ]
  },
  {
   "cell_type": "markdown",
   "metadata": {},
   "source": [
    "<hr style=\"border:0.02in solid gray\"> </hr>"
   ]
  },
  {
   "cell_type": "markdown",
   "metadata": {},
   "source": [
    "To complete the project objective, we need to have the data that was created in the laboratory number two. Here are the three stories of operations that will be analize in the next steps."
   ]
  },
  {
   "cell_type": "code",
   "execution_count": 3,
   "metadata": {},
   "outputs": [],
   "source": [
    "data_ini_1 = dt.f_leer_archivo(param_estudiante=1)\n",
    "data_ini_2 = dt.f_leer_archivo(param_estudiante=2)\n",
    "data_ini_3 = dt.f_leer_archivo(param_estudiante=3)"
   ]
  },
  {
   "cell_type": "code",
   "execution_count": 4,
   "metadata": {},
   "outputs": [
    {
     "data": {
      "text/html": [
       "<div>\n",
       "<style scoped>\n",
       "    .dataframe tbody tr th:only-of-type {\n",
       "        vertical-align: middle;\n",
       "    }\n",
       "\n",
       "    .dataframe tbody tr th {\n",
       "        vertical-align: top;\n",
       "    }\n",
       "\n",
       "    .dataframe thead th {\n",
       "        text-align: right;\n",
       "    }\n",
       "</style>\n",
       "<table border=\"1\" class=\"dataframe\">\n",
       "  <thead>\n",
       "    <tr style=\"text-align: right;\">\n",
       "      <th></th>\n",
       "      <th>Unnamed: 0</th>\n",
       "      <th>OpenTime</th>\n",
       "      <th>Symbol</th>\n",
       "      <th>Ticket</th>\n",
       "      <th>Type</th>\n",
       "      <th>Volume</th>\n",
       "      <th>OpenPrice</th>\n",
       "      <th>S/L</th>\n",
       "      <th>T/P</th>\n",
       "      <th>CloseTime</th>\n",
       "      <th>ClosePrice</th>\n",
       "      <th>Profit</th>\n",
       "    </tr>\n",
       "  </thead>\n",
       "  <tbody>\n",
       "    <tr>\n",
       "      <th>0</th>\n",
       "      <td>0</td>\n",
       "      <td>2021-09-22 05:28:08</td>\n",
       "      <td>BTCUSD</td>\n",
       "      <td>45458917</td>\n",
       "      <td>0</td>\n",
       "      <td>0.23</td>\n",
       "      <td>42127.15</td>\n",
       "      <td>40139.0</td>\n",
       "      <td>42496.76</td>\n",
       "      <td>2021-09-22 05:28:17</td>\n",
       "      <td>42010.08</td>\n",
       "      <td>-26.93</td>\n",
       "    </tr>\n",
       "    <tr>\n",
       "      <th>1</th>\n",
       "      <td>2</td>\n",
       "      <td>2021-09-22 05:30:14</td>\n",
       "      <td>BTCUSD</td>\n",
       "      <td>45458934</td>\n",
       "      <td>0</td>\n",
       "      <td>0.23</td>\n",
       "      <td>42060.66</td>\n",
       "      <td>40143.0</td>\n",
       "      <td>42496.76</td>\n",
       "      <td>2021-09-22 10:43:00</td>\n",
       "      <td>42501.69</td>\n",
       "      <td>101.44</td>\n",
       "    </tr>\n",
       "    <tr>\n",
       "      <th>2</th>\n",
       "      <td>4</td>\n",
       "      <td>2021-09-22 17:27:04</td>\n",
       "      <td>BTCUSD</td>\n",
       "      <td>45470462</td>\n",
       "      <td>0</td>\n",
       "      <td>0.24</td>\n",
       "      <td>42599.23</td>\n",
       "      <td>0.0</td>\n",
       "      <td>0.00</td>\n",
       "      <td>2021-09-22 17:27:55</td>\n",
       "      <td>43025.30</td>\n",
       "      <td>106.91</td>\n",
       "    </tr>\n",
       "    <tr>\n",
       "      <th>3</th>\n",
       "      <td>7</td>\n",
       "      <td>2021-09-23 04:09:17</td>\n",
       "      <td>BTCUSD</td>\n",
       "      <td>45483777</td>\n",
       "      <td>1</td>\n",
       "      <td>0.23</td>\n",
       "      <td>43179.98</td>\n",
       "      <td>44046.0</td>\n",
       "      <td>42790.00</td>\n",
       "      <td>2021-09-23 06:24:19</td>\n",
       "      <td>44050.76</td>\n",
       "      <td>-200.28</td>\n",
       "    </tr>\n",
       "    <tr>\n",
       "      <th>4</th>\n",
       "      <td>9</td>\n",
       "      <td>2021-09-24 21:22:51</td>\n",
       "      <td>BTCUSD</td>\n",
       "      <td>45524436</td>\n",
       "      <td>0</td>\n",
       "      <td>0.23</td>\n",
       "      <td>42255.15</td>\n",
       "      <td>40304.0</td>\n",
       "      <td>43135.80</td>\n",
       "      <td>2021-09-25 00:39:11</td>\n",
       "      <td>43153.89</td>\n",
       "      <td>206.71</td>\n",
       "    </tr>\n",
       "  </tbody>\n",
       "</table>\n",
       "</div>"
      ],
      "text/plain": [
       "   Unnamed: 0            OpenTime  Symbol    Ticket  Type  Volume  OpenPrice  \\\n",
       "0           0 2021-09-22 05:28:08  BTCUSD  45458917     0    0.23   42127.15   \n",
       "1           2 2021-09-22 05:30:14  BTCUSD  45458934     0    0.23   42060.66   \n",
       "2           4 2021-09-22 17:27:04  BTCUSD  45470462     0    0.24   42599.23   \n",
       "3           7 2021-09-23 04:09:17  BTCUSD  45483777     1    0.23   43179.98   \n",
       "4           9 2021-09-24 21:22:51  BTCUSD  45524436     0    0.23   42255.15   \n",
       "\n",
       "       S/L       T/P           CloseTime  ClosePrice  Profit  \n",
       "0  40139.0  42496.76 2021-09-22 05:28:17    42010.08  -26.93  \n",
       "1  40143.0  42496.76 2021-09-22 10:43:00    42501.69  101.44  \n",
       "2      0.0      0.00 2021-09-22 17:27:55    43025.30  106.91  \n",
       "3  44046.0  42790.00 2021-09-23 06:24:19    44050.76 -200.28  \n",
       "4  40304.0  43135.80 2021-09-25 00:39:11    43153.89  206.71  "
      ]
     },
     "execution_count": 4,
     "metadata": {},
     "output_type": "execute_result"
    }
   ],
   "source": [
    "data_ini_1"
   ]
  },
  {
   "cell_type": "code",
   "execution_count": 5,
   "metadata": {},
   "outputs": [
    {
     "data": {
      "text/html": [
       "<div>\n",
       "<style scoped>\n",
       "    .dataframe tbody tr th:only-of-type {\n",
       "        vertical-align: middle;\n",
       "    }\n",
       "\n",
       "    .dataframe tbody tr th {\n",
       "        vertical-align: top;\n",
       "    }\n",
       "\n",
       "    .dataframe thead th {\n",
       "        text-align: right;\n",
       "    }\n",
       "</style>\n",
       "<table border=\"1\" class=\"dataframe\">\n",
       "  <thead>\n",
       "    <tr style=\"text-align: right;\">\n",
       "      <th></th>\n",
       "      <th>Unnamed: 0</th>\n",
       "      <th>OpenTime</th>\n",
       "      <th>Symbol</th>\n",
       "      <th>Ticket</th>\n",
       "      <th>Type</th>\n",
       "      <th>Volume</th>\n",
       "      <th>OpenPrice</th>\n",
       "      <th>S/L</th>\n",
       "      <th>T/P</th>\n",
       "      <th>CloseTime</th>\n",
       "      <th>ClosePrice</th>\n",
       "      <th>Profit</th>\n",
       "    </tr>\n",
       "  </thead>\n",
       "  <tbody>\n",
       "    <tr>\n",
       "      <th>0</th>\n",
       "      <td>1</td>\n",
       "      <td>2021-09-20 21:38:54</td>\n",
       "      <td>GBPUSD</td>\n",
       "      <td>45426490</td>\n",
       "      <td>0</td>\n",
       "      <td>0.1</td>\n",
       "      <td>1.36482</td>\n",
       "      <td>1.34191</td>\n",
       "      <td>1.41691</td>\n",
       "      <td>2021-09-21 18:10:07</td>\n",
       "      <td>1.36541</td>\n",
       "      <td>5.90</td>\n",
       "    </tr>\n",
       "    <tr>\n",
       "      <th>1</th>\n",
       "      <td>2</td>\n",
       "      <td>2021-09-21 18:06:22</td>\n",
       "      <td>EURUSD</td>\n",
       "      <td>45448836</td>\n",
       "      <td>1</td>\n",
       "      <td>0.1</td>\n",
       "      <td>1.17224</td>\n",
       "      <td>1.17272</td>\n",
       "      <td>1.17072</td>\n",
       "      <td>2021-09-21 19:23:28</td>\n",
       "      <td>1.17271</td>\n",
       "      <td>-4.70</td>\n",
       "    </tr>\n",
       "    <tr>\n",
       "      <th>2</th>\n",
       "      <td>3</td>\n",
       "      <td>2021-09-22 17:22:53</td>\n",
       "      <td>AUDUSD</td>\n",
       "      <td>45470330</td>\n",
       "      <td>1</td>\n",
       "      <td>0.2</td>\n",
       "      <td>0.72540</td>\n",
       "      <td>0.73067</td>\n",
       "      <td>0.71567</td>\n",
       "      <td>2021-09-23 16:47:35</td>\n",
       "      <td>0.73067</td>\n",
       "      <td>-105.40</td>\n",
       "    </tr>\n",
       "    <tr>\n",
       "      <th>3</th>\n",
       "      <td>4</td>\n",
       "      <td>2021-09-23 16:58:56</td>\n",
       "      <td>USDCAD</td>\n",
       "      <td>45498648</td>\n",
       "      <td>0</td>\n",
       "      <td>0.1</td>\n",
       "      <td>1.26548</td>\n",
       "      <td>1.26062</td>\n",
       "      <td>1.27189</td>\n",
       "      <td>2021-09-24 05:42:33</td>\n",
       "      <td>1.26699</td>\n",
       "      <td>11.92</td>\n",
       "    </tr>\n",
       "    <tr>\n",
       "      <th>4</th>\n",
       "      <td>5</td>\n",
       "      <td>2021-09-24 19:23:01</td>\n",
       "      <td>NZDUSD</td>\n",
       "      <td>45522977</td>\n",
       "      <td>0</td>\n",
       "      <td>0.1</td>\n",
       "      <td>0.70234</td>\n",
       "      <td>0.70024</td>\n",
       "      <td>70507.00000</td>\n",
       "      <td>2021-09-24 23:56:35</td>\n",
       "      <td>0.70010</td>\n",
       "      <td>-22.40</td>\n",
       "    </tr>\n",
       "  </tbody>\n",
       "</table>\n",
       "</div>"
      ],
      "text/plain": [
       "   Unnamed: 0            OpenTime  Symbol    Ticket  Type  Volume  OpenPrice  \\\n",
       "0           1 2021-09-20 21:38:54  GBPUSD  45426490     0     0.1    1.36482   \n",
       "1           2 2021-09-21 18:06:22  EURUSD  45448836     1     0.1    1.17224   \n",
       "2           3 2021-09-22 17:22:53  AUDUSD  45470330     1     0.2    0.72540   \n",
       "3           4 2021-09-23 16:58:56  USDCAD  45498648     0     0.1    1.26548   \n",
       "4           5 2021-09-24 19:23:01  NZDUSD  45522977     0     0.1    0.70234   \n",
       "\n",
       "       S/L          T/P           CloseTime  ClosePrice  Profit  \n",
       "0  1.34191      1.41691 2021-09-21 18:10:07     1.36541    5.90  \n",
       "1  1.17272      1.17072 2021-09-21 19:23:28     1.17271   -4.70  \n",
       "2  0.73067      0.71567 2021-09-23 16:47:35     0.73067 -105.40  \n",
       "3  1.26062      1.27189 2021-09-24 05:42:33     1.26699   11.92  \n",
       "4  0.70024  70507.00000 2021-09-24 23:56:35     0.70010  -22.40  "
      ]
     },
     "execution_count": 5,
     "metadata": {},
     "output_type": "execute_result"
    }
   ],
   "source": [
    "data_ini_2"
   ]
  },
  {
   "cell_type": "code",
   "execution_count": 6,
   "metadata": {},
   "outputs": [
    {
     "data": {
      "text/html": [
       "<div>\n",
       "<style scoped>\n",
       "    .dataframe tbody tr th:only-of-type {\n",
       "        vertical-align: middle;\n",
       "    }\n",
       "\n",
       "    .dataframe tbody tr th {\n",
       "        vertical-align: top;\n",
       "    }\n",
       "\n",
       "    .dataframe thead th {\n",
       "        text-align: right;\n",
       "    }\n",
       "</style>\n",
       "<table border=\"1\" class=\"dataframe\">\n",
       "  <thead>\n",
       "    <tr style=\"text-align: right;\">\n",
       "      <th></th>\n",
       "      <th>Unnamed: 0</th>\n",
       "      <th>OpenTime</th>\n",
       "      <th>Symbol</th>\n",
       "      <th>Ticket</th>\n",
       "      <th>Type</th>\n",
       "      <th>Volume</th>\n",
       "      <th>OpenPrice</th>\n",
       "      <th>S/L</th>\n",
       "      <th>T/P</th>\n",
       "      <th>CloseTime</th>\n",
       "      <th>ClosePrice</th>\n",
       "      <th>Profit</th>\n",
       "    </tr>\n",
       "  </thead>\n",
       "  <tbody>\n",
       "    <tr>\n",
       "      <th>0</th>\n",
       "      <td>0</td>\n",
       "      <td>2021-09-21 04:36:26</td>\n",
       "      <td>EURUSD</td>\n",
       "      <td>45431784</td>\n",
       "      <td>1</td>\n",
       "      <td>0.10</td>\n",
       "      <td>1.172670</td>\n",
       "      <td>1.17370</td>\n",
       "      <td>1.16980</td>\n",
       "      <td>2021-09-21 04:57:00</td>\n",
       "      <td>1.1737</td>\n",
       "      <td>-10.40</td>\n",
       "    </tr>\n",
       "    <tr>\n",
       "      <th>1</th>\n",
       "      <td>2</td>\n",
       "      <td>2021-09-22 06:36:42</td>\n",
       "      <td>EURUSD</td>\n",
       "      <td>45459384</td>\n",
       "      <td>0</td>\n",
       "      <td>0.25</td>\n",
       "      <td>1.172310</td>\n",
       "      <td>1.16211</td>\n",
       "      <td>1.18220</td>\n",
       "      <td>2021-09-22 21:36:26</td>\n",
       "      <td>0.0000</td>\n",
       "      <td>74.50</td>\n",
       "    </tr>\n",
       "    <tr>\n",
       "      <th>2</th>\n",
       "      <td>4</td>\n",
       "      <td>2021-09-23 06:01:16</td>\n",
       "      <td>EURUSD</td>\n",
       "      <td>45484785</td>\n",
       "      <td>0</td>\n",
       "      <td>0.50</td>\n",
       "      <td>1.170060</td>\n",
       "      <td>1.16186</td>\n",
       "      <td>1.77991</td>\n",
       "      <td>2021-09-23 15:57:25</td>\n",
       "      <td>0.0000</td>\n",
       "      <td>132.00</td>\n",
       "    </tr>\n",
       "    <tr>\n",
       "      <th>3</th>\n",
       "      <td>6</td>\n",
       "      <td>2021-09-23 16:03:02</td>\n",
       "      <td>USDCHF</td>\n",
       "      <td>45495654</td>\n",
       "      <td>0</td>\n",
       "      <td>0.70</td>\n",
       "      <td>1.370990</td>\n",
       "      <td>0.88129</td>\n",
       "      <td>0.95338</td>\n",
       "      <td>2021-09-24 23:01:56</td>\n",
       "      <td>0.0000</td>\n",
       "      <td>0.00</td>\n",
       "    </tr>\n",
       "    <tr>\n",
       "      <th>4</th>\n",
       "      <td>7</td>\n",
       "      <td>2021-09-23 16:08:36</td>\n",
       "      <td>GBPUSD</td>\n",
       "      <td>45496076</td>\n",
       "      <td>1</td>\n",
       "      <td>10.00</td>\n",
       "      <td>1.265510</td>\n",
       "      <td>1.42103</td>\n",
       "      <td>1.33297</td>\n",
       "      <td>2021-09-23 16:25:00</td>\n",
       "      <td>0.0000</td>\n",
       "      <td>957.05</td>\n",
       "    </tr>\n",
       "    <tr>\n",
       "      <th>5</th>\n",
       "      <td>9</td>\n",
       "      <td>2021-09-23 16:33:58</td>\n",
       "      <td>USDCAD</td>\n",
       "      <td>45497181</td>\n",
       "      <td>1</td>\n",
       "      <td>20.00</td>\n",
       "      <td>1.264810</td>\n",
       "      <td>1.28521</td>\n",
       "      <td>1.25619</td>\n",
       "      <td>2021-09-23 21:26:22</td>\n",
       "      <td>0.0000</td>\n",
       "      <td>1943.07</td>\n",
       "    </tr>\n",
       "    <tr>\n",
       "      <th>6</th>\n",
       "      <td>11</td>\n",
       "      <td>2021-09-23 21:31:00</td>\n",
       "      <td>USDCAD</td>\n",
       "      <td>45504414</td>\n",
       "      <td>0</td>\n",
       "      <td>0.70</td>\n",
       "      <td>0.923620</td>\n",
       "      <td>1.24462</td>\n",
       "      <td>1.27466</td>\n",
       "      <td>2021-09-24 05:11:08</td>\n",
       "      <td>0.0000</td>\n",
       "      <td>115.01</td>\n",
       "    </tr>\n",
       "    <tr>\n",
       "      <th>7</th>\n",
       "      <td>12</td>\n",
       "      <td>2021-09-23 21:41:07</td>\n",
       "      <td>USDJPY</td>\n",
       "      <td>45504470</td>\n",
       "      <td>1</td>\n",
       "      <td>25.00</td>\n",
       "      <td>110.216000</td>\n",
       "      <td>111.20600</td>\n",
       "      <td>109.72000</td>\n",
       "      <td>2021-09-28 06:25:44</td>\n",
       "      <td>111.2060</td>\n",
       "      <td>-22300.55</td>\n",
       "    </tr>\n",
       "    <tr>\n",
       "      <th>8</th>\n",
       "      <td>16</td>\n",
       "      <td>2021-09-29 20:21:17</td>\n",
       "      <td>USDCAD</td>\n",
       "      <td>45604366</td>\n",
       "      <td>1</td>\n",
       "      <td>75.00</td>\n",
       "      <td>1.276138</td>\n",
       "      <td>1.36050</td>\n",
       "      <td>1.25604</td>\n",
       "      <td>2021-09-30 05:59:52</td>\n",
       "      <td>0.0000</td>\n",
       "      <td>13765.90</td>\n",
       "    </tr>\n",
       "    <tr>\n",
       "      <th>9</th>\n",
       "      <td>20</td>\n",
       "      <td>2021-09-30 06:19:10</td>\n",
       "      <td>USDJPY</td>\n",
       "      <td>45610096</td>\n",
       "      <td>1</td>\n",
       "      <td>65.00</td>\n",
       "      <td>1.276138</td>\n",
       "      <td>114.82900</td>\n",
       "      <td>108.82400</td>\n",
       "      <td>2021-09-30 18:24:49</td>\n",
       "      <td>0.0000</td>\n",
       "      <td>17777.56</td>\n",
       "    </tr>\n",
       "  </tbody>\n",
       "</table>\n",
       "</div>"
      ],
      "text/plain": [
       "   Unnamed: 0            OpenTime  Symbol    Ticket  Type  Volume   OpenPrice  \\\n",
       "0           0 2021-09-21 04:36:26  EURUSD  45431784     1    0.10    1.172670   \n",
       "1           2 2021-09-22 06:36:42  EURUSD  45459384     0    0.25    1.172310   \n",
       "2           4 2021-09-23 06:01:16  EURUSD  45484785     0    0.50    1.170060   \n",
       "3           6 2021-09-23 16:03:02  USDCHF  45495654     0    0.70    1.370990   \n",
       "4           7 2021-09-23 16:08:36  GBPUSD  45496076     1   10.00    1.265510   \n",
       "5           9 2021-09-23 16:33:58  USDCAD  45497181     1   20.00    1.264810   \n",
       "6          11 2021-09-23 21:31:00  USDCAD  45504414     0    0.70    0.923620   \n",
       "7          12 2021-09-23 21:41:07  USDJPY  45504470     1   25.00  110.216000   \n",
       "8          16 2021-09-29 20:21:17  USDCAD  45604366     1   75.00    1.276138   \n",
       "9          20 2021-09-30 06:19:10  USDJPY  45610096     1   65.00    1.276138   \n",
       "\n",
       "         S/L        T/P           CloseTime  ClosePrice    Profit  \n",
       "0    1.17370    1.16980 2021-09-21 04:57:00      1.1737    -10.40  \n",
       "1    1.16211    1.18220 2021-09-22 21:36:26      0.0000     74.50  \n",
       "2    1.16186    1.77991 2021-09-23 15:57:25      0.0000    132.00  \n",
       "3    0.88129    0.95338 2021-09-24 23:01:56      0.0000      0.00  \n",
       "4    1.42103    1.33297 2021-09-23 16:25:00      0.0000    957.05  \n",
       "5    1.28521    1.25619 2021-09-23 21:26:22      0.0000   1943.07  \n",
       "6    1.24462    1.27466 2021-09-24 05:11:08      0.0000    115.01  \n",
       "7  111.20600  109.72000 2021-09-28 06:25:44    111.2060 -22300.55  \n",
       "8    1.36050    1.25604 2021-09-30 05:59:52      0.0000  13765.90  \n",
       "9  114.82900  108.82400 2021-09-30 18:24:49      0.0000  17777.56  "
      ]
     },
     "execution_count": 6,
     "metadata": {},
     "output_type": "execute_result"
    }
   ],
   "source": [
    "data_ini_3"
   ]
  },
  {
   "cell_type": "markdown",
   "metadata": {},
   "source": [
    "# <font color= #6B6B6B> 4. Descriptive statistics  </font>"
   ]
  },
  {
   "cell_type": "markdown",
   "metadata": {},
   "source": [
    "<hr style=\"border:0.02in solid gray\"> </hr>"
   ]
  },
  {
   "cell_type": "markdown",
   "metadata": {},
   "source": []
  },
  {
   "cell_type": "code",
   "execution_count": 7,
   "metadata": {},
   "outputs": [],
   "source": [
    "data_jp = fn.f_columnas_tiempos(data_ini_3)\n",
    "data_jp[\"mult\"] = data_jp.Symbol.map(lambda x: fn.f_pip_size(x))\n",
    "data_jp = fn.f_columnas_pips(data_jp)\n",
    "parte_1_jp = fn.f_estadisticas_ba(data_jp)\n",
    "parte_1_jp"
   ]
  },
  {
   "cell_type": "code",
   "execution_count": 8,
   "metadata": {},
   "outputs": [],
   "source": [
    "data_dou = fn.f_columnas_tiempos(data_ini_3)\n",
    "data_dou[\"mult\"] = data_dou.Symbol.map(lambda x: fn.f_pip_size(x))\n",
    "data_dou = fn.f_columnas_pips(data_dou)\n",
    "parte_1_dou = fn.f_estadisticas_ba(data_dou)\n",
    "parte_1_dou"
   ]
  },
  {
   "cell_type": "code",
   "execution_count": 12,
   "metadata": {},
   "outputs": [],
   "source": [
    "data_ap = fn.f_columnas_tiempos(data_ini_2)\n",
    "data_ap[\"mult\"] = data_ap.Symbol.map(lambda x: fn.f_pip_size(x))\n",
    "data_ap = fn.f_columnas_pips(data_ap)\n",
    "parte_1_ap = fn.f_estadisticas_ba(data_ap)\n",
    "parte_1_ap"
   ]
  },
  {
   "cell_type": "markdown",
   "metadata": {},
   "source": [
    "# <font color= #6B6B6B> 5. Performance Attribution Metrics  </font>"
   ]
  },
  {
   "cell_type": "markdown",
   "metadata": {},
   "source": [
    "<hr style=\"border:0.02in solid gray\"> </hr>"
   ]
  },
  {
   "cell_type": "markdown",
   "metadata": {},
   "source": []
  },
  {
   "cell_type": "code",
   "execution_count": null,
   "metadata": {},
   "outputs": [],
   "source": [
    "parte_2_1_dou = fn.f_evolucion_capital(cap_ini=100000, operaciones=data_dou.copy())\n",
    "parte_2_2_dou = fn.f_estadisticas_mad(parte_2_1_dou, rf=0.05, benchmark_ticker=\"^GSPC\")\n",
    "parte_2_1_dou, parte_2_2_dou"
   ]
  },
  {
   "cell_type": "code",
   "execution_count": null,
   "metadata": {},
   "outputs": [],
   "source": [
    "parte_2_1_ap = fn.f_evolucion_capital(cap_ini=100000, operaciones=data_ap.copy())\n",
    "parte_2_2_ap = fn.f_estadisticas_mad(parte_2_1_ap, rf=0.05, benchmark_ticker=\"^GSPC\")\n",
    "parte_2_1_ap, parte_2_2_ap"
   ]
  },
  {
   "cell_type": "code",
   "execution_count": null,
   "metadata": {},
   "outputs": [],
   "source": [
    "parte_2_1_jp = fn.f_evolucion_capital(cap_ini=100000, operaciones=data_jp.copy())\n",
    "parte_2_2_jp = fn.f_estadisticas_mad(parte_2_1_jp, rf=0.05, benchmark_ticker=\"^GSPC\")\n",
    "parte_2_1_jp, parte_2_2_jp"
   ]
  },
  {
   "cell_type": "code",
   "execution_count": null,
   "metadata": {},
   "outputs": [],
   "source": []
  },
  {
   "cell_type": "markdown",
   "metadata": {},
   "source": [
    "# <font color= #6B6B6B> 6. Behavioral Finance  </font>"
   ]
  },
  {
   "cell_type": "markdown",
   "metadata": {},
   "source": [
    "<hr style=\"border:0.02in solid gray\"> </hr>"
   ]
  },
  {
   "cell_type": "markdown",
   "metadata": {},
   "source": []
  },
  {
   "cell_type": "code",
   "execution_count": null,
   "metadata": {},
   "outputs": [],
   "source": [
    "final_dict_dou = fn.f_be_de(data_dou)\n",
    "final_dict_dou"
   ]
  },
  {
   "cell_type": "code",
   "execution_count": null,
   "metadata": {},
   "outputs": [],
   "source": [
    "final_dict_ap = fn.f_be_de(data_ap)\n",
    "final_dict_ap"
   ]
  },
  {
   "cell_type": "code",
   "execution_count": null,
   "metadata": {},
   "outputs": [],
   "source": [
    "final_dict_jp = fn.f_be_de(data_jp)\n",
    "final_dict_jp"
   ]
  },
  {
   "cell_type": "code",
   "execution_count": null,
   "metadata": {},
   "outputs": [],
   "source": []
  },
  {
   "cell_type": "markdown",
   "metadata": {},
   "source": [
    "# <font color= #6B6B6B> <font size = 6> 7. Visualizations and Results </font>"
   ]
  },
  {
   "cell_type": "markdown",
   "metadata": {},
   "source": [
    "<hr style=\"border:0.02in solid gray\"> </hr>"
   ]
  },
  {
   "cell_type": "code",
   "execution_count": null,
   "metadata": {},
   "outputs": [],
   "source": [
    "# DELETE THIS CELL IN YOUR FILE\n",
    "\n",
    "# In here you present the general results, and also, a discussion of such results."
   ]
  },
  {
   "cell_type": "markdown",
   "metadata": {},
   "source": [
    "## <font color= #6B6B6B> 7.1 Results of Descriptive statistics and Performance Attribution Metrics</font>"
   ]
  },
  {
   "cell_type": "code",
   "execution_count": null,
   "metadata": {},
   "outputs": [],
   "source": [
    "# DELETE THIS CELL IN YOUR FILE\n",
    "\n",
    "# Separate your results according to the main processes you are working on"
   ]
  },
  {
   "cell_type": "markdown",
   "metadata": {},
   "source": [
    "## <font color= #6B6B6B> 7.2 Results of Behavioral Finance </font>"
   ]
  },
  {
   "cell_type": "code",
   "execution_count": null,
   "metadata": {},
   "outputs": [],
   "source": [
    "# DELETE THIS CELL IN YOUR FILE\n",
    "\n",
    "# You can have several processes with which you are obtaining the results you need."
   ]
  },
  {
   "cell_type": "markdown",
   "metadata": {},
   "source": [
    "<br>"
   ]
  },
  {
   "cell_type": "markdown",
   "metadata": {},
   "source": [
    "# <font color= #6B6B6B> <font size = 6> 8. References </font>"
   ]
  },
  {
   "cell_type": "markdown",
   "metadata": {},
   "source": [
    "<hr style=\"border:0.02in solid gray\"> </hr>"
   ]
  },
  {
   "cell_type": "markdown",
   "metadata": {},
   "source": [
    "[1] Munnoz, 2020. Python project template. https://github.com/iffranciscome/python-project. (2021)."
   ]
  },
  {
   "cell_type": "markdown",
   "metadata": {},
   "source": [
    "<br>"
   ]
  }
 ],
 "metadata": {
  "kernelspec": {
   "display_name": "Python 3",
   "language": "python",
   "name": "python3"
  },
  "language_info": {
   "codemirror_mode": {
    "name": "ipython",
    "version": 3
   },
   "file_extension": ".py",
   "mimetype": "text/x-python",
   "name": "python",
   "nbconvert_exporter": "python",
   "pygments_lexer": "ipython3",
   "version": "3.8.3"
  }
 },
 "nbformat": 4,
 "nbformat_minor": 4
}
