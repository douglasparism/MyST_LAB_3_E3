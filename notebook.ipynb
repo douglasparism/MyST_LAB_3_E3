{
 "cells": [
  {
   "cell_type": "markdown",
   "metadata": {},
   "source": [
    "<center> <img src=\"http://oci02.img.iteso.mx/identidad_de_instancia_2018/ITESO/Logos%20ITESO/Logo-ITESO-Principal.jpg\" align=\"center\" width=\"960\" height=\"480\"/> </center>"
   ]
  },
  {
   "cell_type": "markdown",
   "metadata": {},
   "source": [
    "<center><font color=#555555><font size=6> MAF1731 - Microstructure and Trading Systems </font> <br> <br>\n",
    "    \n",
    "<center><font color=#555555><font size=5> B.Eng Financial Engineering </font> <br> <br> <br> <br>\n",
    "<center><font color=#555555><font size=3> Giusti Gutiérrez Ana Paula </font> <br> <br>\n",
    "<center><font color=#555555><font size=3> Rivera Sahagun Juan Pablo </font> <br> <br>\n",
    "<center><font color=#555555><font size=3> Paris Merin Douglas Fabián </font> <br> <br>\n",
    "\n",
    "   \n",
    "<center> <font color= #555555> <font size = 4> October 2021 </a> | <font color= #555555> <font size = 4> Repository: <a href='https://github.com/douglasparism/MyST_LAB_3_E3'>Link</a></font>"
   ]
  },
  {
   "cell_type": "markdown",
   "metadata": {},
   "source": [
    "<hr style=\"border:0.02in solid gray\"> </hr>"
   ]
  },
  {
   "cell_type": "markdown",
   "metadata": {},
   "source": [
    "<center> <font color= #555555> <font size = 6> Lab 3 </font> <br> <br> <font color= #555555> <font size = 5> Metrics and Behavioral Finance  </font>"
   ]
  },
  {
   "cell_type": "markdown",
   "metadata": {},
   "source": [
    "<hr style=\"border:0.02in solid gray\"> </hr>"
   ]
  },
  {
   "cell_type": "markdown",
   "metadata": {},
   "source": [
    "<br>"
   ]
  },
  {
   "cell_type": "markdown",
   "metadata": {},
   "source": [
    "<font color= #555555> <font size = 4> Abstract </font>"
   ]
  },
  {
   "cell_type": "markdown",
   "metadata": {},
   "source": [
    "<font color= #6B6B6B> <font size = 3>  Include here a description of the whole work, use no more than 400 words, you can use **Bold** and *Italic* highlights, also you can inclue [links](www.iteso.mx). Usually is a good strategy to generate this text at the very end of the process, since you have to include all aspects of the work, from a brief introduction, to problem definitions and methods used, to finally the results found. </font>"
   ]
  },
  {
   "cell_type": "markdown",
   "metadata": {},
   "source": [
    "<br>"
   ]
  },
  {
   "cell_type": "markdown",
   "metadata": {},
   "source": [
    "# <font color= #6B6B6B> <font size = 6> 1. Introduction </font>"
   ]
  },
  {
   "cell_type": "markdown",
   "metadata": {},
   "source": [
    "<hr style=\"border:0.02in solid gray\"> </hr>"
   ]
  },
  {
   "cell_type": "markdown",
   "metadata": {},
   "source": [
    "This is an introduction, normally, it is done at the very end, when all the other content in the notebook is completed but just before the abstract (which is short version of the introduction) ... "
   ]
  },
  {
   "cell_type": "markdown",
   "metadata": {},
   "source": [
    "<br>"
   ]
  },
  {
   "cell_type": "markdown",
   "metadata": {},
   "source": [
    "# <font color= #6B6B6B> 2. Install/Load Packages and Depedencies </font>"
   ]
  },
  {
   "cell_type": "markdown",
   "metadata": {},
   "source": [
    "<hr style=\"border:0.02in solid gray\"> </hr>"
   ]
  },
  {
   "cell_type": "markdown",
   "metadata": {},
   "source": [
    "## <font color= #6B6B6B> 2.1 Python Packages </font> <font color= #555555>"
   ]
  },
  {
   "cell_type": "markdown",
   "metadata": {},
   "source": [
    "In order to run this notebook, it is necessary to have installed and/or have the _requirements.txt_ file with the following: "
   ]
  },
  {
   "cell_type": "markdown",
   "metadata": {},
   "source": [
    "- pandas>=1.1.1 \n",
    "- numpy>=1.19.1\n",
    "- jupyter>=1.0.0\n",
    "- yfinance~=0.1.63\n",
    "- MetaTrader5~=5.0.34\n",
    "- plotly>=5.3.1\n",
    "- Some others that can be used."
   ]
  },
  {
   "cell_type": "markdown",
   "metadata": {},
   "source": [
    "## <font color= #6B6B6B> 2.2 Files Dependencies </font> <font color= #555555>"
   ]
  },
  {
   "cell_type": "markdown",
   "metadata": {},
   "source": [
    "The following are the file dependencies that are needed to run this notebook:"
   ]
  },
  {
   "cell_type": "markdown",
   "metadata": {},
   "source": [
    "- files/History5400732.xlsx : Student Operations History 1\n",
    "- files/History5401437.xlsx : Student Operations History 2\n",
    "- files/df_hist_5401675.csv : Student Operations History 3\n",
    "- files/instruments_pips.csv : Data base with pips of a list of instrument"
   ]
  },
  {
   "cell_type": "markdown",
   "metadata": {},
   "source": [
    "## <font color= #6E6E6E> 2.3 Install and Import Packages</font>"
   ]
  },
  {
   "cell_type": "code",
   "execution_count": 1,
   "metadata": {},
   "outputs": [],
   "source": [
    "%%capture\n",
    "\n",
    "# Install all the pip packages in the requirements.txt\n",
    "import sys\n",
    "!{sys.executable} -m pip install -r requirements.txt"
   ]
  },
  {
   "cell_type": "code",
   "execution_count": 3,
   "metadata": {},
   "outputs": [],
   "source": [
    "import functions as fn\n",
    "import sys\n",
    "import data as dt\n",
    "import datetime\n",
    "import visualizations as vs"
   ]
  },
  {
   "cell_type": "markdown",
   "metadata": {},
   "source": [
    "# <font color= #6B6B6B> 3. Data Description </font>"
   ]
  },
  {
   "cell_type": "markdown",
   "metadata": {},
   "source": [
    "<hr style=\"border:0.02in solid gray\"> </hr>"
   ]
  },
  {
   "cell_type": "markdown",
   "metadata": {},
   "source": [
    "To complete the project objective, we need to have the data that was created in the laboratory number two. Here are the three stories of operations that will be analize in the next steps."
   ]
  },
  {
   "cell_type": "code",
   "execution_count": 4,
   "metadata": {},
   "outputs": [],
   "source": [
    "data_ini_1 = dt.f_leer_archivo(param_estudiante=1)\n",
    "data_ini_2 = dt.f_leer_archivo(param_estudiante=2)\n",
    "data_ini_3 = dt.f_leer_archivo(param_estudiante=3)"
   ]
  },
  {
   "cell_type": "code",
   "execution_count": 5,
   "metadata": {},
   "outputs": [
    {
     "data": {
      "text/html": [
       "<div>\n",
       "<style scoped>\n",
       "    .dataframe tbody tr th:only-of-type {\n",
       "        vertical-align: middle;\n",
       "    }\n",
       "\n",
       "    .dataframe tbody tr th {\n",
       "        vertical-align: top;\n",
       "    }\n",
       "\n",
       "    .dataframe thead th {\n",
       "        text-align: right;\n",
       "    }\n",
       "</style>\n",
       "<table border=\"1\" class=\"dataframe\">\n",
       "  <thead>\n",
       "    <tr style=\"text-align: right;\">\n",
       "      <th></th>\n",
       "      <th>Unnamed: 0</th>\n",
       "      <th>OpenTime</th>\n",
       "      <th>Symbol</th>\n",
       "      <th>Ticket</th>\n",
       "      <th>Type</th>\n",
       "      <th>Volume</th>\n",
       "      <th>OpenPrice</th>\n",
       "      <th>S/L</th>\n",
       "      <th>T/P</th>\n",
       "      <th>CloseTime</th>\n",
       "      <th>ClosePrice</th>\n",
       "      <th>Profit</th>\n",
       "    </tr>\n",
       "  </thead>\n",
       "  <tbody>\n",
       "    <tr>\n",
       "      <th>0</th>\n",
       "      <td>0</td>\n",
       "      <td>2021-09-22 05:28:08</td>\n",
       "      <td>BTCUSD</td>\n",
       "      <td>45458917</td>\n",
       "      <td>0</td>\n",
       "      <td>0.23</td>\n",
       "      <td>42127.15</td>\n",
       "      <td>40139.0</td>\n",
       "      <td>42496.76</td>\n",
       "      <td>2021-09-22 05:28:17</td>\n",
       "      <td>42010.08</td>\n",
       "      <td>-26.93</td>\n",
       "    </tr>\n",
       "    <tr>\n",
       "      <th>1</th>\n",
       "      <td>2</td>\n",
       "      <td>2021-09-22 05:30:14</td>\n",
       "      <td>BTCUSD</td>\n",
       "      <td>45458934</td>\n",
       "      <td>0</td>\n",
       "      <td>0.23</td>\n",
       "      <td>42060.66</td>\n",
       "      <td>40143.0</td>\n",
       "      <td>42496.76</td>\n",
       "      <td>2021-09-22 10:43:00</td>\n",
       "      <td>42501.69</td>\n",
       "      <td>101.44</td>\n",
       "    </tr>\n",
       "    <tr>\n",
       "      <th>2</th>\n",
       "      <td>4</td>\n",
       "      <td>2021-09-22 17:27:04</td>\n",
       "      <td>BTCUSD</td>\n",
       "      <td>45470462</td>\n",
       "      <td>0</td>\n",
       "      <td>0.24</td>\n",
       "      <td>42599.23</td>\n",
       "      <td>0.0</td>\n",
       "      <td>0.00</td>\n",
       "      <td>2021-09-22 17:27:55</td>\n",
       "      <td>43025.30</td>\n",
       "      <td>106.91</td>\n",
       "    </tr>\n",
       "    <tr>\n",
       "      <th>3</th>\n",
       "      <td>7</td>\n",
       "      <td>2021-09-23 04:09:17</td>\n",
       "      <td>BTCUSD</td>\n",
       "      <td>45483777</td>\n",
       "      <td>1</td>\n",
       "      <td>0.23</td>\n",
       "      <td>43179.98</td>\n",
       "      <td>44046.0</td>\n",
       "      <td>42790.00</td>\n",
       "      <td>2021-09-23 06:24:19</td>\n",
       "      <td>44050.76</td>\n",
       "      <td>-200.28</td>\n",
       "    </tr>\n",
       "    <tr>\n",
       "      <th>4</th>\n",
       "      <td>9</td>\n",
       "      <td>2021-09-24 21:22:51</td>\n",
       "      <td>BTCUSD</td>\n",
       "      <td>45524436</td>\n",
       "      <td>0</td>\n",
       "      <td>0.23</td>\n",
       "      <td>42255.15</td>\n",
       "      <td>40304.0</td>\n",
       "      <td>43135.80</td>\n",
       "      <td>2021-09-25 00:39:11</td>\n",
       "      <td>43153.89</td>\n",
       "      <td>206.71</td>\n",
       "    </tr>\n",
       "  </tbody>\n",
       "</table>\n",
       "</div>"
      ],
      "text/plain": [
       "   Unnamed: 0            OpenTime  Symbol    Ticket  Type  Volume  OpenPrice  \\\n",
       "0           0 2021-09-22 05:28:08  BTCUSD  45458917     0    0.23   42127.15   \n",
       "1           2 2021-09-22 05:30:14  BTCUSD  45458934     0    0.23   42060.66   \n",
       "2           4 2021-09-22 17:27:04  BTCUSD  45470462     0    0.24   42599.23   \n",
       "3           7 2021-09-23 04:09:17  BTCUSD  45483777     1    0.23   43179.98   \n",
       "4           9 2021-09-24 21:22:51  BTCUSD  45524436     0    0.23   42255.15   \n",
       "\n",
       "       S/L       T/P           CloseTime  ClosePrice  Profit  \n",
       "0  40139.0  42496.76 2021-09-22 05:28:17    42010.08  -26.93  \n",
       "1  40143.0  42496.76 2021-09-22 10:43:00    42501.69  101.44  \n",
       "2      0.0      0.00 2021-09-22 17:27:55    43025.30  106.91  \n",
       "3  44046.0  42790.00 2021-09-23 06:24:19    44050.76 -200.28  \n",
       "4  40304.0  43135.80 2021-09-25 00:39:11    43153.89  206.71  "
      ]
     },
     "execution_count": 5,
     "metadata": {},
     "output_type": "execute_result"
    }
   ],
   "source": [
    "data_ini_1"
   ]
  },
  {
   "cell_type": "code",
   "execution_count": 6,
   "metadata": {},
   "outputs": [
    {
     "data": {
      "text/html": [
       "<div>\n",
       "<style scoped>\n",
       "    .dataframe tbody tr th:only-of-type {\n",
       "        vertical-align: middle;\n",
       "    }\n",
       "\n",
       "    .dataframe tbody tr th {\n",
       "        vertical-align: top;\n",
       "    }\n",
       "\n",
       "    .dataframe thead th {\n",
       "        text-align: right;\n",
       "    }\n",
       "</style>\n",
       "<table border=\"1\" class=\"dataframe\">\n",
       "  <thead>\n",
       "    <tr style=\"text-align: right;\">\n",
       "      <th></th>\n",
       "      <th>Unnamed: 0</th>\n",
       "      <th>OpenTime</th>\n",
       "      <th>Symbol</th>\n",
       "      <th>Ticket</th>\n",
       "      <th>Type</th>\n",
       "      <th>Volume</th>\n",
       "      <th>OpenPrice</th>\n",
       "      <th>S/L</th>\n",
       "      <th>T/P</th>\n",
       "      <th>CloseTime</th>\n",
       "      <th>ClosePrice</th>\n",
       "      <th>Profit</th>\n",
       "    </tr>\n",
       "  </thead>\n",
       "  <tbody>\n",
       "    <tr>\n",
       "      <th>0</th>\n",
       "      <td>1</td>\n",
       "      <td>2021-09-20 21:38:54</td>\n",
       "      <td>GBPUSD</td>\n",
       "      <td>45426490</td>\n",
       "      <td>0</td>\n",
       "      <td>0.1</td>\n",
       "      <td>1.36482</td>\n",
       "      <td>1.34191</td>\n",
       "      <td>1.41691</td>\n",
       "      <td>2021-09-21 18:10:07</td>\n",
       "      <td>1.36541</td>\n",
       "      <td>5.90</td>\n",
       "    </tr>\n",
       "    <tr>\n",
       "      <th>1</th>\n",
       "      <td>2</td>\n",
       "      <td>2021-09-21 18:06:22</td>\n",
       "      <td>EURUSD</td>\n",
       "      <td>45448836</td>\n",
       "      <td>1</td>\n",
       "      <td>0.1</td>\n",
       "      <td>1.17224</td>\n",
       "      <td>1.17272</td>\n",
       "      <td>1.17072</td>\n",
       "      <td>2021-09-21 19:23:28</td>\n",
       "      <td>1.17271</td>\n",
       "      <td>-4.70</td>\n",
       "    </tr>\n",
       "    <tr>\n",
       "      <th>2</th>\n",
       "      <td>3</td>\n",
       "      <td>2021-09-22 17:22:53</td>\n",
       "      <td>AUDUSD</td>\n",
       "      <td>45470330</td>\n",
       "      <td>1</td>\n",
       "      <td>0.2</td>\n",
       "      <td>0.72540</td>\n",
       "      <td>0.73067</td>\n",
       "      <td>0.71567</td>\n",
       "      <td>2021-09-23 16:47:35</td>\n",
       "      <td>0.73067</td>\n",
       "      <td>-105.40</td>\n",
       "    </tr>\n",
       "    <tr>\n",
       "      <th>3</th>\n",
       "      <td>4</td>\n",
       "      <td>2021-09-23 16:58:56</td>\n",
       "      <td>USDCAD</td>\n",
       "      <td>45498648</td>\n",
       "      <td>0</td>\n",
       "      <td>0.1</td>\n",
       "      <td>1.26548</td>\n",
       "      <td>1.26062</td>\n",
       "      <td>1.27189</td>\n",
       "      <td>2021-09-24 05:42:33</td>\n",
       "      <td>1.26699</td>\n",
       "      <td>11.92</td>\n",
       "    </tr>\n",
       "    <tr>\n",
       "      <th>4</th>\n",
       "      <td>5</td>\n",
       "      <td>2021-09-24 19:23:01</td>\n",
       "      <td>NZDUSD</td>\n",
       "      <td>45522977</td>\n",
       "      <td>0</td>\n",
       "      <td>0.1</td>\n",
       "      <td>0.70234</td>\n",
       "      <td>0.70024</td>\n",
       "      <td>70507.00000</td>\n",
       "      <td>2021-09-24 23:56:35</td>\n",
       "      <td>0.70010</td>\n",
       "      <td>-22.40</td>\n",
       "    </tr>\n",
       "  </tbody>\n",
       "</table>\n",
       "</div>"
      ],
      "text/plain": [
       "   Unnamed: 0            OpenTime  Symbol    Ticket  Type  Volume  OpenPrice  \\\n",
       "0           1 2021-09-20 21:38:54  GBPUSD  45426490     0     0.1    1.36482   \n",
       "1           2 2021-09-21 18:06:22  EURUSD  45448836     1     0.1    1.17224   \n",
       "2           3 2021-09-22 17:22:53  AUDUSD  45470330     1     0.2    0.72540   \n",
       "3           4 2021-09-23 16:58:56  USDCAD  45498648     0     0.1    1.26548   \n",
       "4           5 2021-09-24 19:23:01  NZDUSD  45522977     0     0.1    0.70234   \n",
       "\n",
       "       S/L          T/P           CloseTime  ClosePrice  Profit  \n",
       "0  1.34191      1.41691 2021-09-21 18:10:07     1.36541    5.90  \n",
       "1  1.17272      1.17072 2021-09-21 19:23:28     1.17271   -4.70  \n",
       "2  0.73067      0.71567 2021-09-23 16:47:35     0.73067 -105.40  \n",
       "3  1.26062      1.27189 2021-09-24 05:42:33     1.26699   11.92  \n",
       "4  0.70024  70507.00000 2021-09-24 23:56:35     0.70010  -22.40  "
      ]
     },
     "execution_count": 6,
     "metadata": {},
     "output_type": "execute_result"
    }
   ],
   "source": [
    "data_ini_2"
   ]
  },
  {
   "cell_type": "code",
   "execution_count": 7,
   "metadata": {},
   "outputs": [
    {
     "data": {
      "text/html": [
       "<div>\n",
       "<style scoped>\n",
       "    .dataframe tbody tr th:only-of-type {\n",
       "        vertical-align: middle;\n",
       "    }\n",
       "\n",
       "    .dataframe tbody tr th {\n",
       "        vertical-align: top;\n",
       "    }\n",
       "\n",
       "    .dataframe thead th {\n",
       "        text-align: right;\n",
       "    }\n",
       "</style>\n",
       "<table border=\"1\" class=\"dataframe\">\n",
       "  <thead>\n",
       "    <tr style=\"text-align: right;\">\n",
       "      <th></th>\n",
       "      <th>Unnamed: 0</th>\n",
       "      <th>OpenTime</th>\n",
       "      <th>Symbol</th>\n",
       "      <th>Ticket</th>\n",
       "      <th>Type</th>\n",
       "      <th>Volume</th>\n",
       "      <th>OpenPrice</th>\n",
       "      <th>S/L</th>\n",
       "      <th>T/P</th>\n",
       "      <th>CloseTime</th>\n",
       "      <th>ClosePrice</th>\n",
       "      <th>Profit</th>\n",
       "    </tr>\n",
       "  </thead>\n",
       "  <tbody>\n",
       "    <tr>\n",
       "      <th>0</th>\n",
       "      <td>0</td>\n",
       "      <td>2021-09-21 04:36:26</td>\n",
       "      <td>EURUSD</td>\n",
       "      <td>45431784</td>\n",
       "      <td>1</td>\n",
       "      <td>0.10</td>\n",
       "      <td>1.172670</td>\n",
       "      <td>1.17370</td>\n",
       "      <td>1.16980</td>\n",
       "      <td>2021-09-21 04:57:00</td>\n",
       "      <td>1.1737</td>\n",
       "      <td>-10.40</td>\n",
       "    </tr>\n",
       "    <tr>\n",
       "      <th>1</th>\n",
       "      <td>2</td>\n",
       "      <td>2021-09-22 06:36:42</td>\n",
       "      <td>EURUSD</td>\n",
       "      <td>45459384</td>\n",
       "      <td>0</td>\n",
       "      <td>0.25</td>\n",
       "      <td>1.172310</td>\n",
       "      <td>1.16211</td>\n",
       "      <td>1.18220</td>\n",
       "      <td>2021-09-22 21:36:26</td>\n",
       "      <td>0.0000</td>\n",
       "      <td>74.50</td>\n",
       "    </tr>\n",
       "    <tr>\n",
       "      <th>2</th>\n",
       "      <td>4</td>\n",
       "      <td>2021-09-23 06:01:16</td>\n",
       "      <td>EURUSD</td>\n",
       "      <td>45484785</td>\n",
       "      <td>0</td>\n",
       "      <td>0.50</td>\n",
       "      <td>1.170060</td>\n",
       "      <td>1.16186</td>\n",
       "      <td>1.77991</td>\n",
       "      <td>2021-09-23 15:57:25</td>\n",
       "      <td>0.0000</td>\n",
       "      <td>132.00</td>\n",
       "    </tr>\n",
       "    <tr>\n",
       "      <th>3</th>\n",
       "      <td>6</td>\n",
       "      <td>2021-09-23 16:03:02</td>\n",
       "      <td>USDCHF</td>\n",
       "      <td>45495654</td>\n",
       "      <td>0</td>\n",
       "      <td>0.70</td>\n",
       "      <td>1.370990</td>\n",
       "      <td>0.88129</td>\n",
       "      <td>0.95338</td>\n",
       "      <td>2021-09-24 23:01:56</td>\n",
       "      <td>0.0000</td>\n",
       "      <td>0.00</td>\n",
       "    </tr>\n",
       "    <tr>\n",
       "      <th>4</th>\n",
       "      <td>7</td>\n",
       "      <td>2021-09-23 16:08:36</td>\n",
       "      <td>GBPUSD</td>\n",
       "      <td>45496076</td>\n",
       "      <td>1</td>\n",
       "      <td>10.00</td>\n",
       "      <td>1.265510</td>\n",
       "      <td>1.42103</td>\n",
       "      <td>1.33297</td>\n",
       "      <td>2021-09-23 16:25:00</td>\n",
       "      <td>0.0000</td>\n",
       "      <td>957.05</td>\n",
       "    </tr>\n",
       "    <tr>\n",
       "      <th>5</th>\n",
       "      <td>9</td>\n",
       "      <td>2021-09-23 16:33:58</td>\n",
       "      <td>USDCAD</td>\n",
       "      <td>45497181</td>\n",
       "      <td>1</td>\n",
       "      <td>20.00</td>\n",
       "      <td>1.264810</td>\n",
       "      <td>1.28521</td>\n",
       "      <td>1.25619</td>\n",
       "      <td>2021-09-23 21:26:22</td>\n",
       "      <td>0.0000</td>\n",
       "      <td>1943.07</td>\n",
       "    </tr>\n",
       "    <tr>\n",
       "      <th>6</th>\n",
       "      <td>11</td>\n",
       "      <td>2021-09-23 21:31:00</td>\n",
       "      <td>USDCAD</td>\n",
       "      <td>45504414</td>\n",
       "      <td>0</td>\n",
       "      <td>0.70</td>\n",
       "      <td>0.923620</td>\n",
       "      <td>1.24462</td>\n",
       "      <td>1.27466</td>\n",
       "      <td>2021-09-24 05:11:08</td>\n",
       "      <td>0.0000</td>\n",
       "      <td>115.01</td>\n",
       "    </tr>\n",
       "    <tr>\n",
       "      <th>7</th>\n",
       "      <td>12</td>\n",
       "      <td>2021-09-23 21:41:07</td>\n",
       "      <td>USDJPY</td>\n",
       "      <td>45504470</td>\n",
       "      <td>1</td>\n",
       "      <td>25.00</td>\n",
       "      <td>110.216000</td>\n",
       "      <td>111.20600</td>\n",
       "      <td>109.72000</td>\n",
       "      <td>2021-09-28 06:25:44</td>\n",
       "      <td>111.2060</td>\n",
       "      <td>-22300.55</td>\n",
       "    </tr>\n",
       "    <tr>\n",
       "      <th>8</th>\n",
       "      <td>16</td>\n",
       "      <td>2021-09-29 20:21:17</td>\n",
       "      <td>USDCAD</td>\n",
       "      <td>45604366</td>\n",
       "      <td>1</td>\n",
       "      <td>75.00</td>\n",
       "      <td>1.276138</td>\n",
       "      <td>1.36050</td>\n",
       "      <td>1.25604</td>\n",
       "      <td>2021-09-30 05:59:52</td>\n",
       "      <td>0.0000</td>\n",
       "      <td>13765.90</td>\n",
       "    </tr>\n",
       "    <tr>\n",
       "      <th>9</th>\n",
       "      <td>20</td>\n",
       "      <td>2021-09-30 06:19:10</td>\n",
       "      <td>USDJPY</td>\n",
       "      <td>45610096</td>\n",
       "      <td>1</td>\n",
       "      <td>65.00</td>\n",
       "      <td>1.276138</td>\n",
       "      <td>114.82900</td>\n",
       "      <td>108.82400</td>\n",
       "      <td>2021-09-30 18:24:49</td>\n",
       "      <td>0.0000</td>\n",
       "      <td>17777.56</td>\n",
       "    </tr>\n",
       "  </tbody>\n",
       "</table>\n",
       "</div>"
      ],
      "text/plain": [
       "   Unnamed: 0            OpenTime  Symbol    Ticket  Type  Volume   OpenPrice  \\\n",
       "0           0 2021-09-21 04:36:26  EURUSD  45431784     1    0.10    1.172670   \n",
       "1           2 2021-09-22 06:36:42  EURUSD  45459384     0    0.25    1.172310   \n",
       "2           4 2021-09-23 06:01:16  EURUSD  45484785     0    0.50    1.170060   \n",
       "3           6 2021-09-23 16:03:02  USDCHF  45495654     0    0.70    1.370990   \n",
       "4           7 2021-09-23 16:08:36  GBPUSD  45496076     1   10.00    1.265510   \n",
       "5           9 2021-09-23 16:33:58  USDCAD  45497181     1   20.00    1.264810   \n",
       "6          11 2021-09-23 21:31:00  USDCAD  45504414     0    0.70    0.923620   \n",
       "7          12 2021-09-23 21:41:07  USDJPY  45504470     1   25.00  110.216000   \n",
       "8          16 2021-09-29 20:21:17  USDCAD  45604366     1   75.00    1.276138   \n",
       "9          20 2021-09-30 06:19:10  USDJPY  45610096     1   65.00    1.276138   \n",
       "\n",
       "         S/L        T/P           CloseTime  ClosePrice    Profit  \n",
       "0    1.17370    1.16980 2021-09-21 04:57:00      1.1737    -10.40  \n",
       "1    1.16211    1.18220 2021-09-22 21:36:26      0.0000     74.50  \n",
       "2    1.16186    1.77991 2021-09-23 15:57:25      0.0000    132.00  \n",
       "3    0.88129    0.95338 2021-09-24 23:01:56      0.0000      0.00  \n",
       "4    1.42103    1.33297 2021-09-23 16:25:00      0.0000    957.05  \n",
       "5    1.28521    1.25619 2021-09-23 21:26:22      0.0000   1943.07  \n",
       "6    1.24462    1.27466 2021-09-24 05:11:08      0.0000    115.01  \n",
       "7  111.20600  109.72000 2021-09-28 06:25:44    111.2060 -22300.55  \n",
       "8    1.36050    1.25604 2021-09-30 05:59:52      0.0000  13765.90  \n",
       "9  114.82900  108.82400 2021-09-30 18:24:49      0.0000  17777.56  "
      ]
     },
     "execution_count": 7,
     "metadata": {},
     "output_type": "execute_result"
    }
   ],
   "source": [
    "data_ini_3"
   ]
  },
  {
   "cell_type": "markdown",
   "metadata": {},
   "source": [
    "# <font color= #6B6B6B> 4. Descriptive statistics  </font>"
   ]
  },
  {
   "cell_type": "markdown",
   "metadata": {},
   "source": [
    "<hr style=\"border:0.02in solid gray\"> </hr>"
   ]
  },
  {
   "cell_type": "markdown",
   "metadata": {},
   "source": []
  },
  {
   "cell_type": "code",
   "execution_count": 8,
   "metadata": {},
   "outputs": [
    {
     "data": {
      "text/html": [
       "<div>\n",
       "<style scoped>\n",
       "    .dataframe tbody tr th:only-of-type {\n",
       "        vertical-align: middle;\n",
       "    }\n",
       "\n",
       "    .dataframe tbody tr th {\n",
       "        vertical-align: top;\n",
       "    }\n",
       "\n",
       "    .dataframe thead th {\n",
       "        text-align: right;\n",
       "    }\n",
       "</style>\n",
       "<table border=\"1\" class=\"dataframe\">\n",
       "  <thead>\n",
       "    <tr style=\"text-align: right;\">\n",
       "      <th></th>\n",
       "      <th>medida</th>\n",
       "      <th>valor</th>\n",
       "      <th>descripcion</th>\n",
       "    </tr>\n",
       "  </thead>\n",
       "  <tbody>\n",
       "    <tr>\n",
       "      <th>0</th>\n",
       "      <td>Ops totales</td>\n",
       "      <td>10.00000</td>\n",
       "      <td>Operaciones totales</td>\n",
       "    </tr>\n",
       "    <tr>\n",
       "      <th>1</th>\n",
       "      <td>Ganadoras</td>\n",
       "      <td>7.00000</td>\n",
       "      <td>Operaciones ganadoras</td>\n",
       "    </tr>\n",
       "    <tr>\n",
       "      <th>2</th>\n",
       "      <td>Ganadoras_c</td>\n",
       "      <td>0.00000</td>\n",
       "      <td>Operaciones ganadoras de compra</td>\n",
       "    </tr>\n",
       "    <tr>\n",
       "      <th>3</th>\n",
       "      <td>Ganadoras_v</td>\n",
       "      <td>0.00000</td>\n",
       "      <td>Operaciones ganadoras de venta</td>\n",
       "    </tr>\n",
       "    <tr>\n",
       "      <th>4</th>\n",
       "      <td>Perdedoras</td>\n",
       "      <td>2.00000</td>\n",
       "      <td>Operaciones eprdedoras</td>\n",
       "    </tr>\n",
       "    <tr>\n",
       "      <th>5</th>\n",
       "      <td>Perdedoras_c</td>\n",
       "      <td>0.00000</td>\n",
       "      <td>Operaciones perdedoras de compra</td>\n",
       "    </tr>\n",
       "    <tr>\n",
       "      <th>6</th>\n",
       "      <td>Perdedoras_v</td>\n",
       "      <td>0.00000</td>\n",
       "      <td>Operaciones eprdedoras de venta</td>\n",
       "    </tr>\n",
       "    <tr>\n",
       "      <th>7</th>\n",
       "      <td>Mediana (Profit)</td>\n",
       "      <td>1245.41400</td>\n",
       "      <td>Mediana de profit de operaciones</td>\n",
       "    </tr>\n",
       "    <tr>\n",
       "      <th>8</th>\n",
       "      <td>Mediana (Pips)</td>\n",
       "      <td>8445.26938</td>\n",
       "      <td>Mediana de pips de operaciones</td>\n",
       "    </tr>\n",
       "    <tr>\n",
       "      <th>9</th>\n",
       "      <td>r_efectividad</td>\n",
       "      <td>0.70000</td>\n",
       "      <td>Ganadoras Totales/Operaciones Totales</td>\n",
       "    </tr>\n",
       "    <tr>\n",
       "      <th>10</th>\n",
       "      <td>r_proporcion</td>\n",
       "      <td>3.50000</td>\n",
       "      <td>Ganadoras Totales/Perdedoras Totales</td>\n",
       "    </tr>\n",
       "    <tr>\n",
       "      <th>11</th>\n",
       "      <td>r_efectividad_c</td>\n",
       "      <td>0.00000</td>\n",
       "      <td>Ganadoras Compras/Operaciones Totales</td>\n",
       "    </tr>\n",
       "    <tr>\n",
       "      <th>12</th>\n",
       "      <td>r_efectividad_v</td>\n",
       "      <td>0.00000</td>\n",
       "      <td>Ganadoras Ventas / Operaciones Totales</td>\n",
       "    </tr>\n",
       "  </tbody>\n",
       "</table>\n",
       "</div>"
      ],
      "text/plain": [
       "              medida       valor                             descripcion\n",
       "0        Ops totales    10.00000                     Operaciones totales\n",
       "1          Ganadoras     7.00000                   Operaciones ganadoras\n",
       "2        Ganadoras_c     0.00000         Operaciones ganadoras de compra\n",
       "3        Ganadoras_v     0.00000          Operaciones ganadoras de venta\n",
       "4         Perdedoras     2.00000                  Operaciones eprdedoras\n",
       "5       Perdedoras_c     0.00000        Operaciones perdedoras de compra\n",
       "6       Perdedoras_v     0.00000         Operaciones eprdedoras de venta\n",
       "7   Mediana (Profit)  1245.41400        Mediana de profit de operaciones\n",
       "8     Mediana (Pips)  8445.26938          Mediana de pips de operaciones\n",
       "9      r_efectividad     0.70000   Ganadoras Totales/Operaciones Totales\n",
       "10      r_proporcion     3.50000    Ganadoras Totales/Perdedoras Totales\n",
       "11   r_efectividad_c     0.00000   Ganadoras Compras/Operaciones Totales\n",
       "12   r_efectividad_v     0.00000  Ganadoras Ventas / Operaciones Totales"
      ]
     },
     "execution_count": 8,
     "metadata": {},
     "output_type": "execute_result"
    }
   ],
   "source": [
    "data_jp = fn.f_columnas_tiempos(data_ini_3)\n",
    "data_jp[\"mult\"] = data_jp.Symbol.map(lambda x: fn.f_pip_size(x))\n",
    "data_jp = fn.f_columnas_pips(data_jp)\n",
    "parte_1_jp = fn.f_estadisticas_ba(data_jp)\n",
    "parte_1_jp['df_1_tabla']"
   ]
  },
  {
   "cell_type": "code",
   "execution_count": 9,
   "metadata": {},
   "outputs": [
    {
     "data": {
      "text/html": [
       "<div>\n",
       "<style scoped>\n",
       "    .dataframe tbody tr th:only-of-type {\n",
       "        vertical-align: middle;\n",
       "    }\n",
       "\n",
       "    .dataframe tbody tr th {\n",
       "        vertical-align: top;\n",
       "    }\n",
       "\n",
       "    .dataframe thead th {\n",
       "        text-align: right;\n",
       "    }\n",
       "</style>\n",
       "<table border=\"1\" class=\"dataframe\">\n",
       "  <thead>\n",
       "    <tr style=\"text-align: right;\">\n",
       "      <th></th>\n",
       "      <th>Symbol</th>\n",
       "      <th>rank</th>\n",
       "    </tr>\n",
       "  </thead>\n",
       "  <tbody>\n",
       "    <tr>\n",
       "      <th>0</th>\n",
       "      <td>EURUSD</td>\n",
       "      <td>66.67%</td>\n",
       "    </tr>\n",
       "    <tr>\n",
       "      <th>1</th>\n",
       "      <td>GBPUSD</td>\n",
       "      <td>100.00%</td>\n",
       "    </tr>\n",
       "    <tr>\n",
       "      <th>2</th>\n",
       "      <td>USDCAD</td>\n",
       "      <td>100.00%</td>\n",
       "    </tr>\n",
       "    <tr>\n",
       "      <th>3</th>\n",
       "      <td>USDCHF</td>\n",
       "      <td>0.00%</td>\n",
       "    </tr>\n",
       "    <tr>\n",
       "      <th>4</th>\n",
       "      <td>USDJPY</td>\n",
       "      <td>50.00%</td>\n",
       "    </tr>\n",
       "  </tbody>\n",
       "</table>\n",
       "</div>"
      ],
      "text/plain": [
       "   Symbol     rank\n",
       "0  EURUSD   66.67%\n",
       "1  GBPUSD  100.00%\n",
       "2  USDCAD  100.00%\n",
       "3  USDCHF    0.00%\n",
       "4  USDJPY   50.00%"
      ]
     },
     "execution_count": 9,
     "metadata": {},
     "output_type": "execute_result"
    }
   ],
   "source": [
    "parte_1_jp['df_2_ranking']"
   ]
  },
  {
   "cell_type": "code",
   "execution_count": 10,
   "metadata": {},
   "outputs": [
    {
     "data": {
      "text/html": [
       "<div>\n",
       "<style scoped>\n",
       "    .dataframe tbody tr th:only-of-type {\n",
       "        vertical-align: middle;\n",
       "    }\n",
       "\n",
       "    .dataframe tbody tr th {\n",
       "        vertical-align: top;\n",
       "    }\n",
       "\n",
       "    .dataframe thead th {\n",
       "        text-align: right;\n",
       "    }\n",
       "</style>\n",
       "<table border=\"1\" class=\"dataframe\">\n",
       "  <thead>\n",
       "    <tr style=\"text-align: right;\">\n",
       "      <th></th>\n",
       "      <th>medida</th>\n",
       "      <th>valor</th>\n",
       "      <th>descripcion</th>\n",
       "    </tr>\n",
       "  </thead>\n",
       "  <tbody>\n",
       "    <tr>\n",
       "      <th>0</th>\n",
       "      <td>Ops totales</td>\n",
       "      <td>5.00</td>\n",
       "      <td>Operaciones totales</td>\n",
       "    </tr>\n",
       "    <tr>\n",
       "      <th>1</th>\n",
       "      <td>Ganadoras</td>\n",
       "      <td>3.00</td>\n",
       "      <td>Operaciones ganadoras</td>\n",
       "    </tr>\n",
       "    <tr>\n",
       "      <th>2</th>\n",
       "      <td>Ganadoras_c</td>\n",
       "      <td>0.00</td>\n",
       "      <td>Operaciones ganadoras de compra</td>\n",
       "    </tr>\n",
       "    <tr>\n",
       "      <th>3</th>\n",
       "      <td>Ganadoras_v</td>\n",
       "      <td>0.00</td>\n",
       "      <td>Operaciones ganadoras de venta</td>\n",
       "    </tr>\n",
       "    <tr>\n",
       "      <th>4</th>\n",
       "      <td>Perdedoras</td>\n",
       "      <td>2.00</td>\n",
       "      <td>Operaciones eprdedoras</td>\n",
       "    </tr>\n",
       "    <tr>\n",
       "      <th>5</th>\n",
       "      <td>Perdedoras_c</td>\n",
       "      <td>0.00</td>\n",
       "      <td>Operaciones perdedoras de compra</td>\n",
       "    </tr>\n",
       "    <tr>\n",
       "      <th>6</th>\n",
       "      <td>Perdedoras_v</td>\n",
       "      <td>0.00</td>\n",
       "      <td>Operaciones eprdedoras de venta</td>\n",
       "    </tr>\n",
       "    <tr>\n",
       "      <th>7</th>\n",
       "      <td>Mediana (Profit)</td>\n",
       "      <td>37.57</td>\n",
       "      <td>Mediana de profit de operaciones</td>\n",
       "    </tr>\n",
       "    <tr>\n",
       "      <th>8</th>\n",
       "      <td>Mediana (Pips)</td>\n",
       "      <td>-50391.00</td>\n",
       "      <td>Mediana de pips de operaciones</td>\n",
       "    </tr>\n",
       "    <tr>\n",
       "      <th>9</th>\n",
       "      <td>r_efectividad</td>\n",
       "      <td>0.60</td>\n",
       "      <td>Ganadoras Totales/Operaciones Totales</td>\n",
       "    </tr>\n",
       "    <tr>\n",
       "      <th>10</th>\n",
       "      <td>r_proporcion</td>\n",
       "      <td>1.50</td>\n",
       "      <td>Ganadoras Totales/Perdedoras Totales</td>\n",
       "    </tr>\n",
       "    <tr>\n",
       "      <th>11</th>\n",
       "      <td>r_efectividad_c</td>\n",
       "      <td>0.00</td>\n",
       "      <td>Ganadoras Compras/Operaciones Totales</td>\n",
       "    </tr>\n",
       "    <tr>\n",
       "      <th>12</th>\n",
       "      <td>r_efectividad_v</td>\n",
       "      <td>0.00</td>\n",
       "      <td>Ganadoras Ventas / Operaciones Totales</td>\n",
       "    </tr>\n",
       "  </tbody>\n",
       "</table>\n",
       "</div>"
      ],
      "text/plain": [
       "              medida     valor                             descripcion\n",
       "0        Ops totales      5.00                     Operaciones totales\n",
       "1          Ganadoras      3.00                   Operaciones ganadoras\n",
       "2        Ganadoras_c      0.00         Operaciones ganadoras de compra\n",
       "3        Ganadoras_v      0.00          Operaciones ganadoras de venta\n",
       "4         Perdedoras      2.00                  Operaciones eprdedoras\n",
       "5       Perdedoras_c      0.00        Operaciones perdedoras de compra\n",
       "6       Perdedoras_v      0.00         Operaciones eprdedoras de venta\n",
       "7   Mediana (Profit)     37.57        Mediana de profit de operaciones\n",
       "8     Mediana (Pips) -50391.00          Mediana de pips de operaciones\n",
       "9      r_efectividad      0.60   Ganadoras Totales/Operaciones Totales\n",
       "10      r_proporcion      1.50    Ganadoras Totales/Perdedoras Totales\n",
       "11   r_efectividad_c      0.00   Ganadoras Compras/Operaciones Totales\n",
       "12   r_efectividad_v      0.00  Ganadoras Ventas / Operaciones Totales"
      ]
     },
     "execution_count": 10,
     "metadata": {},
     "output_type": "execute_result"
    }
   ],
   "source": [
    "data_dou = fn.f_columnas_tiempos(data_ini_1)\n",
    "data_dou[\"mult\"] = data_dou.Symbol.map(lambda x: fn.f_pip_size(x))\n",
    "data_dou = fn.f_columnas_pips(data_dou)\n",
    "parte_1_dou = fn.f_estadisticas_ba(data_dou)\n",
    "parte_1_dou['df_1_tabla']"
   ]
  },
  {
   "cell_type": "code",
   "execution_count": 11,
   "metadata": {},
   "outputs": [
    {
     "data": {
      "text/html": [
       "<div>\n",
       "<style scoped>\n",
       "    .dataframe tbody tr th:only-of-type {\n",
       "        vertical-align: middle;\n",
       "    }\n",
       "\n",
       "    .dataframe tbody tr th {\n",
       "        vertical-align: top;\n",
       "    }\n",
       "\n",
       "    .dataframe thead th {\n",
       "        text-align: right;\n",
       "    }\n",
       "</style>\n",
       "<table border=\"1\" class=\"dataframe\">\n",
       "  <thead>\n",
       "    <tr style=\"text-align: right;\">\n",
       "      <th></th>\n",
       "      <th>Symbol</th>\n",
       "      <th>rank</th>\n",
       "    </tr>\n",
       "  </thead>\n",
       "  <tbody>\n",
       "    <tr>\n",
       "      <th>0</th>\n",
       "      <td>BTCUSD</td>\n",
       "      <td>60.00%</td>\n",
       "    </tr>\n",
       "  </tbody>\n",
       "</table>\n",
       "</div>"
      ],
      "text/plain": [
       "   Symbol    rank\n",
       "0  BTCUSD  60.00%"
      ]
     },
     "execution_count": 11,
     "metadata": {},
     "output_type": "execute_result"
    }
   ],
   "source": [
    "parte_1_dou['df_2_ranking']"
   ]
  },
  {
   "cell_type": "code",
   "execution_count": 12,
   "metadata": {},
   "outputs": [
    {
     "data": {
      "text/html": [
       "<div>\n",
       "<style scoped>\n",
       "    .dataframe tbody tr th:only-of-type {\n",
       "        vertical-align: middle;\n",
       "    }\n",
       "\n",
       "    .dataframe tbody tr th {\n",
       "        vertical-align: top;\n",
       "    }\n",
       "\n",
       "    .dataframe thead th {\n",
       "        text-align: right;\n",
       "    }\n",
       "</style>\n",
       "<table border=\"1\" class=\"dataframe\">\n",
       "  <thead>\n",
       "    <tr style=\"text-align: right;\">\n",
       "      <th></th>\n",
       "      <th>medida</th>\n",
       "      <th>valor</th>\n",
       "      <th>descripcion</th>\n",
       "    </tr>\n",
       "  </thead>\n",
       "  <tbody>\n",
       "    <tr>\n",
       "      <th>0</th>\n",
       "      <td>Ops totales</td>\n",
       "      <td>5.000000</td>\n",
       "      <td>Operaciones totales</td>\n",
       "    </tr>\n",
       "    <tr>\n",
       "      <th>1</th>\n",
       "      <td>Ganadoras</td>\n",
       "      <td>2.000000</td>\n",
       "      <td>Operaciones ganadoras</td>\n",
       "    </tr>\n",
       "    <tr>\n",
       "      <th>2</th>\n",
       "      <td>Ganadoras_c</td>\n",
       "      <td>0.000000</td>\n",
       "      <td>Operaciones ganadoras de compra</td>\n",
       "    </tr>\n",
       "    <tr>\n",
       "      <th>3</th>\n",
       "      <td>Ganadoras_v</td>\n",
       "      <td>0.000000</td>\n",
       "      <td>Operaciones ganadoras de venta</td>\n",
       "    </tr>\n",
       "    <tr>\n",
       "      <th>4</th>\n",
       "      <td>Perdedoras</td>\n",
       "      <td>3.000000</td>\n",
       "      <td>Operaciones eprdedoras</td>\n",
       "    </tr>\n",
       "    <tr>\n",
       "      <th>5</th>\n",
       "      <td>Perdedoras_c</td>\n",
       "      <td>0.000000</td>\n",
       "      <td>Operaciones perdedoras de compra</td>\n",
       "    </tr>\n",
       "    <tr>\n",
       "      <th>6</th>\n",
       "      <td>Perdedoras_v</td>\n",
       "      <td>0.000000</td>\n",
       "      <td>Operaciones eprdedoras de venta</td>\n",
       "    </tr>\n",
       "    <tr>\n",
       "      <th>7</th>\n",
       "      <td>Mediana (Profit)</td>\n",
       "      <td>-22.936000</td>\n",
       "      <td>Mediana de profit de operaciones</td>\n",
       "    </tr>\n",
       "    <tr>\n",
       "      <th>8</th>\n",
       "      <td>Mediana (Pips)</td>\n",
       "      <td>-11.200000</td>\n",
       "      <td>Mediana de pips de operaciones</td>\n",
       "    </tr>\n",
       "    <tr>\n",
       "      <th>9</th>\n",
       "      <td>r_efectividad</td>\n",
       "      <td>0.400000</td>\n",
       "      <td>Ganadoras Totales/Operaciones Totales</td>\n",
       "    </tr>\n",
       "    <tr>\n",
       "      <th>10</th>\n",
       "      <td>r_proporcion</td>\n",
       "      <td>0.666667</td>\n",
       "      <td>Ganadoras Totales/Perdedoras Totales</td>\n",
       "    </tr>\n",
       "    <tr>\n",
       "      <th>11</th>\n",
       "      <td>r_efectividad_c</td>\n",
       "      <td>0.000000</td>\n",
       "      <td>Ganadoras Compras/Operaciones Totales</td>\n",
       "    </tr>\n",
       "    <tr>\n",
       "      <th>12</th>\n",
       "      <td>r_efectividad_v</td>\n",
       "      <td>0.000000</td>\n",
       "      <td>Ganadoras Ventas / Operaciones Totales</td>\n",
       "    </tr>\n",
       "  </tbody>\n",
       "</table>\n",
       "</div>"
      ],
      "text/plain": [
       "              medida      valor                             descripcion\n",
       "0        Ops totales   5.000000                     Operaciones totales\n",
       "1          Ganadoras   2.000000                   Operaciones ganadoras\n",
       "2        Ganadoras_c   0.000000         Operaciones ganadoras de compra\n",
       "3        Ganadoras_v   0.000000          Operaciones ganadoras de venta\n",
       "4         Perdedoras   3.000000                  Operaciones eprdedoras\n",
       "5       Perdedoras_c   0.000000        Operaciones perdedoras de compra\n",
       "6       Perdedoras_v   0.000000         Operaciones eprdedoras de venta\n",
       "7   Mediana (Profit) -22.936000        Mediana de profit de operaciones\n",
       "8     Mediana (Pips) -11.200000          Mediana de pips de operaciones\n",
       "9      r_efectividad   0.400000   Ganadoras Totales/Operaciones Totales\n",
       "10      r_proporcion   0.666667    Ganadoras Totales/Perdedoras Totales\n",
       "11   r_efectividad_c   0.000000   Ganadoras Compras/Operaciones Totales\n",
       "12   r_efectividad_v   0.000000  Ganadoras Ventas / Operaciones Totales"
      ]
     },
     "execution_count": 12,
     "metadata": {},
     "output_type": "execute_result"
    }
   ],
   "source": [
    "data_ap = fn.f_columnas_tiempos(data_ini_2)\n",
    "data_ap[\"mult\"] = data_ap.Symbol.map(lambda x: fn.f_pip_size(x))\n",
    "data_ap = fn.f_columnas_pips(data_ap)\n",
    "parte_1_ap = fn.f_estadisticas_ba(data_ap)\n",
    "parte_1_ap['df_1_tabla']"
   ]
  },
  {
   "cell_type": "code",
   "execution_count": 13,
   "metadata": {},
   "outputs": [
    {
     "data": {
      "text/html": [
       "<div>\n",
       "<style scoped>\n",
       "    .dataframe tbody tr th:only-of-type {\n",
       "        vertical-align: middle;\n",
       "    }\n",
       "\n",
       "    .dataframe tbody tr th {\n",
       "        vertical-align: top;\n",
       "    }\n",
       "\n",
       "    .dataframe thead th {\n",
       "        text-align: right;\n",
       "    }\n",
       "</style>\n",
       "<table border=\"1\" class=\"dataframe\">\n",
       "  <thead>\n",
       "    <tr style=\"text-align: right;\">\n",
       "      <th></th>\n",
       "      <th>Symbol</th>\n",
       "      <th>rank</th>\n",
       "    </tr>\n",
       "  </thead>\n",
       "  <tbody>\n",
       "    <tr>\n",
       "      <th>0</th>\n",
       "      <td>AUDUSD</td>\n",
       "      <td>0.00%</td>\n",
       "    </tr>\n",
       "    <tr>\n",
       "      <th>1</th>\n",
       "      <td>EURUSD</td>\n",
       "      <td>0.00%</td>\n",
       "    </tr>\n",
       "    <tr>\n",
       "      <th>2</th>\n",
       "      <td>GBPUSD</td>\n",
       "      <td>100.00%</td>\n",
       "    </tr>\n",
       "    <tr>\n",
       "      <th>3</th>\n",
       "      <td>NZDUSD</td>\n",
       "      <td>0.00%</td>\n",
       "    </tr>\n",
       "    <tr>\n",
       "      <th>4</th>\n",
       "      <td>USDCAD</td>\n",
       "      <td>100.00%</td>\n",
       "    </tr>\n",
       "  </tbody>\n",
       "</table>\n",
       "</div>"
      ],
      "text/plain": [
       "   Symbol     rank\n",
       "0  AUDUSD    0.00%\n",
       "1  EURUSD    0.00%\n",
       "2  GBPUSD  100.00%\n",
       "3  NZDUSD    0.00%\n",
       "4  USDCAD  100.00%"
      ]
     },
     "execution_count": 13,
     "metadata": {},
     "output_type": "execute_result"
    }
   ],
   "source": [
    "parte_1_ap['df_2_ranking']"
   ]
  },
  {
   "cell_type": "markdown",
   "metadata": {},
   "source": [
    "# <font color= #6B6B6B> 5. Performance Attribution Metrics  </font>"
   ]
  },
  {
   "cell_type": "markdown",
   "metadata": {},
   "source": [
    "<hr style=\"border:0.02in solid gray\"> </hr>"
   ]
  },
  {
   "cell_type": "markdown",
   "metadata": {},
   "source": []
  },
  {
   "cell_type": "code",
   "execution_count": 14,
   "metadata": {},
   "outputs": [
    {
     "name": "stdout",
     "output_type": "stream",
     "text": [
      "[*********************100%***********************]  1 of 1 completed\n"
     ]
    },
    {
     "data": {
      "text/html": [
       "<div>\n",
       "<style scoped>\n",
       "    .dataframe tbody tr th:only-of-type {\n",
       "        vertical-align: middle;\n",
       "    }\n",
       "\n",
       "    .dataframe tbody tr th {\n",
       "        vertical-align: top;\n",
       "    }\n",
       "\n",
       "    .dataframe thead th {\n",
       "        text-align: right;\n",
       "    }\n",
       "</style>\n",
       "<table border=\"1\" class=\"dataframe\">\n",
       "  <thead>\n",
       "    <tr style=\"text-align: right;\">\n",
       "      <th></th>\n",
       "      <th>timestamp</th>\n",
       "      <th>profit_d</th>\n",
       "      <th>profit_acm_d</th>\n",
       "    </tr>\n",
       "  </thead>\n",
       "  <tbody>\n",
       "    <tr>\n",
       "      <th>0</th>\n",
       "      <td>2021-09-22 23:59:59</td>\n",
       "      <td>181.42</td>\n",
       "      <td>100181.42</td>\n",
       "    </tr>\n",
       "    <tr>\n",
       "      <th>1</th>\n",
       "      <td>2021-09-23 23:59:59</td>\n",
       "      <td>-200.28</td>\n",
       "      <td>99981.14</td>\n",
       "    </tr>\n",
       "    <tr>\n",
       "      <th>2</th>\n",
       "      <td>2021-09-24 23:59:59</td>\n",
       "      <td>0.00</td>\n",
       "      <td>99981.14</td>\n",
       "    </tr>\n",
       "    <tr>\n",
       "      <th>3</th>\n",
       "      <td>2021-09-25 23:59:59</td>\n",
       "      <td>206.71</td>\n",
       "      <td>100187.85</td>\n",
       "    </tr>\n",
       "  </tbody>\n",
       "</table>\n",
       "</div>"
      ],
      "text/plain": [
       "            timestamp  profit_d  profit_acm_d\n",
       "0 2021-09-22 23:59:59    181.42     100181.42\n",
       "1 2021-09-23 23:59:59   -200.28      99981.14\n",
       "2 2021-09-24 23:59:59      0.00      99981.14\n",
       "3 2021-09-25 23:59:59    206.71     100187.85"
      ]
     },
     "execution_count": 14,
     "metadata": {},
     "output_type": "execute_result"
    }
   ],
   "source": [
    "parte_2_1_dou = fn.f_evolucion_capital(cap_ini=100000, operaciones=data_dou.copy())\n",
    "parte_2_2_dou = fn.f_estadisticas_mad(parte_2_1_dou, rf=0.05, benchmark_ticker=\"^GSPC\")\n",
    "parte_2_1_dou"
   ]
  },
  {
   "cell_type": "code",
   "execution_count": 15,
   "metadata": {},
   "outputs": [
    {
     "data": {
      "text/html": [
       "<div>\n",
       "<style scoped>\n",
       "    .dataframe tbody tr th:only-of-type {\n",
       "        vertical-align: middle;\n",
       "    }\n",
       "\n",
       "    .dataframe tbody tr th {\n",
       "        vertical-align: top;\n",
       "    }\n",
       "\n",
       "    .dataframe thead th {\n",
       "        text-align: right;\n",
       "    }\n",
       "</style>\n",
       "<table border=\"1\" class=\"dataframe\">\n",
       "  <thead>\n",
       "    <tr style=\"text-align: right;\">\n",
       "      <th></th>\n",
       "      <th>0</th>\n",
       "      <th>formato</th>\n",
       "      <th>valor</th>\n",
       "      <th>descripcion</th>\n",
       "    </tr>\n",
       "  </thead>\n",
       "  <tbody>\n",
       "    <tr>\n",
       "      <th>0</th>\n",
       "      <td>sharpe_original</td>\n",
       "      <td>Cantidad</td>\n",
       "      <td>-1.54836</td>\n",
       "      <td>Sharpe Ratio Fórmula Original</td>\n",
       "    </tr>\n",
       "    <tr>\n",
       "      <th>1</th>\n",
       "      <td>sharpe_actualizado</td>\n",
       "      <td>Cantidad</td>\n",
       "      <td>-12.61735</td>\n",
       "      <td>Sharpe Ratio Fórmula Ajustada</td>\n",
       "    </tr>\n",
       "    <tr>\n",
       "      <th>2</th>\n",
       "      <td>drawdown_capi</td>\n",
       "      <td>Fecha Inicial</td>\n",
       "      <td>2021-09-22 23:59:59</td>\n",
       "      <td>Fecha inicial del DrawDown de Capital</td>\n",
       "    </tr>\n",
       "    <tr>\n",
       "      <th>3</th>\n",
       "      <td>drawdown_capi</td>\n",
       "      <td>Fecha Final</td>\n",
       "      <td>2021-09-23 23:59:59</td>\n",
       "      <td>Fecha final del DrawDown de Capital</td>\n",
       "    </tr>\n",
       "    <tr>\n",
       "      <th>4</th>\n",
       "      <td>drawdown_capi</td>\n",
       "      <td>DrawDown $ (capital)</td>\n",
       "      <td>-200.28</td>\n",
       "      <td>Máxima pérdida flotante registrada</td>\n",
       "    </tr>\n",
       "    <tr>\n",
       "      <th>5</th>\n",
       "      <td>drawup_capi</td>\n",
       "      <td>Fecha Inicial</td>\n",
       "      <td>2021-09-23 23:59:59</td>\n",
       "      <td>Fecha inicial del DrawUp de Capital</td>\n",
       "    </tr>\n",
       "    <tr>\n",
       "      <th>6</th>\n",
       "      <td>drawup_capi</td>\n",
       "      <td>Fecha Final</td>\n",
       "      <td>2021-09-25 23:59:59</td>\n",
       "      <td>Fecha final del DrawUp de Capital</td>\n",
       "    </tr>\n",
       "    <tr>\n",
       "      <th>7</th>\n",
       "      <td>drawup_capi</td>\n",
       "      <td>DrawUp $ (capital)</td>\n",
       "      <td>206.71</td>\n",
       "      <td>Máxima ganancia flotante registrada</td>\n",
       "    </tr>\n",
       "  </tbody>\n",
       "</table>\n",
       "</div>"
      ],
      "text/plain": [
       "                    0               formato                valor  \\\n",
       "0     sharpe_original              Cantidad             -1.54836   \n",
       "1  sharpe_actualizado              Cantidad            -12.61735   \n",
       "2       drawdown_capi         Fecha Inicial  2021-09-22 23:59:59   \n",
       "3       drawdown_capi           Fecha Final  2021-09-23 23:59:59   \n",
       "4       drawdown_capi  DrawDown $ (capital)              -200.28   \n",
       "5         drawup_capi         Fecha Inicial  2021-09-23 23:59:59   \n",
       "6         drawup_capi           Fecha Final  2021-09-25 23:59:59   \n",
       "7         drawup_capi    DrawUp $ (capital)               206.71   \n",
       "\n",
       "                             descripcion  \n",
       "0          Sharpe Ratio Fórmula Original  \n",
       "1          Sharpe Ratio Fórmula Ajustada  \n",
       "2  Fecha inicial del DrawDown de Capital  \n",
       "3    Fecha final del DrawDown de Capital  \n",
       "4     Máxima pérdida flotante registrada  \n",
       "5    Fecha inicial del DrawUp de Capital  \n",
       "6      Fecha final del DrawUp de Capital  \n",
       "7    Máxima ganancia flotante registrada  "
      ]
     },
     "execution_count": 15,
     "metadata": {},
     "output_type": "execute_result"
    }
   ],
   "source": [
    "parte_2_2_dou"
   ]
  },
  {
   "cell_type": "code",
   "execution_count": 16,
   "metadata": {},
   "outputs": [
    {
     "name": "stdout",
     "output_type": "stream",
     "text": [
      "[*********************100%***********************]  1 of 1 completed\n"
     ]
    },
    {
     "data": {
      "text/html": [
       "<div>\n",
       "<style scoped>\n",
       "    .dataframe tbody tr th:only-of-type {\n",
       "        vertical-align: middle;\n",
       "    }\n",
       "\n",
       "    .dataframe tbody tr th {\n",
       "        vertical-align: top;\n",
       "    }\n",
       "\n",
       "    .dataframe thead th {\n",
       "        text-align: right;\n",
       "    }\n",
       "</style>\n",
       "<table border=\"1\" class=\"dataframe\">\n",
       "  <thead>\n",
       "    <tr style=\"text-align: right;\">\n",
       "      <th></th>\n",
       "      <th>timestamp</th>\n",
       "      <th>profit_d</th>\n",
       "      <th>profit_acm_d</th>\n",
       "    </tr>\n",
       "  </thead>\n",
       "  <tbody>\n",
       "    <tr>\n",
       "      <th>0</th>\n",
       "      <td>2021-09-20 23:59:59</td>\n",
       "      <td>0.00</td>\n",
       "      <td>100000.00</td>\n",
       "    </tr>\n",
       "    <tr>\n",
       "      <th>1</th>\n",
       "      <td>2021-09-21 23:59:59</td>\n",
       "      <td>1.20</td>\n",
       "      <td>100001.20</td>\n",
       "    </tr>\n",
       "    <tr>\n",
       "      <th>2</th>\n",
       "      <td>2021-09-22 23:59:59</td>\n",
       "      <td>0.00</td>\n",
       "      <td>100001.20</td>\n",
       "    </tr>\n",
       "    <tr>\n",
       "      <th>3</th>\n",
       "      <td>2021-09-23 23:59:59</td>\n",
       "      <td>-105.40</td>\n",
       "      <td>99895.80</td>\n",
       "    </tr>\n",
       "    <tr>\n",
       "      <th>4</th>\n",
       "      <td>2021-09-24 23:59:59</td>\n",
       "      <td>-10.48</td>\n",
       "      <td>99885.32</td>\n",
       "    </tr>\n",
       "  </tbody>\n",
       "</table>\n",
       "</div>"
      ],
      "text/plain": [
       "            timestamp  profit_d  profit_acm_d\n",
       "0 2021-09-20 23:59:59      0.00     100000.00\n",
       "1 2021-09-21 23:59:59      1.20     100001.20\n",
       "2 2021-09-22 23:59:59      0.00     100001.20\n",
       "3 2021-09-23 23:59:59   -105.40      99895.80\n",
       "4 2021-09-24 23:59:59    -10.48      99885.32"
      ]
     },
     "execution_count": 16,
     "metadata": {},
     "output_type": "execute_result"
    }
   ],
   "source": [
    "parte_2_1_ap = fn.f_evolucion_capital(cap_ini=100000, operaciones=data_ap.copy())\n",
    "parte_2_2_ap = fn.f_estadisticas_mad(parte_2_1_ap, rf=0.05, benchmark_ticker=\"^GSPC\")\n",
    "parte_2_1_ap"
   ]
  },
  {
   "cell_type": "code",
   "execution_count": 17,
   "metadata": {},
   "outputs": [
    {
     "data": {
      "text/html": [
       "<div>\n",
       "<style scoped>\n",
       "    .dataframe tbody tr th:only-of-type {\n",
       "        vertical-align: middle;\n",
       "    }\n",
       "\n",
       "    .dataframe tbody tr th {\n",
       "        vertical-align: top;\n",
       "    }\n",
       "\n",
       "    .dataframe thead th {\n",
       "        text-align: right;\n",
       "    }\n",
       "</style>\n",
       "<table border=\"1\" class=\"dataframe\">\n",
       "  <thead>\n",
       "    <tr style=\"text-align: right;\">\n",
       "      <th></th>\n",
       "      <th>0</th>\n",
       "      <th>formato</th>\n",
       "      <th>valor</th>\n",
       "      <th>descripcion</th>\n",
       "    </tr>\n",
       "  </thead>\n",
       "  <tbody>\n",
       "    <tr>\n",
       "      <th>0</th>\n",
       "      <td>sharpe_original</td>\n",
       "      <td>Cantidad</td>\n",
       "      <td>-6.157319</td>\n",
       "      <td>Sharpe Ratio Fórmula Original</td>\n",
       "    </tr>\n",
       "    <tr>\n",
       "      <th>1</th>\n",
       "      <td>sharpe_actualizado</td>\n",
       "      <td>Cantidad</td>\n",
       "      <td>-14.128447</td>\n",
       "      <td>Sharpe Ratio Fórmula Ajustada</td>\n",
       "    </tr>\n",
       "    <tr>\n",
       "      <th>2</th>\n",
       "      <td>drawdown_capi</td>\n",
       "      <td>Fecha Inicial</td>\n",
       "      <td>2021-09-21 23:59:59</td>\n",
       "      <td>Fecha inicial del DrawDown de Capital</td>\n",
       "    </tr>\n",
       "    <tr>\n",
       "      <th>3</th>\n",
       "      <td>drawdown_capi</td>\n",
       "      <td>Fecha Final</td>\n",
       "      <td>2021-09-24 23:59:59</td>\n",
       "      <td>Fecha final del DrawDown de Capital</td>\n",
       "    </tr>\n",
       "    <tr>\n",
       "      <th>4</th>\n",
       "      <td>drawdown_capi</td>\n",
       "      <td>DrawDown $ (capital)</td>\n",
       "      <td>-115.88</td>\n",
       "      <td>Máxima pérdida flotante registrada</td>\n",
       "    </tr>\n",
       "    <tr>\n",
       "      <th>5</th>\n",
       "      <td>drawup_capi</td>\n",
       "      <td>Fecha Inicial</td>\n",
       "      <td>2021-09-20 23:59:59</td>\n",
       "      <td>Fecha inicial del DrawUp de Capital</td>\n",
       "    </tr>\n",
       "    <tr>\n",
       "      <th>6</th>\n",
       "      <td>drawup_capi</td>\n",
       "      <td>Fecha Final</td>\n",
       "      <td>2021-09-21 23:59:59</td>\n",
       "      <td>Fecha final del DrawUp de Capital</td>\n",
       "    </tr>\n",
       "    <tr>\n",
       "      <th>7</th>\n",
       "      <td>drawup_capi</td>\n",
       "      <td>DrawUp $ (capital)</td>\n",
       "      <td>1.2</td>\n",
       "      <td>Máxima ganancia flotante registrada</td>\n",
       "    </tr>\n",
       "  </tbody>\n",
       "</table>\n",
       "</div>"
      ],
      "text/plain": [
       "                    0               formato                valor  \\\n",
       "0     sharpe_original              Cantidad            -6.157319   \n",
       "1  sharpe_actualizado              Cantidad           -14.128447   \n",
       "2       drawdown_capi         Fecha Inicial  2021-09-21 23:59:59   \n",
       "3       drawdown_capi           Fecha Final  2021-09-24 23:59:59   \n",
       "4       drawdown_capi  DrawDown $ (capital)              -115.88   \n",
       "5         drawup_capi         Fecha Inicial  2021-09-20 23:59:59   \n",
       "6         drawup_capi           Fecha Final  2021-09-21 23:59:59   \n",
       "7         drawup_capi    DrawUp $ (capital)                  1.2   \n",
       "\n",
       "                             descripcion  \n",
       "0          Sharpe Ratio Fórmula Original  \n",
       "1          Sharpe Ratio Fórmula Ajustada  \n",
       "2  Fecha inicial del DrawDown de Capital  \n",
       "3    Fecha final del DrawDown de Capital  \n",
       "4     Máxima pérdida flotante registrada  \n",
       "5    Fecha inicial del DrawUp de Capital  \n",
       "6      Fecha final del DrawUp de Capital  \n",
       "7    Máxima ganancia flotante registrada  "
      ]
     },
     "execution_count": 17,
     "metadata": {},
     "output_type": "execute_result"
    }
   ],
   "source": [
    "parte_2_2_ap"
   ]
  },
  {
   "cell_type": "code",
   "execution_count": 18,
   "metadata": {},
   "outputs": [
    {
     "name": "stdout",
     "output_type": "stream",
     "text": [
      "[*********************100%***********************]  1 of 1 completed\n"
     ]
    },
    {
     "data": {
      "text/html": [
       "<div>\n",
       "<style scoped>\n",
       "    .dataframe tbody tr th:only-of-type {\n",
       "        vertical-align: middle;\n",
       "    }\n",
       "\n",
       "    .dataframe tbody tr th {\n",
       "        vertical-align: top;\n",
       "    }\n",
       "\n",
       "    .dataframe thead th {\n",
       "        text-align: right;\n",
       "    }\n",
       "</style>\n",
       "<table border=\"1\" class=\"dataframe\">\n",
       "  <thead>\n",
       "    <tr style=\"text-align: right;\">\n",
       "      <th></th>\n",
       "      <th>timestamp</th>\n",
       "      <th>profit_d</th>\n",
       "      <th>profit_acm_d</th>\n",
       "    </tr>\n",
       "  </thead>\n",
       "  <tbody>\n",
       "    <tr>\n",
       "      <th>0</th>\n",
       "      <td>2021-09-21 23:59:59</td>\n",
       "      <td>-10.40</td>\n",
       "      <td>99989.60</td>\n",
       "    </tr>\n",
       "    <tr>\n",
       "      <th>1</th>\n",
       "      <td>2021-09-22 23:59:59</td>\n",
       "      <td>74.50</td>\n",
       "      <td>100064.10</td>\n",
       "    </tr>\n",
       "    <tr>\n",
       "      <th>2</th>\n",
       "      <td>2021-09-23 23:59:59</td>\n",
       "      <td>3032.12</td>\n",
       "      <td>103096.22</td>\n",
       "    </tr>\n",
       "    <tr>\n",
       "      <th>3</th>\n",
       "      <td>2021-09-24 23:59:59</td>\n",
       "      <td>115.01</td>\n",
       "      <td>103211.23</td>\n",
       "    </tr>\n",
       "    <tr>\n",
       "      <th>4</th>\n",
       "      <td>2021-09-25 23:59:59</td>\n",
       "      <td>0.00</td>\n",
       "      <td>103211.23</td>\n",
       "    </tr>\n",
       "    <tr>\n",
       "      <th>5</th>\n",
       "      <td>2021-09-26 23:59:59</td>\n",
       "      <td>0.00</td>\n",
       "      <td>103211.23</td>\n",
       "    </tr>\n",
       "    <tr>\n",
       "      <th>6</th>\n",
       "      <td>2021-09-27 23:59:59</td>\n",
       "      <td>0.00</td>\n",
       "      <td>103211.23</td>\n",
       "    </tr>\n",
       "    <tr>\n",
       "      <th>7</th>\n",
       "      <td>2021-09-28 23:59:59</td>\n",
       "      <td>-22300.55</td>\n",
       "      <td>80910.68</td>\n",
       "    </tr>\n",
       "    <tr>\n",
       "      <th>8</th>\n",
       "      <td>2021-09-29 23:59:59</td>\n",
       "      <td>0.00</td>\n",
       "      <td>80910.68</td>\n",
       "    </tr>\n",
       "    <tr>\n",
       "      <th>9</th>\n",
       "      <td>2021-09-30 23:59:59</td>\n",
       "      <td>31543.46</td>\n",
       "      <td>112454.14</td>\n",
       "    </tr>\n",
       "  </tbody>\n",
       "</table>\n",
       "</div>"
      ],
      "text/plain": [
       "            timestamp  profit_d  profit_acm_d\n",
       "0 2021-09-21 23:59:59    -10.40      99989.60\n",
       "1 2021-09-22 23:59:59     74.50     100064.10\n",
       "2 2021-09-23 23:59:59   3032.12     103096.22\n",
       "3 2021-09-24 23:59:59    115.01     103211.23\n",
       "4 2021-09-25 23:59:59      0.00     103211.23\n",
       "5 2021-09-26 23:59:59      0.00     103211.23\n",
       "6 2021-09-27 23:59:59      0.00     103211.23\n",
       "7 2021-09-28 23:59:59 -22300.55      80910.68\n",
       "8 2021-09-29 23:59:59      0.00      80910.68\n",
       "9 2021-09-30 23:59:59  31543.46     112454.14"
      ]
     },
     "execution_count": 18,
     "metadata": {},
     "output_type": "execute_result"
    }
   ],
   "source": [
    "parte_2_1_jp = fn.f_evolucion_capital(cap_ini=100000, operaciones=data_jp.copy())\n",
    "parte_2_2_jp = fn.f_estadisticas_mad(parte_2_1_jp, rf=0.05, benchmark_ticker=\"^GSPC\")\n",
    "parte_2_1_jp"
   ]
  },
  {
   "cell_type": "code",
   "execution_count": 19,
   "metadata": {},
   "outputs": [
    {
     "data": {
      "text/html": [
       "<div>\n",
       "<style scoped>\n",
       "    .dataframe tbody tr th:only-of-type {\n",
       "        vertical-align: middle;\n",
       "    }\n",
       "\n",
       "    .dataframe tbody tr th {\n",
       "        vertical-align: top;\n",
       "    }\n",
       "\n",
       "    .dataframe thead th {\n",
       "        text-align: right;\n",
       "    }\n",
       "</style>\n",
       "<table border=\"1\" class=\"dataframe\">\n",
       "  <thead>\n",
       "    <tr style=\"text-align: right;\">\n",
       "      <th></th>\n",
       "      <th>0</th>\n",
       "      <th>formato</th>\n",
       "      <th>valor</th>\n",
       "      <th>descripcion</th>\n",
       "    </tr>\n",
       "  </thead>\n",
       "  <tbody>\n",
       "    <tr>\n",
       "      <th>0</th>\n",
       "      <td>sharpe_original</td>\n",
       "      <td>Cantidad</td>\n",
       "      <td>-0.016109</td>\n",
       "      <td>Sharpe Ratio Fórmula Original</td>\n",
       "    </tr>\n",
       "    <tr>\n",
       "      <th>1</th>\n",
       "      <td>sharpe_actualizado</td>\n",
       "      <td>Cantidad</td>\n",
       "      <td>1.614683</td>\n",
       "      <td>Sharpe Ratio Fórmula Ajustada</td>\n",
       "    </tr>\n",
       "    <tr>\n",
       "      <th>2</th>\n",
       "      <td>drawdown_capi</td>\n",
       "      <td>Fecha Inicial</td>\n",
       "      <td>2021-09-24 23:59:59</td>\n",
       "      <td>Fecha inicial del DrawDown de Capital</td>\n",
       "    </tr>\n",
       "    <tr>\n",
       "      <th>3</th>\n",
       "      <td>drawdown_capi</td>\n",
       "      <td>Fecha Final</td>\n",
       "      <td>2021-09-28 23:59:59</td>\n",
       "      <td>Fecha final del DrawDown de Capital</td>\n",
       "    </tr>\n",
       "    <tr>\n",
       "      <th>4</th>\n",
       "      <td>drawdown_capi</td>\n",
       "      <td>DrawDown $ (capital)</td>\n",
       "      <td>-22300.55</td>\n",
       "      <td>Máxima pérdida flotante registrada</td>\n",
       "    </tr>\n",
       "    <tr>\n",
       "      <th>5</th>\n",
       "      <td>drawup_capi</td>\n",
       "      <td>Fecha Inicial</td>\n",
       "      <td>2021-09-28 23:59:59</td>\n",
       "      <td>Fecha inicial del DrawUp de Capital</td>\n",
       "    </tr>\n",
       "    <tr>\n",
       "      <th>6</th>\n",
       "      <td>drawup_capi</td>\n",
       "      <td>Fecha Final</td>\n",
       "      <td>2021-09-30 23:59:59</td>\n",
       "      <td>Fecha final del DrawUp de Capital</td>\n",
       "    </tr>\n",
       "    <tr>\n",
       "      <th>7</th>\n",
       "      <td>drawup_capi</td>\n",
       "      <td>DrawUp $ (capital)</td>\n",
       "      <td>31543.46</td>\n",
       "      <td>Máxima ganancia flotante registrada</td>\n",
       "    </tr>\n",
       "  </tbody>\n",
       "</table>\n",
       "</div>"
      ],
      "text/plain": [
       "                    0               formato                valor  \\\n",
       "0     sharpe_original              Cantidad            -0.016109   \n",
       "1  sharpe_actualizado              Cantidad             1.614683   \n",
       "2       drawdown_capi         Fecha Inicial  2021-09-24 23:59:59   \n",
       "3       drawdown_capi           Fecha Final  2021-09-28 23:59:59   \n",
       "4       drawdown_capi  DrawDown $ (capital)            -22300.55   \n",
       "5         drawup_capi         Fecha Inicial  2021-09-28 23:59:59   \n",
       "6         drawup_capi           Fecha Final  2021-09-30 23:59:59   \n",
       "7         drawup_capi    DrawUp $ (capital)             31543.46   \n",
       "\n",
       "                             descripcion  \n",
       "0          Sharpe Ratio Fórmula Original  \n",
       "1          Sharpe Ratio Fórmula Ajustada  \n",
       "2  Fecha inicial del DrawDown de Capital  \n",
       "3    Fecha final del DrawDown de Capital  \n",
       "4     Máxima pérdida flotante registrada  \n",
       "5    Fecha inicial del DrawUp de Capital  \n",
       "6      Fecha final del DrawUp de Capital  \n",
       "7    Máxima ganancia flotante registrada  "
      ]
     },
     "execution_count": 19,
     "metadata": {},
     "output_type": "execute_result"
    }
   ],
   "source": [
    "parte_2_2_jp"
   ]
  },
  {
   "cell_type": "code",
   "execution_count": null,
   "metadata": {},
   "outputs": [],
   "source": []
  },
  {
   "cell_type": "markdown",
   "metadata": {},
   "source": [
    "# <font color= #6B6B6B> 6. Behavioral Finance  </font>"
   ]
  },
  {
   "cell_type": "markdown",
   "metadata": {},
   "source": [
    "<hr style=\"border:0.02in solid gray\"> </hr>"
   ]
  },
  {
   "cell_type": "markdown",
   "metadata": {},
   "source": []
  },
  {
   "cell_type": "code",
   "execution_count": 27,
   "metadata": {},
   "outputs": [
    {
     "ename": "NameError",
     "evalue": "name 'mt5' is not defined",
     "output_type": "error",
     "traceback": [
      "\u001b[0;31m---------------------------------------------------------------------------\u001b[0m",
      "\u001b[0;31mNameError\u001b[0m                                 Traceback (most recent call last)",
      "\u001b[0;32m/var/folders/rl/svrfjpwx6_70t8p47vc76jrh0000gn/T/ipykernel_11075/2693419108.py\u001b[0m in \u001b[0;36m<module>\u001b[0;34m\u001b[0m\n\u001b[0;32m----> 1\u001b[0;31m \u001b[0mfinal_dict_dou\u001b[0m \u001b[0;34m=\u001b[0m \u001b[0mfn\u001b[0m\u001b[0;34m.\u001b[0m\u001b[0mf_be_de\u001b[0m\u001b[0;34m(\u001b[0m\u001b[0mdata_dou\u001b[0m\u001b[0;34m)\u001b[0m\u001b[0;34m\u001b[0m\u001b[0;34m\u001b[0m\u001b[0m\n\u001b[0m\u001b[1;32m      2\u001b[0m \u001b[0mfinal_dict_dou\u001b[0m\u001b[0;34m\u001b[0m\u001b[0;34m\u001b[0m\u001b[0m\n",
      "\u001b[0;32m~/Documents/Microestructuras y Sistemas de Trading/MyST_LAB_3_E3/functions.py\u001b[0m in \u001b[0;36mf_be_de\u001b[0;34m(param_data, local_exe)\u001b[0m\n\u001b[1;32m    560\u001b[0m         \u001b[0mn_occ\u001b[0m\u001b[0;34m.\u001b[0m\u001b[0mappend\u001b[0m\u001b[0;34m(\u001b[0m\u001b[0mlen\u001b[0m\u001b[0;34m(\u001b[0m\u001b[0mdf\u001b[0m\u001b[0;34m)\u001b[0m\u001b[0;34m)\u001b[0m\u001b[0;34m\u001b[0m\u001b[0;34m\u001b[0m\u001b[0m\n\u001b[1;32m    561\u001b[0m     \u001b[0moccu_df\u001b[0m \u001b[0;34m=\u001b[0m \u001b[0mpd\u001b[0m\u001b[0;34m.\u001b[0m\u001b[0mconcat\u001b[0m\u001b[0;34m(\u001b[0m\u001b[0moccu\u001b[0m\u001b[0;34m,\u001b[0m \u001b[0mignore_index\u001b[0m\u001b[0;34m=\u001b[0m\u001b[0;32mTrue\u001b[0m\u001b[0;34m)\u001b[0m\u001b[0;34m\u001b[0m\u001b[0;34m\u001b[0m\u001b[0m\n\u001b[0;32m--> 562\u001b[0;31m     prices_df = get_mt5_prices(symbols=occu_df.Symbol.tolist(),\n\u001b[0m\u001b[1;32m    563\u001b[0m                                \u001b[0mstart_time\u001b[0m\u001b[0;34m=\u001b[0m\u001b[0moccu_df\u001b[0m\u001b[0;34m.\u001b[0m\u001b[0mCTime_Anchor\u001b[0m\u001b[0;34m.\u001b[0m\u001b[0mmin\u001b[0m\u001b[0;34m(\u001b[0m\u001b[0;34m)\u001b[0m\u001b[0;34m,\u001b[0m\u001b[0;34m\u001b[0m\u001b[0;34m\u001b[0m\u001b[0m\n\u001b[1;32m    564\u001b[0m                                end_time=occu_df.CTime_Anchor.max(),local_exe=local_exe)\n",
      "\u001b[0;32m~/Documents/Microestructuras y Sistemas de Trading/MyST_LAB_3_E3/functions.py\u001b[0m in \u001b[0;36mget_mt5_prices\u001b[0;34m(symbols, start_time, end_time, local_exe, mt5_acc, mt5_inv_pas)\u001b[0m\n\u001b[1;32m    528\u001b[0m                    mt5_acc = 5401675, mt5_inv_pas = \"vdGVQp8v\"):\n\u001b[1;32m    529\u001b[0m \u001b[0;34m\u001b[0m\u001b[0m\n\u001b[0;32m--> 530\u001b[0;31m     mt5_client = f_init_login(param_acc=mt5_acc,\n\u001b[0m\u001b[1;32m    531\u001b[0m                               \u001b[0mparam_pass\u001b[0m\u001b[0;34m=\u001b[0m\u001b[0mmt5_inv_pas\u001b[0m\u001b[0;34m,\u001b[0m\u001b[0;34m\u001b[0m\u001b[0;34m\u001b[0m\u001b[0m\n\u001b[1;32m    532\u001b[0m                               param_exe=local_exe)\n",
      "\u001b[0;32m~/Documents/Microestructuras y Sistemas de Trading/MyST_LAB_3_E3/functions.py\u001b[0m in \u001b[0;36mf_init_login\u001b[0;34m(param_acc, param_pass, param_exe)\u001b[0m\n\u001b[1;32m     65\u001b[0m \u001b[0;34m\u001b[0m\u001b[0m\n\u001b[1;32m     66\u001b[0m     \u001b[0;31m# Perform initialization handshake\u001b[0m\u001b[0;34m\u001b[0m\u001b[0;34m\u001b[0m\u001b[0;34m\u001b[0m\u001b[0m\n\u001b[0;32m---> 67\u001b[0;31m     ini_message = mt5.initialize(param_exe, login=param_acc, password=param_pass, server=mt5_ser,\n\u001b[0m\u001b[1;32m     68\u001b[0m                                  timeout=mt5_tmo, portable=False)\n\u001b[1;32m     69\u001b[0m \u001b[0;34m\u001b[0m\u001b[0m\n",
      "\u001b[0;31mNameError\u001b[0m: name 'mt5' is not defined"
     ]
    }
   ],
   "source": [
    "final_dict_dou = fn.f_be_de(data_dou)\n",
    "final_dict_dou"
   ]
  },
  {
   "cell_type": "code",
   "execution_count": null,
   "metadata": {},
   "outputs": [],
   "source": [
    "final_dict_ap = fn.f_be_de(data_ap)\n",
    "final_dict_ap"
   ]
  },
  {
   "cell_type": "code",
   "execution_count": null,
   "metadata": {},
   "outputs": [],
   "source": [
    "final_dict_jp = fn.f_be_de(data_jp)\n",
    "final_dict_jp"
   ]
  },
  {
   "cell_type": "code",
   "execution_count": null,
   "metadata": {},
   "outputs": [],
   "source": []
  },
  {
   "cell_type": "markdown",
   "metadata": {},
   "source": [
    "# <font color= #6B6B6B> <font size = 6> 7. Visualizations and Results </font>"
   ]
  },
  {
   "cell_type": "markdown",
   "metadata": {},
   "source": [
    "<hr style=\"border:0.02in solid gray\"> </hr>"
   ]
  },
  {
   "cell_type": "markdown",
   "metadata": {},
   "source": []
  },
  {
   "cell_type": "markdown",
   "metadata": {},
   "source": [
    "## <font color= #6B6B6B> 7.1 Results of Descriptive statistics and Performance Attribution Metrics</font>"
   ]
  },
  {
   "cell_type": "code",
   "execution_count": 44,
   "metadata": {},
   "outputs": [
    {
     "ename": "NameError",
     "evalue": "name 'px' is not defined",
     "output_type": "error",
     "traceback": [
      "\u001b[0;31m---------------------------------------------------------------------------\u001b[0m",
      "\u001b[0;31mNameError\u001b[0m                                 Traceback (most recent call last)",
      "\u001b[0;32m/var/folders/rl/svrfjpwx6_70t8p47vc76jrh0000gn/T/ipykernel_2192/225634280.py\u001b[0m in \u001b[0;36m<module>\u001b[0;34m\u001b[0m\n\u001b[0;32m----> 1\u001b[0;31m \u001b[0mpx\u001b[0m\u001b[0;34m.\u001b[0m\u001b[0mparte_1_ap\u001b[0m\u001b[0;34m[\u001b[0m\u001b[0;34m'df_2_ranking'\u001b[0m\u001b[0;34m]\u001b[0m\u001b[0;34m\u001b[0m\u001b[0;34m\u001b[0m\u001b[0m\n\u001b[0m",
      "\u001b[0;31mNameError\u001b[0m: name 'px' is not defined"
     ]
    }
   ],
   "source": [
    "px.parte_1_ap['df_2_ranking']"
   ]
  },
  {
   "cell_type": "code",
   "execution_count": 34,
   "metadata": {},
   "outputs": [
    {
     "data": {
      "application/vnd.plotly.v1+json": {
       "config": {
        "plotlyServerURL": "https://plot.ly"
       },
       "data": [
        {
         "domain": {
          "x": [
           0,
           1
          ],
          "y": [
           0,
           1
          ]
         },
         "hovertemplate": "Symbol=%{label}<br>rank=%{value}<extra></extra>",
         "labels": [
          "AUDUSD",
          "EURUSD",
          "GBPUSD",
          "NZDUSD",
          "USDCAD"
         ],
         "legendgroup": "",
         "name": "",
         "showlegend": true,
         "type": "pie",
         "values": [
          "0.00%",
          "0.00%",
          "100.00%",
          "0.00%",
          "100.00%"
         ]
        }
       ],
       "layout": {
        "legend": {
         "tracegroupgap": 0
        },
        "margin": {
         "t": 60
        },
        "template": {
         "data": {
          "bar": [
           {
            "error_x": {
             "color": "#2a3f5f"
            },
            "error_y": {
             "color": "#2a3f5f"
            },
            "marker": {
             "line": {
              "color": "#E5ECF6",
              "width": 0.5
             },
             "pattern": {
              "fillmode": "overlay",
              "size": 10,
              "solidity": 0.2
             }
            },
            "type": "bar"
           }
          ],
          "barpolar": [
           {
            "marker": {
             "line": {
              "color": "#E5ECF6",
              "width": 0.5
             },
             "pattern": {
              "fillmode": "overlay",
              "size": 10,
              "solidity": 0.2
             }
            },
            "type": "barpolar"
           }
          ],
          "carpet": [
           {
            "aaxis": {
             "endlinecolor": "#2a3f5f",
             "gridcolor": "white",
             "linecolor": "white",
             "minorgridcolor": "white",
             "startlinecolor": "#2a3f5f"
            },
            "baxis": {
             "endlinecolor": "#2a3f5f",
             "gridcolor": "white",
             "linecolor": "white",
             "minorgridcolor": "white",
             "startlinecolor": "#2a3f5f"
            },
            "type": "carpet"
           }
          ],
          "choropleth": [
           {
            "colorbar": {
             "outlinewidth": 0,
             "ticks": ""
            },
            "type": "choropleth"
           }
          ],
          "contour": [
           {
            "colorbar": {
             "outlinewidth": 0,
             "ticks": ""
            },
            "colorscale": [
             [
              0,
              "#0d0887"
             ],
             [
              0.1111111111111111,
              "#46039f"
             ],
             [
              0.2222222222222222,
              "#7201a8"
             ],
             [
              0.3333333333333333,
              "#9c179e"
             ],
             [
              0.4444444444444444,
              "#bd3786"
             ],
             [
              0.5555555555555556,
              "#d8576b"
             ],
             [
              0.6666666666666666,
              "#ed7953"
             ],
             [
              0.7777777777777778,
              "#fb9f3a"
             ],
             [
              0.8888888888888888,
              "#fdca26"
             ],
             [
              1,
              "#f0f921"
             ]
            ],
            "type": "contour"
           }
          ],
          "contourcarpet": [
           {
            "colorbar": {
             "outlinewidth": 0,
             "ticks": ""
            },
            "type": "contourcarpet"
           }
          ],
          "heatmap": [
           {
            "colorbar": {
             "outlinewidth": 0,
             "ticks": ""
            },
            "colorscale": [
             [
              0,
              "#0d0887"
             ],
             [
              0.1111111111111111,
              "#46039f"
             ],
             [
              0.2222222222222222,
              "#7201a8"
             ],
             [
              0.3333333333333333,
              "#9c179e"
             ],
             [
              0.4444444444444444,
              "#bd3786"
             ],
             [
              0.5555555555555556,
              "#d8576b"
             ],
             [
              0.6666666666666666,
              "#ed7953"
             ],
             [
              0.7777777777777778,
              "#fb9f3a"
             ],
             [
              0.8888888888888888,
              "#fdca26"
             ],
             [
              1,
              "#f0f921"
             ]
            ],
            "type": "heatmap"
           }
          ],
          "heatmapgl": [
           {
            "colorbar": {
             "outlinewidth": 0,
             "ticks": ""
            },
            "colorscale": [
             [
              0,
              "#0d0887"
             ],
             [
              0.1111111111111111,
              "#46039f"
             ],
             [
              0.2222222222222222,
              "#7201a8"
             ],
             [
              0.3333333333333333,
              "#9c179e"
             ],
             [
              0.4444444444444444,
              "#bd3786"
             ],
             [
              0.5555555555555556,
              "#d8576b"
             ],
             [
              0.6666666666666666,
              "#ed7953"
             ],
             [
              0.7777777777777778,
              "#fb9f3a"
             ],
             [
              0.8888888888888888,
              "#fdca26"
             ],
             [
              1,
              "#f0f921"
             ]
            ],
            "type": "heatmapgl"
           }
          ],
          "histogram": [
           {
            "marker": {
             "pattern": {
              "fillmode": "overlay",
              "size": 10,
              "solidity": 0.2
             }
            },
            "type": "histogram"
           }
          ],
          "histogram2d": [
           {
            "colorbar": {
             "outlinewidth": 0,
             "ticks": ""
            },
            "colorscale": [
             [
              0,
              "#0d0887"
             ],
             [
              0.1111111111111111,
              "#46039f"
             ],
             [
              0.2222222222222222,
              "#7201a8"
             ],
             [
              0.3333333333333333,
              "#9c179e"
             ],
             [
              0.4444444444444444,
              "#bd3786"
             ],
             [
              0.5555555555555556,
              "#d8576b"
             ],
             [
              0.6666666666666666,
              "#ed7953"
             ],
             [
              0.7777777777777778,
              "#fb9f3a"
             ],
             [
              0.8888888888888888,
              "#fdca26"
             ],
             [
              1,
              "#f0f921"
             ]
            ],
            "type": "histogram2d"
           }
          ],
          "histogram2dcontour": [
           {
            "colorbar": {
             "outlinewidth": 0,
             "ticks": ""
            },
            "colorscale": [
             [
              0,
              "#0d0887"
             ],
             [
              0.1111111111111111,
              "#46039f"
             ],
             [
              0.2222222222222222,
              "#7201a8"
             ],
             [
              0.3333333333333333,
              "#9c179e"
             ],
             [
              0.4444444444444444,
              "#bd3786"
             ],
             [
              0.5555555555555556,
              "#d8576b"
             ],
             [
              0.6666666666666666,
              "#ed7953"
             ],
             [
              0.7777777777777778,
              "#fb9f3a"
             ],
             [
              0.8888888888888888,
              "#fdca26"
             ],
             [
              1,
              "#f0f921"
             ]
            ],
            "type": "histogram2dcontour"
           }
          ],
          "mesh3d": [
           {
            "colorbar": {
             "outlinewidth": 0,
             "ticks": ""
            },
            "type": "mesh3d"
           }
          ],
          "parcoords": [
           {
            "line": {
             "colorbar": {
              "outlinewidth": 0,
              "ticks": ""
             }
            },
            "type": "parcoords"
           }
          ],
          "pie": [
           {
            "automargin": true,
            "type": "pie"
           }
          ],
          "scatter": [
           {
            "marker": {
             "colorbar": {
              "outlinewidth": 0,
              "ticks": ""
             }
            },
            "type": "scatter"
           }
          ],
          "scatter3d": [
           {
            "line": {
             "colorbar": {
              "outlinewidth": 0,
              "ticks": ""
             }
            },
            "marker": {
             "colorbar": {
              "outlinewidth": 0,
              "ticks": ""
             }
            },
            "type": "scatter3d"
           }
          ],
          "scattercarpet": [
           {
            "marker": {
             "colorbar": {
              "outlinewidth": 0,
              "ticks": ""
             }
            },
            "type": "scattercarpet"
           }
          ],
          "scattergeo": [
           {
            "marker": {
             "colorbar": {
              "outlinewidth": 0,
              "ticks": ""
             }
            },
            "type": "scattergeo"
           }
          ],
          "scattergl": [
           {
            "marker": {
             "colorbar": {
              "outlinewidth": 0,
              "ticks": ""
             }
            },
            "type": "scattergl"
           }
          ],
          "scattermapbox": [
           {
            "marker": {
             "colorbar": {
              "outlinewidth": 0,
              "ticks": ""
             }
            },
            "type": "scattermapbox"
           }
          ],
          "scatterpolar": [
           {
            "marker": {
             "colorbar": {
              "outlinewidth": 0,
              "ticks": ""
             }
            },
            "type": "scatterpolar"
           }
          ],
          "scatterpolargl": [
           {
            "marker": {
             "colorbar": {
              "outlinewidth": 0,
              "ticks": ""
             }
            },
            "type": "scatterpolargl"
           }
          ],
          "scatterternary": [
           {
            "marker": {
             "colorbar": {
              "outlinewidth": 0,
              "ticks": ""
             }
            },
            "type": "scatterternary"
           }
          ],
          "surface": [
           {
            "colorbar": {
             "outlinewidth": 0,
             "ticks": ""
            },
            "colorscale": [
             [
              0,
              "#0d0887"
             ],
             [
              0.1111111111111111,
              "#46039f"
             ],
             [
              0.2222222222222222,
              "#7201a8"
             ],
             [
              0.3333333333333333,
              "#9c179e"
             ],
             [
              0.4444444444444444,
              "#bd3786"
             ],
             [
              0.5555555555555556,
              "#d8576b"
             ],
             [
              0.6666666666666666,
              "#ed7953"
             ],
             [
              0.7777777777777778,
              "#fb9f3a"
             ],
             [
              0.8888888888888888,
              "#fdca26"
             ],
             [
              1,
              "#f0f921"
             ]
            ],
            "type": "surface"
           }
          ],
          "table": [
           {
            "cells": {
             "fill": {
              "color": "#EBF0F8"
             },
             "line": {
              "color": "white"
             }
            },
            "header": {
             "fill": {
              "color": "#C8D4E3"
             },
             "line": {
              "color": "white"
             }
            },
            "type": "table"
           }
          ]
         },
         "layout": {
          "annotationdefaults": {
           "arrowcolor": "#2a3f5f",
           "arrowhead": 0,
           "arrowwidth": 1
          },
          "autotypenumbers": "strict",
          "coloraxis": {
           "colorbar": {
            "outlinewidth": 0,
            "ticks": ""
           }
          },
          "colorscale": {
           "diverging": [
            [
             0,
             "#8e0152"
            ],
            [
             0.1,
             "#c51b7d"
            ],
            [
             0.2,
             "#de77ae"
            ],
            [
             0.3,
             "#f1b6da"
            ],
            [
             0.4,
             "#fde0ef"
            ],
            [
             0.5,
             "#f7f7f7"
            ],
            [
             0.6,
             "#e6f5d0"
            ],
            [
             0.7,
             "#b8e186"
            ],
            [
             0.8,
             "#7fbc41"
            ],
            [
             0.9,
             "#4d9221"
            ],
            [
             1,
             "#276419"
            ]
           ],
           "sequential": [
            [
             0,
             "#0d0887"
            ],
            [
             0.1111111111111111,
             "#46039f"
            ],
            [
             0.2222222222222222,
             "#7201a8"
            ],
            [
             0.3333333333333333,
             "#9c179e"
            ],
            [
             0.4444444444444444,
             "#bd3786"
            ],
            [
             0.5555555555555556,
             "#d8576b"
            ],
            [
             0.6666666666666666,
             "#ed7953"
            ],
            [
             0.7777777777777778,
             "#fb9f3a"
            ],
            [
             0.8888888888888888,
             "#fdca26"
            ],
            [
             1,
             "#f0f921"
            ]
           ],
           "sequentialminus": [
            [
             0,
             "#0d0887"
            ],
            [
             0.1111111111111111,
             "#46039f"
            ],
            [
             0.2222222222222222,
             "#7201a8"
            ],
            [
             0.3333333333333333,
             "#9c179e"
            ],
            [
             0.4444444444444444,
             "#bd3786"
            ],
            [
             0.5555555555555556,
             "#d8576b"
            ],
            [
             0.6666666666666666,
             "#ed7953"
            ],
            [
             0.7777777777777778,
             "#fb9f3a"
            ],
            [
             0.8888888888888888,
             "#fdca26"
            ],
            [
             1,
             "#f0f921"
            ]
           ]
          },
          "colorway": [
           "#636efa",
           "#EF553B",
           "#00cc96",
           "#ab63fa",
           "#FFA15A",
           "#19d3f3",
           "#FF6692",
           "#B6E880",
           "#FF97FF",
           "#FECB52"
          ],
          "font": {
           "color": "#2a3f5f"
          },
          "geo": {
           "bgcolor": "white",
           "lakecolor": "white",
           "landcolor": "#E5ECF6",
           "showlakes": true,
           "showland": true,
           "subunitcolor": "white"
          },
          "hoverlabel": {
           "align": "left"
          },
          "hovermode": "closest",
          "mapbox": {
           "style": "light"
          },
          "paper_bgcolor": "white",
          "plot_bgcolor": "#E5ECF6",
          "polar": {
           "angularaxis": {
            "gridcolor": "white",
            "linecolor": "white",
            "ticks": ""
           },
           "bgcolor": "#E5ECF6",
           "radialaxis": {
            "gridcolor": "white",
            "linecolor": "white",
            "ticks": ""
           }
          },
          "scene": {
           "xaxis": {
            "backgroundcolor": "#E5ECF6",
            "gridcolor": "white",
            "gridwidth": 2,
            "linecolor": "white",
            "showbackground": true,
            "ticks": "",
            "zerolinecolor": "white"
           },
           "yaxis": {
            "backgroundcolor": "#E5ECF6",
            "gridcolor": "white",
            "gridwidth": 2,
            "linecolor": "white",
            "showbackground": true,
            "ticks": "",
            "zerolinecolor": "white"
           },
           "zaxis": {
            "backgroundcolor": "#E5ECF6",
            "gridcolor": "white",
            "gridwidth": 2,
            "linecolor": "white",
            "showbackground": true,
            "ticks": "",
            "zerolinecolor": "white"
           }
          },
          "shapedefaults": {
           "line": {
            "color": "#2a3f5f"
           }
          },
          "ternary": {
           "aaxis": {
            "gridcolor": "white",
            "linecolor": "white",
            "ticks": ""
           },
           "baxis": {
            "gridcolor": "white",
            "linecolor": "white",
            "ticks": ""
           },
           "bgcolor": "#E5ECF6",
           "caxis": {
            "gridcolor": "white",
            "linecolor": "white",
            "ticks": ""
           }
          },
          "title": {
           "x": 0.05
          },
          "xaxis": {
           "automargin": true,
           "gridcolor": "white",
           "linecolor": "white",
           "ticks": "",
           "title": {
            "standoff": 15
           },
           "zerolinecolor": "white",
           "zerolinewidth": 2
          },
          "yaxis": {
           "automargin": true,
           "gridcolor": "white",
           "linecolor": "white",
           "ticks": "",
           "title": {
            "standoff": 15
           },
           "zerolinecolor": "white",
           "zerolinewidth": 2
          }
         }
        }
       }
      },
      "text/html": [
       "<div>                            <div id=\"884c8d26-8138-4c09-9fbf-149b0d22104b\" class=\"plotly-graph-div\" style=\"height:525px; width:100%;\"></div>            <script type=\"text/javascript\">                require([\"plotly\"], function(Plotly) {                    window.PLOTLYENV=window.PLOTLYENV || {};                                    if (document.getElementById(\"884c8d26-8138-4c09-9fbf-149b0d22104b\")) {                    Plotly.newPlot(                        \"884c8d26-8138-4c09-9fbf-149b0d22104b\",                        [{\"domain\":{\"x\":[0.0,1.0],\"y\":[0.0,1.0]},\"hovertemplate\":\"Symbol=%{label}<br>rank=%{value}<extra></extra>\",\"labels\":[\"AUDUSD\",\"EURUSD\",\"GBPUSD\",\"NZDUSD\",\"USDCAD\"],\"legendgroup\":\"\",\"name\":\"\",\"showlegend\":true,\"type\":\"pie\",\"values\":[\"0.00%\",\"0.00%\",\"100.00%\",\"0.00%\",\"100.00%\"]}],                        {\"legend\":{\"tracegroupgap\":0},\"margin\":{\"t\":60},\"template\":{\"data\":{\"bar\":[{\"error_x\":{\"color\":\"#2a3f5f\"},\"error_y\":{\"color\":\"#2a3f5f\"},\"marker\":{\"line\":{\"color\":\"#E5ECF6\",\"width\":0.5},\"pattern\":{\"fillmode\":\"overlay\",\"size\":10,\"solidity\":0.2}},\"type\":\"bar\"}],\"barpolar\":[{\"marker\":{\"line\":{\"color\":\"#E5ECF6\",\"width\":0.5},\"pattern\":{\"fillmode\":\"overlay\",\"size\":10,\"solidity\":0.2}},\"type\":\"barpolar\"}],\"carpet\":[{\"aaxis\":{\"endlinecolor\":\"#2a3f5f\",\"gridcolor\":\"white\",\"linecolor\":\"white\",\"minorgridcolor\":\"white\",\"startlinecolor\":\"#2a3f5f\"},\"baxis\":{\"endlinecolor\":\"#2a3f5f\",\"gridcolor\":\"white\",\"linecolor\":\"white\",\"minorgridcolor\":\"white\",\"startlinecolor\":\"#2a3f5f\"},\"type\":\"carpet\"}],\"choropleth\":[{\"colorbar\":{\"outlinewidth\":0,\"ticks\":\"\"},\"type\":\"choropleth\"}],\"contour\":[{\"colorbar\":{\"outlinewidth\":0,\"ticks\":\"\"},\"colorscale\":[[0.0,\"#0d0887\"],[0.1111111111111111,\"#46039f\"],[0.2222222222222222,\"#7201a8\"],[0.3333333333333333,\"#9c179e\"],[0.4444444444444444,\"#bd3786\"],[0.5555555555555556,\"#d8576b\"],[0.6666666666666666,\"#ed7953\"],[0.7777777777777778,\"#fb9f3a\"],[0.8888888888888888,\"#fdca26\"],[1.0,\"#f0f921\"]],\"type\":\"contour\"}],\"contourcarpet\":[{\"colorbar\":{\"outlinewidth\":0,\"ticks\":\"\"},\"type\":\"contourcarpet\"}],\"heatmap\":[{\"colorbar\":{\"outlinewidth\":0,\"ticks\":\"\"},\"colorscale\":[[0.0,\"#0d0887\"],[0.1111111111111111,\"#46039f\"],[0.2222222222222222,\"#7201a8\"],[0.3333333333333333,\"#9c179e\"],[0.4444444444444444,\"#bd3786\"],[0.5555555555555556,\"#d8576b\"],[0.6666666666666666,\"#ed7953\"],[0.7777777777777778,\"#fb9f3a\"],[0.8888888888888888,\"#fdca26\"],[1.0,\"#f0f921\"]],\"type\":\"heatmap\"}],\"heatmapgl\":[{\"colorbar\":{\"outlinewidth\":0,\"ticks\":\"\"},\"colorscale\":[[0.0,\"#0d0887\"],[0.1111111111111111,\"#46039f\"],[0.2222222222222222,\"#7201a8\"],[0.3333333333333333,\"#9c179e\"],[0.4444444444444444,\"#bd3786\"],[0.5555555555555556,\"#d8576b\"],[0.6666666666666666,\"#ed7953\"],[0.7777777777777778,\"#fb9f3a\"],[0.8888888888888888,\"#fdca26\"],[1.0,\"#f0f921\"]],\"type\":\"heatmapgl\"}],\"histogram\":[{\"marker\":{\"pattern\":{\"fillmode\":\"overlay\",\"size\":10,\"solidity\":0.2}},\"type\":\"histogram\"}],\"histogram2d\":[{\"colorbar\":{\"outlinewidth\":0,\"ticks\":\"\"},\"colorscale\":[[0.0,\"#0d0887\"],[0.1111111111111111,\"#46039f\"],[0.2222222222222222,\"#7201a8\"],[0.3333333333333333,\"#9c179e\"],[0.4444444444444444,\"#bd3786\"],[0.5555555555555556,\"#d8576b\"],[0.6666666666666666,\"#ed7953\"],[0.7777777777777778,\"#fb9f3a\"],[0.8888888888888888,\"#fdca26\"],[1.0,\"#f0f921\"]],\"type\":\"histogram2d\"}],\"histogram2dcontour\":[{\"colorbar\":{\"outlinewidth\":0,\"ticks\":\"\"},\"colorscale\":[[0.0,\"#0d0887\"],[0.1111111111111111,\"#46039f\"],[0.2222222222222222,\"#7201a8\"],[0.3333333333333333,\"#9c179e\"],[0.4444444444444444,\"#bd3786\"],[0.5555555555555556,\"#d8576b\"],[0.6666666666666666,\"#ed7953\"],[0.7777777777777778,\"#fb9f3a\"],[0.8888888888888888,\"#fdca26\"],[1.0,\"#f0f921\"]],\"type\":\"histogram2dcontour\"}],\"mesh3d\":[{\"colorbar\":{\"outlinewidth\":0,\"ticks\":\"\"},\"type\":\"mesh3d\"}],\"parcoords\":[{\"line\":{\"colorbar\":{\"outlinewidth\":0,\"ticks\":\"\"}},\"type\":\"parcoords\"}],\"pie\":[{\"automargin\":true,\"type\":\"pie\"}],\"scatter\":[{\"marker\":{\"colorbar\":{\"outlinewidth\":0,\"ticks\":\"\"}},\"type\":\"scatter\"}],\"scatter3d\":[{\"line\":{\"colorbar\":{\"outlinewidth\":0,\"ticks\":\"\"}},\"marker\":{\"colorbar\":{\"outlinewidth\":0,\"ticks\":\"\"}},\"type\":\"scatter3d\"}],\"scattercarpet\":[{\"marker\":{\"colorbar\":{\"outlinewidth\":0,\"ticks\":\"\"}},\"type\":\"scattercarpet\"}],\"scattergeo\":[{\"marker\":{\"colorbar\":{\"outlinewidth\":0,\"ticks\":\"\"}},\"type\":\"scattergeo\"}],\"scattergl\":[{\"marker\":{\"colorbar\":{\"outlinewidth\":0,\"ticks\":\"\"}},\"type\":\"scattergl\"}],\"scattermapbox\":[{\"marker\":{\"colorbar\":{\"outlinewidth\":0,\"ticks\":\"\"}},\"type\":\"scattermapbox\"}],\"scatterpolar\":[{\"marker\":{\"colorbar\":{\"outlinewidth\":0,\"ticks\":\"\"}},\"type\":\"scatterpolar\"}],\"scatterpolargl\":[{\"marker\":{\"colorbar\":{\"outlinewidth\":0,\"ticks\":\"\"}},\"type\":\"scatterpolargl\"}],\"scatterternary\":[{\"marker\":{\"colorbar\":{\"outlinewidth\":0,\"ticks\":\"\"}},\"type\":\"scatterternary\"}],\"surface\":[{\"colorbar\":{\"outlinewidth\":0,\"ticks\":\"\"},\"colorscale\":[[0.0,\"#0d0887\"],[0.1111111111111111,\"#46039f\"],[0.2222222222222222,\"#7201a8\"],[0.3333333333333333,\"#9c179e\"],[0.4444444444444444,\"#bd3786\"],[0.5555555555555556,\"#d8576b\"],[0.6666666666666666,\"#ed7953\"],[0.7777777777777778,\"#fb9f3a\"],[0.8888888888888888,\"#fdca26\"],[1.0,\"#f0f921\"]],\"type\":\"surface\"}],\"table\":[{\"cells\":{\"fill\":{\"color\":\"#EBF0F8\"},\"line\":{\"color\":\"white\"}},\"header\":{\"fill\":{\"color\":\"#C8D4E3\"},\"line\":{\"color\":\"white\"}},\"type\":\"table\"}]},\"layout\":{\"annotationdefaults\":{\"arrowcolor\":\"#2a3f5f\",\"arrowhead\":0,\"arrowwidth\":1},\"autotypenumbers\":\"strict\",\"coloraxis\":{\"colorbar\":{\"outlinewidth\":0,\"ticks\":\"\"}},\"colorscale\":{\"diverging\":[[0,\"#8e0152\"],[0.1,\"#c51b7d\"],[0.2,\"#de77ae\"],[0.3,\"#f1b6da\"],[0.4,\"#fde0ef\"],[0.5,\"#f7f7f7\"],[0.6,\"#e6f5d0\"],[0.7,\"#b8e186\"],[0.8,\"#7fbc41\"],[0.9,\"#4d9221\"],[1,\"#276419\"]],\"sequential\":[[0.0,\"#0d0887\"],[0.1111111111111111,\"#46039f\"],[0.2222222222222222,\"#7201a8\"],[0.3333333333333333,\"#9c179e\"],[0.4444444444444444,\"#bd3786\"],[0.5555555555555556,\"#d8576b\"],[0.6666666666666666,\"#ed7953\"],[0.7777777777777778,\"#fb9f3a\"],[0.8888888888888888,\"#fdca26\"],[1.0,\"#f0f921\"]],\"sequentialminus\":[[0.0,\"#0d0887\"],[0.1111111111111111,\"#46039f\"],[0.2222222222222222,\"#7201a8\"],[0.3333333333333333,\"#9c179e\"],[0.4444444444444444,\"#bd3786\"],[0.5555555555555556,\"#d8576b\"],[0.6666666666666666,\"#ed7953\"],[0.7777777777777778,\"#fb9f3a\"],[0.8888888888888888,\"#fdca26\"],[1.0,\"#f0f921\"]]},\"colorway\":[\"#636efa\",\"#EF553B\",\"#00cc96\",\"#ab63fa\",\"#FFA15A\",\"#19d3f3\",\"#FF6692\",\"#B6E880\",\"#FF97FF\",\"#FECB52\"],\"font\":{\"color\":\"#2a3f5f\"},\"geo\":{\"bgcolor\":\"white\",\"lakecolor\":\"white\",\"landcolor\":\"#E5ECF6\",\"showlakes\":true,\"showland\":true,\"subunitcolor\":\"white\"},\"hoverlabel\":{\"align\":\"left\"},\"hovermode\":\"closest\",\"mapbox\":{\"style\":\"light\"},\"paper_bgcolor\":\"white\",\"plot_bgcolor\":\"#E5ECF6\",\"polar\":{\"angularaxis\":{\"gridcolor\":\"white\",\"linecolor\":\"white\",\"ticks\":\"\"},\"bgcolor\":\"#E5ECF6\",\"radialaxis\":{\"gridcolor\":\"white\",\"linecolor\":\"white\",\"ticks\":\"\"}},\"scene\":{\"xaxis\":{\"backgroundcolor\":\"#E5ECF6\",\"gridcolor\":\"white\",\"gridwidth\":2,\"linecolor\":\"white\",\"showbackground\":true,\"ticks\":\"\",\"zerolinecolor\":\"white\"},\"yaxis\":{\"backgroundcolor\":\"#E5ECF6\",\"gridcolor\":\"white\",\"gridwidth\":2,\"linecolor\":\"white\",\"showbackground\":true,\"ticks\":\"\",\"zerolinecolor\":\"white\"},\"zaxis\":{\"backgroundcolor\":\"#E5ECF6\",\"gridcolor\":\"white\",\"gridwidth\":2,\"linecolor\":\"white\",\"showbackground\":true,\"ticks\":\"\",\"zerolinecolor\":\"white\"}},\"shapedefaults\":{\"line\":{\"color\":\"#2a3f5f\"}},\"ternary\":{\"aaxis\":{\"gridcolor\":\"white\",\"linecolor\":\"white\",\"ticks\":\"\"},\"baxis\":{\"gridcolor\":\"white\",\"linecolor\":\"white\",\"ticks\":\"\"},\"bgcolor\":\"#E5ECF6\",\"caxis\":{\"gridcolor\":\"white\",\"linecolor\":\"white\",\"ticks\":\"\"}},\"title\":{\"x\":0.05},\"xaxis\":{\"automargin\":true,\"gridcolor\":\"white\",\"linecolor\":\"white\",\"ticks\":\"\",\"title\":{\"standoff\":15},\"zerolinecolor\":\"white\",\"zerolinewidth\":2},\"yaxis\":{\"automargin\":true,\"gridcolor\":\"white\",\"linecolor\":\"white\",\"ticks\":\"\",\"title\":{\"standoff\":15},\"zerolinecolor\":\"white\",\"zerolinewidth\":2}}}},                        {\"responsive\": true}                    ).then(function(){\n",
       "                            \n",
       "var gd = document.getElementById('884c8d26-8138-4c09-9fbf-149b0d22104b');\n",
       "var x = new MutationObserver(function (mutations, observer) {{\n",
       "        var display = window.getComputedStyle(gd).display;\n",
       "        if (!display || display === 'none') {{\n",
       "            console.log([gd, 'removed!']);\n",
       "            Plotly.purge(gd);\n",
       "            observer.disconnect();\n",
       "        }}\n",
       "}});\n",
       "\n",
       "// Listen for the removal of the full notebook cells\n",
       "var notebookContainer = gd.closest('#notebook-container');\n",
       "if (notebookContainer) {{\n",
       "    x.observe(notebookContainer, {childList: true});\n",
       "}}\n",
       "\n",
       "// Listen for the clearing of the current output cell\n",
       "var outputEl = gd.closest('.output');\n",
       "if (outputEl) {{\n",
       "    x.observe(outputEl, {childList: true});\n",
       "}}\n",
       "\n",
       "                        })                };                });            </script>        </div>"
      ]
     },
     "metadata": {},
     "output_type": "display_data"
    }
   ],
   "source": [
    "# Ranking\n",
    "fig_ap = vs.pie_chart(parte_1_ap['df_2_ranking'])\n",
    "fig_ap.show()"
   ]
  },
  {
   "cell_type": "code",
   "execution_count": null,
   "metadata": {},
   "outputs": [],
   "source": [
    "# DrawDown and DrawUp\n",
    "\n"
   ]
  },
  {
   "cell_type": "markdown",
   "metadata": {},
   "source": [
    "## <font color= #6B6B6B> 7.2 Results of Behavioral Finance </font>"
   ]
  },
  {
   "cell_type": "code",
   "execution_count": null,
   "metadata": {},
   "outputs": [],
   "source": [
    "# Disposition Effect\n",
    "\n"
   ]
  },
  {
   "cell_type": "markdown",
   "metadata": {},
   "source": [
    "<br>"
   ]
  },
  {
   "cell_type": "markdown",
   "metadata": {},
   "source": [
    "# <font color= #6B6B6B> <font size = 6> 8. References </font>"
   ]
  },
  {
   "cell_type": "markdown",
   "metadata": {},
   "source": [
    "<hr style=\"border:0.02in solid gray\"> </hr>"
   ]
  },
  {
   "cell_type": "markdown",
   "metadata": {},
   "source": [
    "[1] Munnoz, 2020. Python project template. https://github.com/iffranciscome/python-project. (2021)."
   ]
  },
  {
   "cell_type": "markdown",
   "metadata": {},
   "source": [
    "<br>"
   ]
  }
 ],
 "metadata": {
  "kernelspec": {
   "display_name": "lab2",
   "language": "python",
   "name": "lab2"
  },
  "language_info": {
   "codemirror_mode": {
    "name": "ipython",
    "version": 3
   },
   "file_extension": ".py",
   "mimetype": "text/x-python",
   "name": "python",
   "nbconvert_exporter": "python",
   "pygments_lexer": "ipython3",
   "version": "3.8.3"
  }
 },
 "nbformat": 4,
 "nbformat_minor": 4
}
